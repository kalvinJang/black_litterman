{
 "cells": [
  {
   "cell_type": "code",
   "execution_count": 1,
   "id": "12d3201b",
   "metadata": {},
   "outputs": [],
   "source": [
    "import pandas as pd\n",
    "import numpy as np\n",
    "import datetime\n",
    "from dateutil.relativedelta import relativedelta\n",
    "import matplotlib.pyplot as plt\n",
    "from plotly.offline import iplot\n",
    "import dash, palettable, dash_bootstrap_components, plotly_express, chart_studio, cufflinks"
   ]
  },
  {
   "cell_type": "markdown",
   "id": "73fcaa6e",
   "metadata": {},
   "source": [
    "### 새로 짠 함수는 여기에 ###"
   ]
  },
  {
   "cell_type": "code",
   "execution_count": 2,
   "id": "4754c44a",
   "metadata": {},
   "outputs": [],
   "source": [
    "data = pd.read_excel('./backtest.xlsx')\n",
    "data = data.set_index('index')\n",
    "rt = data.pct_change().dropna(how='all')"
   ]
  },
  {
   "cell_type": "code",
   "execution_count": 3,
   "id": "a1f967d6",
   "metadata": {},
   "outputs": [],
   "source": [
    "def drawdown(return_series: pd.Series):\n",
    "    \"\"\"Takes a time series of asset returns.\n",
    "       returns a DataFrame with columns for\n",
    "       the wealth index, \n",
    "       the previous peaks, and \n",
    "       the percentage drawdown\n",
    "    \"\"\"\n",
    "    wealth_index = 1000*(1+return_series).cumprod()\n",
    "    previous_peaks = wealth_index.cummax()\n",
    "    drawdowns = (wealth_index - previous_peaks)/previous_peaks\n",
    "    return pd.DataFrame({\"Wealth\": wealth_index, \n",
    "                         \"Previous Peak\": previous_peaks, \n",
    "                         \"Drawdown\": drawdowns})\n",
    "\n",
    "def cummdd(return_series: pd.Series):\n",
    "    return drawdown(return_series)['Drawdown'].cummin()"
   ]
  },
  {
   "cell_type": "code",
   "execution_count": 4,
   "id": "f6ff46cb",
   "metadata": {},
   "outputs": [],
   "source": [
    "def monthly_rebalanced_daily_history(rt, rebalance_weight, start_date, end_date, slpgCost=0):\n",
    "    if rt.shape[1]!=len(rebalance_weight):\n",
    "        raise Exception('The number of asset is not equal to that of weight')\n",
    "    rt = rt.loc[start_date:end_date, :]\n",
    "    weight = np.divide(rebalance_weight, sum(rebalance_weight))\n",
    "    \n",
    "    n_months = (relativedelta(pd.to_datetime(rt.index[-1]), pd.to_datetime(rt.index[0])).years*12 +\n",
    "                relativedelta(pd.to_datetime(rt.index[-1]), pd.to_datetime(rt.index[0])).months)\n",
    "    start = pd.date_range(start=rt.index[0], end=rt.index[-1], freq='BMS')\n",
    "    end = pd.date_range(start=rt.index[0], end=rt.index[-1], freq='BM')\n",
    "    temp = pd.DataFrame(weight).T\n",
    "    temp.columns = rt.columns\n",
    "    for i in range(n_months+1):\n",
    "        temp2 = (1+rt.loc[start[i].date():end[i].date(), :]) * weight\n",
    "        temp2.iloc[-1,:] = weight\n",
    "        temp = pd.concat([temp, temp2])\n",
    "    daily_weight = temp.shift(1).dropna(how='all')\n",
    "    daily_weight = daily_weight.apply(lambda x: x/np.sum(x), axis=1)\n",
    "    daily_weight.index = pd.to_datetime(daily_weight.index)\n",
    "    pf =  (daily_weight * (1+rt)).sum(1)\n",
    "    daily_history = pf.cumprod()/pf[0]*1000\n",
    "    daily_history.name = 'portfolio index'\n",
    "    pf.name = 'daily return(%)'\n",
    "    \n",
    "#     display(plt.plot(daily_history))\n",
    "    display(daily_history.iplot(kind='line'))\n",
    "    temp_result = pd.concat([daily_history, (pf-1)*100], axis=1)\n",
    "    \n",
    "    ########## Rolling performance ###################\n",
    "    \n",
    "    y1_rolling_daily_return = ((1+temp_result['daily return(%)']/100).rolling(260).apply(np.prod, raw=True) - 1)*100\n",
    "    y2_rolling_daily_return = ((1+temp_result['daily return(%)']/100).rolling(260*2).apply(np.prod, raw=True) - 1)*100\n",
    "    y3_rolling_daily_return = ((1+temp_result['daily return(%)']/100).rolling(260*3).apply(np.prod, raw=True) - 1)*100\n",
    "    y1_rolling_daily_return.name = 'y1_rolling_daily_return'\n",
    "    y2_rolling_daily_return.name = 'y2_rolling_daily_return'\n",
    "    y3_rolling_daily_return.name = 'y3_rolling_daily_return'\n",
    "    \n",
    "    annu_y1_r_daily_return = y1_rolling_daily_return.copy()\n",
    "    annu_y2_r_daily_return = ((1+y2_rolling_daily_return/100)**(1/2)-1)*100\n",
    "    annu_y3_r_daily_return = ((1+y3_rolling_daily_return/100)**(1/3)-1)*100\n",
    "    annu_y1_r_daily_return.name = 'annu_y1_r_daily_return'\n",
    "    annu_y2_r_daily_return.name = 'annu_y2_r_daily_return'\n",
    "    annu_y3_r_daily_return.name = 'annu_y3_r_daily_return'\n",
    "    \n",
    "    annu_y1_r_daily_vol = (temp_result['daily return(%)']/100).rolling(260).std() * np.sqrt(260) *100\n",
    "    annu_y2_r_daily_vol = (temp_result['daily return(%)']/100).rolling(260*2).std() * np.sqrt(260) *100\n",
    "    annu_y3_r_daily_vol = (temp_result['daily return(%)']/100).rolling(260*3).std() * np.sqrt(260)*100\n",
    "    annu_y1_r_daily_vol.name = 'annu_y1_r_daily_vol'\n",
    "    annu_y2_r_daily_vol.name = 'annu_y2_r_daily_vol'\n",
    "    annu_y3_r_daily_vol.name = 'annu_y3_r_daily_vol'\n",
    "    \n",
    "    \n",
    "    \n",
    "    rolling_return_result = pd.concat([y1_rolling_daily_return, y2_rolling_daily_return, y3_rolling_daily_return,\n",
    "                                      annu_y1_r_daily_return, annu_y2_r_daily_return, annu_y3_r_daily_return,\n",
    "                                      annu_y1_r_daily_vol, annu_y2_r_daily_vol, annu_y3_r_daily_vol], axis=1)\n",
    "    \n",
    "    return pd.concat([temp_result, rolling_return_result], axis=1).round(2)"
   ]
  },
  {
   "cell_type": "code",
   "execution_count": 5,
   "id": "1147ddff",
   "metadata": {},
   "outputs": [],
   "source": [
    "def record(rt, rebalance_weight, start_date, end_date, rebalancig_freq='M', slpgCost=0):\n",
    "    '''\n",
    "    rt : daily return_series : pd.DataFrame, dim : (# of days, # of assets)\n",
    "    weight : asset alocation weight : list\n",
    "    start_date, end_date : 'yyyy-mm' : str\n",
    "    rebalancig_freq : one of ['Y', 'M', 'D']\n",
    "    '''\n",
    "    # performance of portfolio, assets for each year\n",
    "    if rt.shape[1]!=len(rebalance_weight):\n",
    "        raise Exception('The number of asset is not equal to that of weight')\n",
    "    rt_resample = (1+rt.loc[start_date:end_date, :]).resample(rebalancig_freq).prod()-1\n",
    "    weight = np.divide(rebalance_weight, sum(rebalance_weight)).tolist()\n",
    "    pf_rt = (rt_resample * weight).sum(1) * (1-slpgCost)  #rebalancig_freq rt 구해서 weight랑 곱하는 방식\n",
    "    pf_rt.name='portfolio'\n",
    "    all_in_one = pd.concat([pf_rt, rt_resample], axis=1)   #기준 0인 rebalancig_freq return\n",
    "    result_table_yearly = (((1+all_in_one).resample('Y').prod()-1)*100).round(2)\n",
    "    result_table_yearly.index = pd.to_datetime(result_table_yearly.index).year\n",
    "    \n",
    "    #calculate cumulative return, annualized return, SD, R/SD, MDD and merge to result table\n",
    "    cum_return = ((1+all_in_one).prod()-1)*100   #단위가 %,  cum_return값이 42면 n년 동안 142%가 되었다. 1.42배 됐다\n",
    "#     num_of_days = (all_in_one.index[-1] - all_in_one.index[0]).days    #이건 business day가 아님\n",
    "    num_of_days = rt.shape[0]\n",
    "    annu_return = (((1+all_in_one).prod()**(260/num_of_days))-1)*100  #이미 단위가 %이므로  ann_return값이 1.41이면 매년 1.4%씩 성장\n",
    "    if rebalancig_freq=='M':\n",
    "        n = 12\n",
    "    elif rebalancig_freq=='W':\n",
    "        n =52\n",
    "    elif rebalancig_freq=='D':\n",
    "        n = 260\n",
    "    \n",
    "    SD = np.std(all_in_one) * np.sqrt(n) * 100\n",
    "    MDD=all_in_one.apply(cummdd).iloc[-1,:]*100\n",
    "    record = pd.DataFrame({\n",
    "        'cum_return(%)': cum_return,\n",
    "        'annu_return(%)': annu_return,\n",
    "        'SD(%)':SD,\n",
    "        'MDD(%)': MDD,\n",
    "        'R/SD':np.divide(annu_return, SD.tolist()),\n",
    "        'R/MDD': -np.divide(annu_return, MDD)\n",
    "    })\n",
    "    cum_return_display = (1+all_in_one).cumprod()['portfolio']\n",
    "#     display(plt.plot(cum_return_display*1000))\n",
    "#     display((1000*cum_return_display).iplot(kind='line'))\n",
    "    return pd.concat([record.T, result_table_yearly]).round(2), cum_return_display"
   ]
  },
  {
   "cell_type": "code",
   "execution_count": 6,
   "id": "27042ed9",
   "metadata": {
    "scrolled": false
   },
   "outputs": [],
   "source": [
    "return_data = rt\n",
    "weight_list = [0.4,0.3,0.3]\n",
    "start = '2009'\n",
    "end='2023'\n",
    "rebalancig_freq = 'M'\n",
    "slpgCost = 0\n",
    "\n",
    "perf_table, cum_return_display = record(return_data, weight_list, start, end, rebalancig_freq, slpgCost)"
   ]
  },
  {
   "cell_type": "code",
   "execution_count": 7,
   "id": "174e2d10",
   "metadata": {},
   "outputs": [
    {
     "ename": "PlotlyRequestError",
     "evalue": "Authentication credentials were not provided.",
     "output_type": "error",
     "traceback": [
      "\u001b[1;31m---------------------------------------------------------------------------\u001b[0m",
      "\u001b[1;31mPlotlyRequestError\u001b[0m                        Traceback (most recent call last)",
      "Input \u001b[1;32mIn [7]\u001b[0m, in \u001b[0;36m<cell line: 1>\u001b[1;34m()\u001b[0m\n\u001b[1;32m----> 1\u001b[0m \u001b[43m(\u001b[49m\u001b[38;5;241;43m1000\u001b[39;49m\u001b[38;5;241;43m*\u001b[39;49m\u001b[43mcum_return_display\u001b[49m\u001b[43m)\u001b[49m\u001b[38;5;241;43m.\u001b[39;49m\u001b[43miplot\u001b[49m\u001b[43m(\u001b[49m\u001b[43mkind\u001b[49m\u001b[38;5;241;43m=\u001b[39;49m\u001b[38;5;124;43m'\u001b[39;49m\u001b[38;5;124;43mline\u001b[39;49m\u001b[38;5;124;43m'\u001b[39;49m\u001b[43m)\u001b[49m\n",
      "File \u001b[1;32m~\\Anaconda3\\envs\\python396\\lib\\site-packages\\cufflinks\\plotlytools.py:1216\u001b[0m, in \u001b[0;36m_iplot\u001b[1;34m(self, kind, data, layout, filename, sharing, title, xTitle, yTitle, zTitle, theme, colors, colorscale, fill, width, dash, mode, interpolation, symbol, size, barmode, sortbars, bargap, bargroupgap, bins, histnorm, histfunc, orientation, boxpoints, annotations, keys, bestfit, bestfit_colors, mean, mean_colors, categories, x, y, z, text, gridcolor, zerolinecolor, margin, labels, values, secondary_y, secondary_y_title, subplots, shape, error_x, error_y, error_type, locations, lon, lat, asFrame, asDates, asFigure, asImage, dimensions, asPlot, asUrl, online, **kwargs)\u001b[0m\n\u001b[0;32m   1214\u001b[0m \t\u001b[38;5;28;01mreturn\u001b[39;00m Figure(figure)\n\u001b[0;32m   1215\u001b[0m \u001b[38;5;28;01melse\u001b[39;00m:\n\u001b[1;32m-> 1216\u001b[0m \t\u001b[38;5;28;01mreturn\u001b[39;00m \u001b[43miplot\u001b[49m\u001b[43m(\u001b[49m\u001b[43mfigure\u001b[49m\u001b[43m,\u001b[49m\u001b[43mvalidate\u001b[49m\u001b[38;5;241;43m=\u001b[39;49m\u001b[43mvalidate\u001b[49m\u001b[43m,\u001b[49m\u001b[43msharing\u001b[49m\u001b[38;5;241;43m=\u001b[39;49m\u001b[43msharing\u001b[49m\u001b[43m,\u001b[49m\u001b[43mfilename\u001b[49m\u001b[38;5;241;43m=\u001b[39;49m\u001b[43mfilename\u001b[49m\u001b[43m,\u001b[49m\n\u001b[0;32m   1217\u001b[0m \u001b[43m\t\t \u001b[49m\u001b[43monline\u001b[49m\u001b[38;5;241;43m=\u001b[39;49m\u001b[43monline\u001b[49m\u001b[43m,\u001b[49m\u001b[43masImage\u001b[49m\u001b[38;5;241;43m=\u001b[39;49m\u001b[43masImage\u001b[49m\u001b[43m,\u001b[49m\u001b[43masUrl\u001b[49m\u001b[38;5;241;43m=\u001b[39;49m\u001b[43masUrl\u001b[49m\u001b[43m,\u001b[49m\u001b[43masPlot\u001b[49m\u001b[38;5;241;43m=\u001b[39;49m\u001b[43masPlot\u001b[49m\u001b[43m,\u001b[49m\n\u001b[0;32m   1218\u001b[0m \u001b[43m\t\t \u001b[49m\u001b[43mdimensions\u001b[49m\u001b[38;5;241;43m=\u001b[39;49m\u001b[43mdimensions\u001b[49m\u001b[43m,\u001b[49m\u001b[43mdisplay_image\u001b[49m\u001b[38;5;241;43m=\u001b[39;49m\u001b[43mkwargs\u001b[49m\u001b[38;5;241;43m.\u001b[39;49m\u001b[43mget\u001b[49m\u001b[43m(\u001b[49m\u001b[38;5;124;43m'\u001b[39;49m\u001b[38;5;124;43mdisplay_image\u001b[39;49m\u001b[38;5;124;43m'\u001b[39;49m\u001b[43m,\u001b[49m\u001b[38;5;28;43;01mTrue\u001b[39;49;00m\u001b[43m)\u001b[49m\u001b[43m)\u001b[49m\n",
      "File \u001b[1;32m~\\Anaconda3\\envs\\python396\\lib\\site-packages\\cufflinks\\plotlytools.py:1470\u001b[0m, in \u001b[0;36miplot\u001b[1;34m(figure, validate, sharing, filename, online, asImage, asUrl, asPlot, dimensions, display_image, **kwargs)\u001b[0m\n\u001b[0;32m   1468\u001b[0m \t\u001b[38;5;28;01mreturn\u001b[39;00m offline\u001b[38;5;241m.\u001b[39mpy_offline\u001b[38;5;241m.\u001b[39miplot(figure, validate\u001b[38;5;241m=\u001b[39mvalidate, filename\u001b[38;5;241m=\u001b[39mfilename, show_link\u001b[38;5;241m=\u001b[39mshow_link, link_text\u001b[38;5;241m=\u001b[39mlink_text, config\u001b[38;5;241m=\u001b[39mconfig)\n\u001b[0;32m   1469\u001b[0m \u001b[38;5;28;01melse\u001b[39;00m:\t\t\n\u001b[1;32m-> 1470\u001b[0m \t\u001b[38;5;28;01mreturn\u001b[39;00m \u001b[43mpy\u001b[49m\u001b[38;5;241;43m.\u001b[39;49m\u001b[43miplot\u001b[49m\u001b[43m(\u001b[49m\u001b[43mfigure\u001b[49m\u001b[43m,\u001b[49m\u001b[43mvalidate\u001b[49m\u001b[38;5;241;43m=\u001b[39;49m\u001b[43mvalidate\u001b[49m\u001b[43m,\u001b[49m\u001b[43msharing\u001b[49m\u001b[38;5;241;43m=\u001b[39;49m\u001b[43msharing\u001b[49m\u001b[43m,\u001b[49m\n\u001b[0;32m   1471\u001b[0m \u001b[43m\t\t\t\t\t\u001b[49m\u001b[43mfilename\u001b[49m\u001b[38;5;241;43m=\u001b[39;49m\u001b[43mfilename\u001b[49m\u001b[43m)\u001b[49m\n",
      "File \u001b[1;32m~\\Anaconda3\\envs\\python396\\lib\\site-packages\\chart_studio\\plotly\\plotly.py:135\u001b[0m, in \u001b[0;36miplot\u001b[1;34m(figure_or_data, **plot_options)\u001b[0m\n\u001b[0;32m    133\u001b[0m \u001b[38;5;28;01mif\u001b[39;00m \u001b[38;5;124m\"\u001b[39m\u001b[38;5;124mauto_open\u001b[39m\u001b[38;5;124m\"\u001b[39m \u001b[38;5;129;01mnot\u001b[39;00m \u001b[38;5;129;01min\u001b[39;00m plot_options:\n\u001b[0;32m    134\u001b[0m     plot_options[\u001b[38;5;124m\"\u001b[39m\u001b[38;5;124mauto_open\u001b[39m\u001b[38;5;124m\"\u001b[39m] \u001b[38;5;241m=\u001b[39m \u001b[38;5;28;01mFalse\u001b[39;00m\n\u001b[1;32m--> 135\u001b[0m url \u001b[38;5;241m=\u001b[39m plot(figure_or_data, \u001b[38;5;241m*\u001b[39m\u001b[38;5;241m*\u001b[39mplot_options)\n\u001b[0;32m    137\u001b[0m \u001b[38;5;28;01mif\u001b[39;00m \u001b[38;5;28misinstance\u001b[39m(figure_or_data, \u001b[38;5;28mdict\u001b[39m):\n\u001b[0;32m    138\u001b[0m     layout \u001b[38;5;241m=\u001b[39m figure_or_data\u001b[38;5;241m.\u001b[39mget(\u001b[38;5;124m\"\u001b[39m\u001b[38;5;124mlayout\u001b[39m\u001b[38;5;124m\"\u001b[39m, {})\n",
      "File \u001b[1;32m~\\Anaconda3\\envs\\python396\\lib\\site-packages\\chart_studio\\plotly\\plotly.py:276\u001b[0m, in \u001b[0;36mplot\u001b[1;34m(figure_or_data, validate, **plot_options)\u001b[0m\n\u001b[0;32m    273\u001b[0m \u001b[38;5;28;01melse\u001b[39;00m:\n\u001b[0;32m    274\u001b[0m     grid_filename \u001b[38;5;241m=\u001b[39m filename \u001b[38;5;241m+\u001b[39m \u001b[38;5;124m\"\u001b[39m\u001b[38;5;124m_grid\u001b[39m\u001b[38;5;124m\"\u001b[39m\n\u001b[1;32m--> 276\u001b[0m \u001b[43mgrid_ops\u001b[49m\u001b[38;5;241;43m.\u001b[39;49m\u001b[43mupload\u001b[49m\u001b[43m(\u001b[49m\n\u001b[0;32m    277\u001b[0m \u001b[43m    \u001b[49m\u001b[43mgrid\u001b[49m\u001b[38;5;241;43m=\u001b[39;49m\u001b[43mgrid\u001b[49m\u001b[43m,\u001b[49m\n\u001b[0;32m    278\u001b[0m \u001b[43m    \u001b[49m\u001b[43mfilename\u001b[49m\u001b[38;5;241;43m=\u001b[39;49m\u001b[43mgrid_filename\u001b[49m\u001b[43m,\u001b[49m\n\u001b[0;32m    279\u001b[0m \u001b[43m    \u001b[49m\u001b[43mworld_readable\u001b[49m\u001b[38;5;241;43m=\u001b[39;49m\u001b[43mpayload\u001b[49m\u001b[43m[\u001b[49m\u001b[38;5;124;43m\"\u001b[39;49m\u001b[38;5;124;43mworld_readable\u001b[39;49m\u001b[38;5;124;43m\"\u001b[39;49m\u001b[43m]\u001b[49m\u001b[43m,\u001b[49m\n\u001b[0;32m    280\u001b[0m \u001b[43m    \u001b[49m\u001b[43mauto_open\u001b[49m\u001b[38;5;241;43m=\u001b[39;49m\u001b[38;5;28;43;01mFalse\u001b[39;49;00m\u001b[43m,\u001b[49m\n\u001b[0;32m    281\u001b[0m \u001b[43m\u001b[49m\u001b[43m)\u001b[49m\n\u001b[0;32m    283\u001b[0m _set_grid_column_references(figure, grid)\n\u001b[0;32m    284\u001b[0m payload[\u001b[38;5;124m\"\u001b[39m\u001b[38;5;124mfigure\u001b[39m\u001b[38;5;124m\"\u001b[39m] \u001b[38;5;241m=\u001b[39m figure\n",
      "File \u001b[1;32m~\\Anaconda3\\envs\\python396\\lib\\site-packages\\chart_studio\\plotly\\plotly.py:1087\u001b[0m, in \u001b[0;36mgrid_ops.upload\u001b[1;34m(cls, grid, filename, world_readable, auto_open, meta)\u001b[0m\n\u001b[0;32m   1084\u001b[0m     \u001b[38;5;28;01mif\u001b[39;00m parent_path:\n\u001b[0;32m   1085\u001b[0m         payload[\u001b[38;5;124m\"\u001b[39m\u001b[38;5;124mparent_path\u001b[39m\u001b[38;5;124m\"\u001b[39m] \u001b[38;5;241m=\u001b[39m parent_path\n\u001b[1;32m-> 1087\u001b[0m file_info \u001b[38;5;241m=\u001b[39m \u001b[43m_create_or_overwrite_grid\u001b[49m\u001b[43m(\u001b[49m\u001b[43mpayload\u001b[49m\u001b[43m)\u001b[49m\n\u001b[0;32m   1089\u001b[0m cols \u001b[38;5;241m=\u001b[39m file_info[\u001b[38;5;124m\"\u001b[39m\u001b[38;5;124mcols\u001b[39m\u001b[38;5;124m\"\u001b[39m]\n\u001b[0;32m   1090\u001b[0m fid \u001b[38;5;241m=\u001b[39m file_info[\u001b[38;5;124m\"\u001b[39m\u001b[38;5;124mfid\u001b[39m\u001b[38;5;124m\"\u001b[39m]\n",
      "File \u001b[1;32m~\\Anaconda3\\envs\\python396\\lib\\site-packages\\chart_studio\\plotly\\plotly.py:1550\u001b[0m, in \u001b[0;36m_create_or_overwrite_grid\u001b[1;34m(data, max_retries)\u001b[0m\n\u001b[0;32m   1548\u001b[0m \u001b[38;5;66;03m# Create file\u001b[39;00m\n\u001b[0;32m   1549\u001b[0m \u001b[38;5;28;01mtry\u001b[39;00m:\n\u001b[1;32m-> 1550\u001b[0m     res \u001b[38;5;241m=\u001b[39m \u001b[43mapi_module\u001b[49m\u001b[38;5;241;43m.\u001b[39;49m\u001b[43mcreate\u001b[49m\u001b[43m(\u001b[49m\u001b[43mdata\u001b[49m\u001b[43m)\u001b[49m\n\u001b[0;32m   1551\u001b[0m \u001b[38;5;28;01mexcept\u001b[39;00m exceptions\u001b[38;5;241m.\u001b[39mPlotlyRequestError \u001b[38;5;28;01mas\u001b[39;00m e:\n\u001b[0;32m   1552\u001b[0m     \u001b[38;5;28;01mif\u001b[39;00m max_retries \u001b[38;5;241m>\u001b[39m \u001b[38;5;241m0\u001b[39m \u001b[38;5;129;01mand\u001b[39;00m \u001b[38;5;124m\"\u001b[39m\u001b[38;5;124malready exists\u001b[39m\u001b[38;5;124m\"\u001b[39m \u001b[38;5;129;01min\u001b[39;00m e\u001b[38;5;241m.\u001b[39mmessage:\n\u001b[0;32m   1553\u001b[0m         \u001b[38;5;66;03m# Retry _create_or_overwrite\u001b[39;00m\n",
      "File \u001b[1;32m~\\Anaconda3\\envs\\python396\\lib\\site-packages\\chart_studio\\api\\v2\\grids.py:18\u001b[0m, in \u001b[0;36mcreate\u001b[1;34m(body)\u001b[0m\n\u001b[0;32m     10\u001b[0m \u001b[38;5;124;03m\"\"\"\u001b[39;00m\n\u001b[0;32m     11\u001b[0m \u001b[38;5;124;03mCreate a new grid.\u001b[39;00m\n\u001b[0;32m     12\u001b[0m \n\u001b[1;32m   (...)\u001b[0m\n\u001b[0;32m     15\u001b[0m \n\u001b[0;32m     16\u001b[0m \u001b[38;5;124;03m\"\"\"\u001b[39;00m\n\u001b[0;32m     17\u001b[0m url \u001b[38;5;241m=\u001b[39m build_url(RESOURCE)\n\u001b[1;32m---> 18\u001b[0m \u001b[38;5;28;01mreturn\u001b[39;00m \u001b[43mrequest\u001b[49m\u001b[43m(\u001b[49m\u001b[38;5;124;43m\"\u001b[39;49m\u001b[38;5;124;43mpost\u001b[39;49m\u001b[38;5;124;43m\"\u001b[39;49m\u001b[43m,\u001b[49m\u001b[43m \u001b[49m\u001b[43murl\u001b[49m\u001b[43m,\u001b[49m\u001b[43m \u001b[49m\u001b[43mjson\u001b[49m\u001b[38;5;241;43m=\u001b[39;49m\u001b[43mbody\u001b[49m\u001b[43m)\u001b[49m\n",
      "File \u001b[1;32m~\\Anaconda3\\envs\\python396\\lib\\site-packages\\retrying.py:56\u001b[0m, in \u001b[0;36mretry.<locals>.wrap.<locals>.wrapped_f\u001b[1;34m(*args, **kw)\u001b[0m\n\u001b[0;32m     54\u001b[0m \u001b[38;5;129m@six\u001b[39m\u001b[38;5;241m.\u001b[39mwraps(f)\n\u001b[0;32m     55\u001b[0m \u001b[38;5;28;01mdef\u001b[39;00m \u001b[38;5;21mwrapped_f\u001b[39m(\u001b[38;5;241m*\u001b[39margs, \u001b[38;5;241m*\u001b[39m\u001b[38;5;241m*\u001b[39mkw):\n\u001b[1;32m---> 56\u001b[0m     \u001b[38;5;28;01mreturn\u001b[39;00m Retrying(\u001b[38;5;241m*\u001b[39mdargs, \u001b[38;5;241m*\u001b[39m\u001b[38;5;241m*\u001b[39mdkw)\u001b[38;5;241m.\u001b[39mcall(f, \u001b[38;5;241m*\u001b[39margs, \u001b[38;5;241m*\u001b[39m\u001b[38;5;241m*\u001b[39mkw)\n",
      "File \u001b[1;32m~\\Anaconda3\\envs\\python396\\lib\\site-packages\\retrying.py:257\u001b[0m, in \u001b[0;36mRetrying.call\u001b[1;34m(self, fn, *args, **kwargs)\u001b[0m\n\u001b[0;32m    254\u001b[0m     attempt \u001b[38;5;241m=\u001b[39m Attempt(tb, attempt_number, \u001b[38;5;28;01mTrue\u001b[39;00m)\n\u001b[0;32m    256\u001b[0m \u001b[38;5;28;01mif\u001b[39;00m \u001b[38;5;129;01mnot\u001b[39;00m \u001b[38;5;28mself\u001b[39m\u001b[38;5;241m.\u001b[39mshould_reject(attempt):\n\u001b[1;32m--> 257\u001b[0m     \u001b[38;5;28;01mreturn\u001b[39;00m \u001b[43mattempt\u001b[49m\u001b[38;5;241;43m.\u001b[39;49m\u001b[43mget\u001b[49m\u001b[43m(\u001b[49m\u001b[38;5;28;43mself\u001b[39;49m\u001b[38;5;241;43m.\u001b[39;49m\u001b[43m_wrap_exception\u001b[49m\u001b[43m)\u001b[49m\n\u001b[0;32m    259\u001b[0m \u001b[38;5;28;01mif\u001b[39;00m \u001b[38;5;28mself\u001b[39m\u001b[38;5;241m.\u001b[39m_after_attempts:\n\u001b[0;32m    260\u001b[0m     \u001b[38;5;28mself\u001b[39m\u001b[38;5;241m.\u001b[39m_after_attempts(attempt_number)\n",
      "File \u001b[1;32m~\\Anaconda3\\envs\\python396\\lib\\site-packages\\retrying.py:301\u001b[0m, in \u001b[0;36mAttempt.get\u001b[1;34m(self, wrap_exception)\u001b[0m\n\u001b[0;32m    299\u001b[0m         \u001b[38;5;28;01mraise\u001b[39;00m RetryError(\u001b[38;5;28mself\u001b[39m)\n\u001b[0;32m    300\u001b[0m     \u001b[38;5;28;01melse\u001b[39;00m:\n\u001b[1;32m--> 301\u001b[0m         \u001b[43msix\u001b[49m\u001b[38;5;241;43m.\u001b[39;49m\u001b[43mreraise\u001b[49m\u001b[43m(\u001b[49m\u001b[38;5;28;43mself\u001b[39;49m\u001b[38;5;241;43m.\u001b[39;49m\u001b[43mvalue\u001b[49m\u001b[43m[\u001b[49m\u001b[38;5;241;43m0\u001b[39;49m\u001b[43m]\u001b[49m\u001b[43m,\u001b[49m\u001b[43m \u001b[49m\u001b[38;5;28;43mself\u001b[39;49m\u001b[38;5;241;43m.\u001b[39;49m\u001b[43mvalue\u001b[49m\u001b[43m[\u001b[49m\u001b[38;5;241;43m1\u001b[39;49m\u001b[43m]\u001b[49m\u001b[43m,\u001b[49m\u001b[43m \u001b[49m\u001b[38;5;28;43mself\u001b[39;49m\u001b[38;5;241;43m.\u001b[39;49m\u001b[43mvalue\u001b[49m\u001b[43m[\u001b[49m\u001b[38;5;241;43m2\u001b[39;49m\u001b[43m]\u001b[49m\u001b[43m)\u001b[49m\n\u001b[0;32m    302\u001b[0m \u001b[38;5;28;01melse\u001b[39;00m:\n\u001b[0;32m    303\u001b[0m     \u001b[38;5;28;01mreturn\u001b[39;00m \u001b[38;5;28mself\u001b[39m\u001b[38;5;241m.\u001b[39mvalue\n",
      "File \u001b[1;32m~\\Anaconda3\\envs\\python396\\lib\\site-packages\\six.py:719\u001b[0m, in \u001b[0;36mreraise\u001b[1;34m(tp, value, tb)\u001b[0m\n\u001b[0;32m    717\u001b[0m     \u001b[38;5;28;01mif\u001b[39;00m value\u001b[38;5;241m.\u001b[39m__traceback__ \u001b[38;5;129;01mis\u001b[39;00m \u001b[38;5;129;01mnot\u001b[39;00m tb:\n\u001b[0;32m    718\u001b[0m         \u001b[38;5;28;01mraise\u001b[39;00m value\u001b[38;5;241m.\u001b[39mwith_traceback(tb)\n\u001b[1;32m--> 719\u001b[0m     \u001b[38;5;28;01mraise\u001b[39;00m value\n\u001b[0;32m    720\u001b[0m \u001b[38;5;28;01mfinally\u001b[39;00m:\n\u001b[0;32m    721\u001b[0m     value \u001b[38;5;241m=\u001b[39m \u001b[38;5;28;01mNone\u001b[39;00m\n",
      "File \u001b[1;32m~\\Anaconda3\\envs\\python396\\lib\\site-packages\\retrying.py:251\u001b[0m, in \u001b[0;36mRetrying.call\u001b[1;34m(self, fn, *args, **kwargs)\u001b[0m\n\u001b[0;32m    248\u001b[0m     \u001b[38;5;28mself\u001b[39m\u001b[38;5;241m.\u001b[39m_before_attempts(attempt_number)\n\u001b[0;32m    250\u001b[0m \u001b[38;5;28;01mtry\u001b[39;00m:\n\u001b[1;32m--> 251\u001b[0m     attempt \u001b[38;5;241m=\u001b[39m Attempt(fn(\u001b[38;5;241m*\u001b[39margs, \u001b[38;5;241m*\u001b[39m\u001b[38;5;241m*\u001b[39mkwargs), attempt_number, \u001b[38;5;28;01mFalse\u001b[39;00m)\n\u001b[0;32m    252\u001b[0m \u001b[38;5;28;01mexcept\u001b[39;00m:\n\u001b[0;32m    253\u001b[0m     tb \u001b[38;5;241m=\u001b[39m sys\u001b[38;5;241m.\u001b[39mexc_info()\n",
      "File \u001b[1;32m~\\Anaconda3\\envs\\python396\\lib\\site-packages\\chart_studio\\api\\v2\\utils.py:180\u001b[0m, in \u001b[0;36mrequest\u001b[1;34m(method, url, **kwargs)\u001b[0m\n\u001b[0;32m    178\u001b[0m     content \u001b[38;5;241m=\u001b[39m response\u001b[38;5;241m.\u001b[39mcontent \u001b[38;5;28;01mif\u001b[39;00m response \u001b[38;5;28;01melse\u001b[39;00m \u001b[38;5;124m\"\u001b[39m\u001b[38;5;124mNo content\u001b[39m\u001b[38;5;124m\"\u001b[39m\n\u001b[0;32m    179\u001b[0m     \u001b[38;5;28;01mraise\u001b[39;00m exceptions\u001b[38;5;241m.\u001b[39mPlotlyRequestError(message, status_code, content)\n\u001b[1;32m--> 180\u001b[0m \u001b[43mvalidate_response\u001b[49m\u001b[43m(\u001b[49m\u001b[43mresponse\u001b[49m\u001b[43m)\u001b[49m\n\u001b[0;32m    181\u001b[0m \u001b[38;5;28;01mreturn\u001b[39;00m response\n",
      "File \u001b[1;32m~\\Anaconda3\\envs\\python396\\lib\\site-packages\\chart_studio\\api\\v2\\utils.py:82\u001b[0m, in \u001b[0;36mvalidate_response\u001b[1;34m(response)\u001b[0m\n\u001b[0;32m     79\u001b[0m \u001b[38;5;28;01mif\u001b[39;00m \u001b[38;5;129;01mnot\u001b[39;00m message:\n\u001b[0;32m     80\u001b[0m     message \u001b[38;5;241m=\u001b[39m content \u001b[38;5;28;01mif\u001b[39;00m content \u001b[38;5;28;01melse\u001b[39;00m \u001b[38;5;124m\"\u001b[39m\u001b[38;5;124mNo Content\u001b[39m\u001b[38;5;124m\"\u001b[39m\n\u001b[1;32m---> 82\u001b[0m \u001b[38;5;28;01mraise\u001b[39;00m exceptions\u001b[38;5;241m.\u001b[39mPlotlyRequestError(message, status_code, content)\n",
      "\u001b[1;31mPlotlyRequestError\u001b[0m: Authentication credentials were not provided."
     ]
    }
   ],
   "source": [
    "(1000*cum_return_display).iplot(kind='line')"
   ]
  },
  {
   "cell_type": "code",
   "execution_count": null,
   "id": "f787430f",
   "metadata": {},
   "outputs": [],
   "source": [
    "# display(plt.bar(x=perf_table['portfolio'][6:].index, height = perf_table['portfolio'][6:], ))\n",
    "display(perf_table['portfolio'][6:].iplot(kind='bar'))\n",
    "perf_table"
   ]
  },
  {
   "cell_type": "code",
   "execution_count": null,
   "id": "9a99b5bf",
   "metadata": {},
   "outputs": [],
   "source": [
    "scatter_data"
   ]
  },
  {
   "cell_type": "code",
   "execution_count": null,
   "id": "5988d4af",
   "metadata": {},
   "outputs": [],
   "source": [
    "import plotly.express as px\n",
    "scatter_data = perf_table.iloc[1:3,:].T\n",
    "\n",
    "# y = scatter_data.iloc[0,:].tolist()\n",
    "# x = scatter_data.iloc[1,:].tolist()\n",
    "# n = scatter_data.columns.tolist()\n",
    "\n",
    "# fig, ax = plt.subplots()\n",
    "# ax.scatter(x,y)\n",
    "\n",
    "# for i, txt in enumerate(n):\n",
    "#     ax.annotate(txt, (x[i], y[i]))\n",
    "\n",
    "px.scatter(scatter_data, x=\"SD(%)\", y=\"annu_return(%)\", symbol =scatter_data.index, color=scatter_data.index,\n",
    "          size=scatter_data[\"annu_return(%)\"]/scatter_data['SD(%)'], text=scatter_data.index)"
   ]
  },
  {
   "cell_type": "code",
   "execution_count": null,
   "id": "638914a2",
   "metadata": {
    "scrolled": false
   },
   "outputs": [],
   "source": [
    "x = monthly_rebalanced_daily_history(return_data, weight_list, start, end)\n",
    "x"
   ]
  },
  {
   "cell_type": "code",
   "execution_count": null,
   "id": "a634c3e2",
   "metadata": {},
   "outputs": [],
   "source": [
    "dd = drawdown(x['daily return(%)']/100)['Drawdown']*100\n",
    "# plt.fill_between(dd.index[0:-1], dd[0:-1])\n",
    "dd.iplot(kind='area', fill=True)"
   ]
  },
  {
   "cell_type": "code",
   "execution_count": null,
   "id": "1f065150",
   "metadata": {},
   "outputs": [],
   "source": [
    "def rolling_performance(x, target_rate=7):\n",
    "    result = pd.DataFrame({\n",
    "        '1Y':[\n",
    "            x.shape[0],x['y1_rolling_daily_return'].dropna().shape[0],\n",
    "            x['y1_rolling_daily_return'].dropna().mean(), x['annu_y1_r_daily_return'].dropna().mean(),\n",
    "            x['annu_y1_r_daily_vol'].dropna().mean(),\n",
    "            x['y1_rolling_daily_return'].dropna().mean()/x['annu_y1_r_daily_vol'].dropna().mean(),\n",
    "            x['y1_rolling_daily_return'].dropna().max(), x['annu_y1_r_daily_return'].dropna().max(),\n",
    "            x['y1_rolling_daily_return'].dropna().min(), x['annu_y1_r_daily_return'].dropna().min(),\n",
    "            (x['y1_rolling_daily_return'].dropna()<0).sum(), 100*(x['y1_rolling_daily_return'].dropna()<0).sum()/x['y1_rolling_daily_return'].dropna().shape[0],\n",
    "            ((x['y1_rolling_daily_return'].dropna()<0) * x['y1_rolling_daily_return'].dropna()).mean(),\n",
    "            ((x['annu_y1_r_daily_return'].dropna()<0) * x['annu_y1_r_daily_return'].dropna()).mean(),\n",
    "            100*(x['y1_rolling_daily_return'].dropna()>target_rate).sum()/x['y1_rolling_daily_return'].dropna().shape[0]\n",
    "             ],\n",
    "        \n",
    "        '2Y':[\n",
    "            x.shape[0],x['y2_rolling_daily_return'].dropna().shape[0],\n",
    "            x['y2_rolling_daily_return'].dropna().mean(), x['annu_y2_r_daily_return'].dropna().mean(),\n",
    "            x['annu_y2_r_daily_vol'].dropna().mean(),\n",
    "            x['y2_rolling_daily_return'].dropna().mean()/x['annu_y2_r_daily_vol'].dropna().mean(),\n",
    "            x['y2_rolling_daily_return'].dropna().max(), x['annu_y2_r_daily_return'].dropna().max(),\n",
    "            x['y2_rolling_daily_return'].dropna().min(), x['annu_y2_r_daily_return'].dropna().min(),\n",
    "            (x['y2_rolling_daily_return'].dropna()<0).sum(), 100*(x['y2_rolling_daily_return'].dropna()<0).sum()/x['y2_rolling_daily_return'].dropna().shape[0],\n",
    "            ((x['y2_rolling_daily_return'].dropna()<0) * x['y2_rolling_daily_return'].dropna()).mean(),\n",
    "            ((x['annu_y2_r_daily_return'].dropna()<0) * x['annu_y2_r_daily_return'].dropna()).mean(),\n",
    "            100*(x['y2_rolling_daily_return'].dropna()>target_rate).sum()/x['y2_rolling_daily_return'].dropna().shape[0]\n",
    "             ],\n",
    "        \n",
    "        '3Y':[\n",
    "            x.shape[0],x['y3_rolling_daily_return'].dropna().shape[0],\n",
    "            x['y3_rolling_daily_return'].dropna().mean(), x['annu_y3_r_daily_return'].dropna().mean(),\n",
    "            x['annu_y3_r_daily_vol'].dropna().mean(),\n",
    "            x['y3_rolling_daily_return'].dropna().mean()/x['annu_y3_r_daily_vol'].dropna().mean(),\n",
    "            x['y3_rolling_daily_return'].dropna().max(), x['annu_y3_r_daily_return'].dropna().max(),\n",
    "            x['y3_rolling_daily_return'].dropna().min(), x['annu_y3_r_daily_return'].dropna().min(),\n",
    "            (x['y3_rolling_daily_return'].dropna()<0).sum(), 100*(x['y3_rolling_daily_return'].dropna()<0).sum()/x['y3_rolling_daily_return'].dropna().shape[0],\n",
    "            ((x['y3_rolling_daily_return'].dropna()<0) * x['y3_rolling_daily_return'].dropna()).mean(),\n",
    "            ((x['annu_y3_r_daily_return'].dropna()<0) * x['annu_y3_r_daily_return'].dropna()).mean(),\n",
    "            100*(x['y3_rolling_daily_return'].dropna()>target_rate).sum()/x['y3_rolling_daily_return'].dropna().shape[0]\n",
    "             ]\n",
    "    })\n",
    "    result.index = ['총 관찰일수', '시행횟수', '평균 누적수익률(%)', '평균 연수익률(%)', '평균 연변동성(%)', 'R/SD', \n",
    "                   '기간 최대(%)', '연환산 최대(%)', '기간 최저(%)', '연환산 최저(%)', '손실횟수', '손실확률(%)',\n",
    "                   '기간 평균손실(%)', '연환산 평균손실(%)', '목표수익률 상회 확률(%)']\n",
    "    return result"
   ]
  },
  {
   "cell_type": "code",
   "execution_count": null,
   "id": "503157b5",
   "metadata": {
    "scrolled": false
   },
   "outputs": [],
   "source": [
    "rolling_performance(x, target_rate=4)"
   ]
  },
  {
   "cell_type": "code",
   "execution_count": null,
   "id": "b2989de3",
   "metadata": {},
   "outputs": [],
   "source": []
  },
  {
   "cell_type": "markdown",
   "id": "a1dbd0c8",
   "metadata": {},
   "source": [
    "## plotly를 이용해서 그래프를 그려보자"
   ]
  },
  {
   "cell_type": "code",
   "execution_count": 17,
   "id": "05c62240",
   "metadata": {},
   "outputs": [
    {
     "data": {
      "text/html": [
       "        <script type=\"text/javascript\">\n",
       "        window.PlotlyConfig = {MathJaxConfig: 'local'};\n",
       "        if (window.MathJax && window.MathJax.Hub && window.MathJax.Hub.Config) {window.MathJax.Hub.Config({SVG: {font: \"STIX-Web\"}});}\n",
       "        if (typeof require !== 'undefined') {\n",
       "        require.undef(\"plotly\");\n",
       "        requirejs.config({\n",
       "            paths: {\n",
       "                'plotly': ['https://cdn.plot.ly/plotly-2.12.1.min']\n",
       "            }\n",
       "        });\n",
       "        require(['plotly'], function(Plotly) {\n",
       "            window._Plotly = Plotly;\n",
       "        });\n",
       "        }\n",
       "        </script>\n",
       "        "
      ]
     },
     "metadata": {},
     "output_type": "display_data"
    }
   ],
   "source": [
    "import chart_studio.plotly as py\n",
    "import cufflinks as cf\n",
    "cf.go_offline(connected=True)"
   ]
  },
  {
   "cell_type": "code",
   "execution_count": 18,
   "id": "f21a5391",
   "metadata": {},
   "outputs": [
    {
     "data": {
      "text/html": [
       "<div>\n",
       "<style scoped>\n",
       "    .dataframe tbody tr th:only-of-type {\n",
       "        vertical-align: middle;\n",
       "    }\n",
       "\n",
       "    .dataframe tbody tr th {\n",
       "        vertical-align: top;\n",
       "    }\n",
       "\n",
       "    .dataframe thead th {\n",
       "        text-align: right;\n",
       "    }\n",
       "</style>\n",
       "<table border=\"1\" class=\"dataframe\">\n",
       "  <thead>\n",
       "    <tr style=\"text-align: right;\">\n",
       "      <th></th>\n",
       "      <th>EVE.YK</th>\n",
       "      <th>PFI.II</th>\n",
       "      <th>NRO.JK</th>\n",
       "      <th>OSY.CN</th>\n",
       "      <th>PAO.RI</th>\n",
       "    </tr>\n",
       "  </thead>\n",
       "  <tbody>\n",
       "    <tr>\n",
       "      <th>2015-01-01</th>\n",
       "      <td>0.276754</td>\n",
       "      <td>-0.911937</td>\n",
       "      <td>1.891189</td>\n",
       "      <td>0.106531</td>\n",
       "      <td>0.245068</td>\n",
       "    </tr>\n",
       "    <tr>\n",
       "      <th>2015-01-02</th>\n",
       "      <td>1.071058</td>\n",
       "      <td>0.610776</td>\n",
       "      <td>4.337626</td>\n",
       "      <td>1.163515</td>\n",
       "      <td>1.096222</td>\n",
       "    </tr>\n",
       "    <tr>\n",
       "      <th>2015-01-03</th>\n",
       "      <td>-0.086503</td>\n",
       "      <td>3.177626</td>\n",
       "      <td>3.454179</td>\n",
       "      <td>1.269184</td>\n",
       "      <td>1.104084</td>\n",
       "    </tr>\n",
       "    <tr>\n",
       "      <th>2015-01-04</th>\n",
       "      <td>0.196721</td>\n",
       "      <td>4.533591</td>\n",
       "      <td>1.749382</td>\n",
       "      <td>0.763089</td>\n",
       "      <td>1.736300</td>\n",
       "    </tr>\n",
       "    <tr>\n",
       "      <th>2015-01-05</th>\n",
       "      <td>0.411376</td>\n",
       "      <td>2.603329</td>\n",
       "      <td>2.786624</td>\n",
       "      <td>0.814982</td>\n",
       "      <td>0.702928</td>\n",
       "    </tr>\n",
       "  </tbody>\n",
       "</table>\n",
       "</div>"
      ],
      "text/plain": [
       "              EVE.YK    PFI.II    NRO.JK    OSY.CN    PAO.RI\n",
       "2015-01-01  0.276754 -0.911937  1.891189  0.106531  0.245068\n",
       "2015-01-02  1.071058  0.610776  4.337626  1.163515  1.096222\n",
       "2015-01-03 -0.086503  3.177626  3.454179  1.269184  1.104084\n",
       "2015-01-04  0.196721  4.533591  1.749382  0.763089  1.736300\n",
       "2015-01-05  0.411376  2.603329  2.786624  0.814982  0.702928"
      ]
     },
     "execution_count": 18,
     "metadata": {},
     "output_type": "execute_result"
    }
   ],
   "source": [
    "df = cf.datagen.lines()\n",
    "df.head()"
   ]
  },
  {
   "cell_type": "code",
   "execution_count": 19,
   "id": "34746591",
   "metadata": {},
   "outputs": [
    {
     "data": {
      "application/vnd.plotly.v1+json": {
       "config": {
        "linkText": "Export to plot.ly",
        "plotlyServerURL": "https://plot.ly",
        "showLink": true
       },
       "data": [
        {
         "line": {
          "color": "rgba(255, 153, 51, 1.0)",
          "dash": "solid",
          "shape": "linear",
          "width": 1.3
         },
         "mode": "lines",
         "name": "EVE.YK",
         "text": "",
         "type": "scatter",
         "x": [
          "2015-01-01",
          "2015-01-02",
          "2015-01-03",
          "2015-01-04",
          "2015-01-05",
          "2015-01-06",
          "2015-01-07",
          "2015-01-08",
          "2015-01-09",
          "2015-01-10",
          "2015-01-11",
          "2015-01-12",
          "2015-01-13",
          "2015-01-14",
          "2015-01-15",
          "2015-01-16",
          "2015-01-17",
          "2015-01-18",
          "2015-01-19",
          "2015-01-20",
          "2015-01-21",
          "2015-01-22",
          "2015-01-23",
          "2015-01-24",
          "2015-01-25",
          "2015-01-26",
          "2015-01-27",
          "2015-01-28",
          "2015-01-29",
          "2015-01-30",
          "2015-01-31",
          "2015-02-01",
          "2015-02-02",
          "2015-02-03",
          "2015-02-04",
          "2015-02-05",
          "2015-02-06",
          "2015-02-07",
          "2015-02-08",
          "2015-02-09",
          "2015-02-10",
          "2015-02-11",
          "2015-02-12",
          "2015-02-13",
          "2015-02-14",
          "2015-02-15",
          "2015-02-16",
          "2015-02-17",
          "2015-02-18",
          "2015-02-19",
          "2015-02-20",
          "2015-02-21",
          "2015-02-22",
          "2015-02-23",
          "2015-02-24",
          "2015-02-25",
          "2015-02-26",
          "2015-02-27",
          "2015-02-28",
          "2015-03-01",
          "2015-03-02",
          "2015-03-03",
          "2015-03-04",
          "2015-03-05",
          "2015-03-06",
          "2015-03-07",
          "2015-03-08",
          "2015-03-09",
          "2015-03-10",
          "2015-03-11",
          "2015-03-12",
          "2015-03-13",
          "2015-03-14",
          "2015-03-15",
          "2015-03-16",
          "2015-03-17",
          "2015-03-18",
          "2015-03-19",
          "2015-03-20",
          "2015-03-21",
          "2015-03-22",
          "2015-03-23",
          "2015-03-24",
          "2015-03-25",
          "2015-03-26",
          "2015-03-27",
          "2015-03-28",
          "2015-03-29",
          "2015-03-30",
          "2015-03-31",
          "2015-04-01",
          "2015-04-02",
          "2015-04-03",
          "2015-04-04",
          "2015-04-05",
          "2015-04-06",
          "2015-04-07",
          "2015-04-08",
          "2015-04-09",
          "2015-04-10"
         ],
         "y": [
          0.27675381749116784,
          1.0710584385452897,
          -0.08650293217647231,
          0.1967212142851174,
          0.41137613207504753,
          0.4826668618814286,
          -1.309053171783606,
          -1.337051060247584,
          -1.8356126404249498,
          -2.787383179581974,
          -3.9108649055455684,
          -3.4717696458495992,
          -2.9758831265169032,
          -3.234632629346004,
          -3.57828112978831,
          -4.429576116056398,
          -5.697432457879391,
          -4.637794480028553,
          -3.3761618900316326,
          -2.555364384338156,
          -2.535671649573815,
          -2.7560056370874233,
          -4.835674899087836,
          -4.844731489874256,
          -4.126820088490315,
          -4.373121801652939,
          -2.8679647932154686,
          -3.1777537252890777,
          -3.5086846998728363,
          -3.948827130614984,
          -5.041301414551264,
          -3.430125056692644,
          -2.9340793551187763,
          -4.1569334530631545,
          -3.2319556122912676,
          -3.9979822554701587,
          -3.982472044229606,
          -3.267858339886442,
          -1.5818584847513608,
          -1.7540180894682607,
          -2.639315426812123,
          -2.2011256288724823,
          -1.0662717877330516,
          -2.0914383205716724,
          -2.083321415896712,
          -0.9284654496612503,
          -0.8411766606615929,
          -0.7805424720434818,
          -1.2757487311784597,
          -1.626103387731242,
          -2.4604380813039843,
          -4.453437810911968,
          -6.054570462275823,
          -6.16596980513493,
          -7.567853596949277,
          -6.73148492246209,
          -5.846914216514483,
          -6.76265553462828,
          -7.043511170436599,
          -7.646415686623895,
          -7.608951389330905,
          -7.600457484062322,
          -10.298227138176609,
          -11.784895694641596,
          -12.528276210241474,
          -11.783141244215177,
          -12.177329652855185,
          -12.412070002535154,
          -13.733549919342453,
          -12.211030867919442,
          -11.394977195256597,
          -12.916543375303734,
          -12.801071772182263,
          -11.323971405833266,
          -13.417569289501902,
          -13.24937541149463,
          -13.023940429300735,
          -13.707369488502025,
          -13.247036090351006,
          -12.862484118675377,
          -12.362916232110933,
          -11.136299259206359,
          -11.176864883971145,
          -10.874006473729462,
          -10.809495773895643,
          -10.616913645170635,
          -12.05810079239329,
          -12.664100944893516,
          -12.732277530155876,
          -13.452930724497591,
          -12.754923946183913,
          -13.367358313990493,
          -13.577699164684113,
          -13.285743269102305,
          -12.29959213930605,
          -12.429467468445896,
          -13.005624882473704,
          -14.038019949939072,
          -15.54786243706357,
          -14.781571896706742
         ]
        },
        {
         "line": {
          "color": "rgba(55, 128, 191, 1.0)",
          "dash": "solid",
          "shape": "linear",
          "width": 1.3
         },
         "mode": "lines",
         "name": "PFI.II",
         "text": "",
         "type": "scatter",
         "x": [
          "2015-01-01",
          "2015-01-02",
          "2015-01-03",
          "2015-01-04",
          "2015-01-05",
          "2015-01-06",
          "2015-01-07",
          "2015-01-08",
          "2015-01-09",
          "2015-01-10",
          "2015-01-11",
          "2015-01-12",
          "2015-01-13",
          "2015-01-14",
          "2015-01-15",
          "2015-01-16",
          "2015-01-17",
          "2015-01-18",
          "2015-01-19",
          "2015-01-20",
          "2015-01-21",
          "2015-01-22",
          "2015-01-23",
          "2015-01-24",
          "2015-01-25",
          "2015-01-26",
          "2015-01-27",
          "2015-01-28",
          "2015-01-29",
          "2015-01-30",
          "2015-01-31",
          "2015-02-01",
          "2015-02-02",
          "2015-02-03",
          "2015-02-04",
          "2015-02-05",
          "2015-02-06",
          "2015-02-07",
          "2015-02-08",
          "2015-02-09",
          "2015-02-10",
          "2015-02-11",
          "2015-02-12",
          "2015-02-13",
          "2015-02-14",
          "2015-02-15",
          "2015-02-16",
          "2015-02-17",
          "2015-02-18",
          "2015-02-19",
          "2015-02-20",
          "2015-02-21",
          "2015-02-22",
          "2015-02-23",
          "2015-02-24",
          "2015-02-25",
          "2015-02-26",
          "2015-02-27",
          "2015-02-28",
          "2015-03-01",
          "2015-03-02",
          "2015-03-03",
          "2015-03-04",
          "2015-03-05",
          "2015-03-06",
          "2015-03-07",
          "2015-03-08",
          "2015-03-09",
          "2015-03-10",
          "2015-03-11",
          "2015-03-12",
          "2015-03-13",
          "2015-03-14",
          "2015-03-15",
          "2015-03-16",
          "2015-03-17",
          "2015-03-18",
          "2015-03-19",
          "2015-03-20",
          "2015-03-21",
          "2015-03-22",
          "2015-03-23",
          "2015-03-24",
          "2015-03-25",
          "2015-03-26",
          "2015-03-27",
          "2015-03-28",
          "2015-03-29",
          "2015-03-30",
          "2015-03-31",
          "2015-04-01",
          "2015-04-02",
          "2015-04-03",
          "2015-04-04",
          "2015-04-05",
          "2015-04-06",
          "2015-04-07",
          "2015-04-08",
          "2015-04-09",
          "2015-04-10"
         ],
         "y": [
          -0.9119369831521437,
          0.6107764700332073,
          3.1776264421480205,
          4.5335907329937974,
          2.603328617063754,
          2.6103942459479392,
          2.731717699891808,
          4.6118320745439885,
          5.454489963243805,
          7.01212762765137,
          7.950357269938877,
          7.9207749034129025,
          7.885880158095154,
          5.8709356747460495,
          6.006620896081528,
          5.703786298524528,
          6.324781073927619,
          5.0510234364323265,
          5.40835564651279,
          4.23880382318457,
          4.862847650999149,
          4.284703628646179,
          3.1570719574756287,
          2.6980168558748816,
          2.457505301253484,
          1.0871183364385955,
          0.044607090588904,
          -0.938374757900107,
          0.4335160345877701,
          -0.7671053847756765,
          1.170785039647074,
          -0.187535852655363,
          -1.2272316811484176,
          0.04800886961016704,
          -0.2141436473568542,
          -0.1362302908739174,
          -0.3362085530019704,
          -0.5695615637314719,
          0.1965364587202345,
          -0.11092915023863348,
          0.832490628030956,
          0.5287561783816106,
          1.4081721928495647,
          1.6728013602492944,
          1.417892012908793,
          0.8853936216682388,
          3.100870465643563,
          2.8423064712417956,
          3.675664626696066,
          3.9856793260198002,
          3.90579224686056,
          4.535612485903285,
          5.932162661514496,
          7.220023250193423,
          6.607090719177048,
          7.077086988338807,
          8.074471507603207,
          8.30941093070204,
          7.249813433403641,
          6.804175669339959,
          6.860910306727699,
          7.3340707025175265,
          7.0100459386047325,
          7.495140347425007,
          7.7998701376745645,
          10.520262560917374,
          10.724971328081862,
          11.076977892181738,
          12.563549692449364,
          11.757275982962344,
          13.324379302434433,
          12.791161445240043,
          11.8350659927664,
          10.787154105125959,
          11.758371563200592,
          12.820747309395395,
          13.340870914557986,
          15.17403394541079,
          14.39818565042646,
          13.575995776793015,
          13.477749346109418,
          14.154463398568513,
          14.220563153346125,
          13.201070444827028,
          13.909744989040579,
          13.819321536570476,
          14.542212395905866,
          13.211639895420578,
          13.259371098598711,
          12.841205554500844,
          13.219321477506293,
          13.071776749508023,
          15.000937845370558,
          15.996570613802193,
          18.27466490732163,
          18.57446801609163,
          17.750627157844107,
          18.335443299859605,
          15.522720812335843,
          16.26300927557325
         ]
        },
        {
         "line": {
          "color": "rgba(50, 171, 96, 1.0)",
          "dash": "solid",
          "shape": "linear",
          "width": 1.3
         },
         "mode": "lines",
         "name": "NRO.JK",
         "text": "",
         "type": "scatter",
         "x": [
          "2015-01-01",
          "2015-01-02",
          "2015-01-03",
          "2015-01-04",
          "2015-01-05",
          "2015-01-06",
          "2015-01-07",
          "2015-01-08",
          "2015-01-09",
          "2015-01-10",
          "2015-01-11",
          "2015-01-12",
          "2015-01-13",
          "2015-01-14",
          "2015-01-15",
          "2015-01-16",
          "2015-01-17",
          "2015-01-18",
          "2015-01-19",
          "2015-01-20",
          "2015-01-21",
          "2015-01-22",
          "2015-01-23",
          "2015-01-24",
          "2015-01-25",
          "2015-01-26",
          "2015-01-27",
          "2015-01-28",
          "2015-01-29",
          "2015-01-30",
          "2015-01-31",
          "2015-02-01",
          "2015-02-02",
          "2015-02-03",
          "2015-02-04",
          "2015-02-05",
          "2015-02-06",
          "2015-02-07",
          "2015-02-08",
          "2015-02-09",
          "2015-02-10",
          "2015-02-11",
          "2015-02-12",
          "2015-02-13",
          "2015-02-14",
          "2015-02-15",
          "2015-02-16",
          "2015-02-17",
          "2015-02-18",
          "2015-02-19",
          "2015-02-20",
          "2015-02-21",
          "2015-02-22",
          "2015-02-23",
          "2015-02-24",
          "2015-02-25",
          "2015-02-26",
          "2015-02-27",
          "2015-02-28",
          "2015-03-01",
          "2015-03-02",
          "2015-03-03",
          "2015-03-04",
          "2015-03-05",
          "2015-03-06",
          "2015-03-07",
          "2015-03-08",
          "2015-03-09",
          "2015-03-10",
          "2015-03-11",
          "2015-03-12",
          "2015-03-13",
          "2015-03-14",
          "2015-03-15",
          "2015-03-16",
          "2015-03-17",
          "2015-03-18",
          "2015-03-19",
          "2015-03-20",
          "2015-03-21",
          "2015-03-22",
          "2015-03-23",
          "2015-03-24",
          "2015-03-25",
          "2015-03-26",
          "2015-03-27",
          "2015-03-28",
          "2015-03-29",
          "2015-03-30",
          "2015-03-31",
          "2015-04-01",
          "2015-04-02",
          "2015-04-03",
          "2015-04-04",
          "2015-04-05",
          "2015-04-06",
          "2015-04-07",
          "2015-04-08",
          "2015-04-09",
          "2015-04-10"
         ],
         "y": [
          1.8911894998399077,
          4.337626424886659,
          3.4541794227468885,
          1.7493815504782448,
          2.78662384314004,
          2.214847125866064,
          2.613239595972729,
          3.670868772124762,
          3.7286758933105024,
          3.8748149515468335,
          4.705404785706455,
          4.643011356372717,
          6.668900645297086,
          5.839852886289796,
          6.351484663225233,
          5.878683334650219,
          6.66274275397542,
          6.505793971474981,
          5.445041496849486,
          5.231971560475069,
          5.606597152961413,
          9.056557670084404,
          7.93904816549189,
          8.314138248463236,
          9.353637787481972,
          10.313078599858251,
          11.803431234488844,
          11.960682512852154,
          12.09553561177752,
          12.99707952713472,
          13.155148384693886,
          11.379242917705124,
          12.151831038368568,
          12.005508669002353,
          12.367571523735982,
          12.600405585187849,
          11.360670852989088,
          13.033187967362146,
          13.29217057062697,
          13.391284932171834,
          14.509408151297327,
          14.973474793366037,
          15.171871958091002,
          13.93221027502696,
          13.08574095906322,
          14.444638218260218,
          14.271741787567302,
          15.279690062181976,
          15.639411676792436,
          14.721256296550978,
          16.1072026863361,
          15.45292430490586,
          15.57759135326646,
          14.087702594188015,
          14.439510706477671,
          15.118206044702342,
          14.891449618911404,
          14.929292070842898,
          15.245067116464844,
          16.459350227197884,
          15.769965874061386,
          15.14199236977929,
          15.34351318765666,
          15.180941184890125,
          15.10184487050293,
          13.443485615442748,
          13.388578046676312,
          13.325081998819384,
          14.953542341383422,
          16.301584229387164,
          15.515504607192197,
          15.808081720573336,
          16.339999785133756,
          15.670724988112452,
          17.311344856641924,
          17.389579644065808,
          17.65008679251253,
          15.05916483389594,
          13.383742303833655,
          14.612537715431825,
          14.919286354302347,
          13.141232626852918,
          13.442967151365835,
          11.417457607587405,
          11.288506533773798,
          11.746979263706567,
          13.638796557833782,
          14.66804006563847,
          14.817486016228424,
          15.778897333173038,
          15.193207953091461,
          15.565444072174943,
          15.256481331484673,
          15.684832477071863,
          17.412443518442277,
          17.57927518936848,
          17.01303560129153,
          17.27785220740244,
          19.310168890033275,
          19.829261123075376
         ]
        },
        {
         "line": {
          "color": "rgba(128, 0, 128, 1.0)",
          "dash": "solid",
          "shape": "linear",
          "width": 1.3
         },
         "mode": "lines",
         "name": "OSY.CN",
         "text": "",
         "type": "scatter",
         "x": [
          "2015-01-01",
          "2015-01-02",
          "2015-01-03",
          "2015-01-04",
          "2015-01-05",
          "2015-01-06",
          "2015-01-07",
          "2015-01-08",
          "2015-01-09",
          "2015-01-10",
          "2015-01-11",
          "2015-01-12",
          "2015-01-13",
          "2015-01-14",
          "2015-01-15",
          "2015-01-16",
          "2015-01-17",
          "2015-01-18",
          "2015-01-19",
          "2015-01-20",
          "2015-01-21",
          "2015-01-22",
          "2015-01-23",
          "2015-01-24",
          "2015-01-25",
          "2015-01-26",
          "2015-01-27",
          "2015-01-28",
          "2015-01-29",
          "2015-01-30",
          "2015-01-31",
          "2015-02-01",
          "2015-02-02",
          "2015-02-03",
          "2015-02-04",
          "2015-02-05",
          "2015-02-06",
          "2015-02-07",
          "2015-02-08",
          "2015-02-09",
          "2015-02-10",
          "2015-02-11",
          "2015-02-12",
          "2015-02-13",
          "2015-02-14",
          "2015-02-15",
          "2015-02-16",
          "2015-02-17",
          "2015-02-18",
          "2015-02-19",
          "2015-02-20",
          "2015-02-21",
          "2015-02-22",
          "2015-02-23",
          "2015-02-24",
          "2015-02-25",
          "2015-02-26",
          "2015-02-27",
          "2015-02-28",
          "2015-03-01",
          "2015-03-02",
          "2015-03-03",
          "2015-03-04",
          "2015-03-05",
          "2015-03-06",
          "2015-03-07",
          "2015-03-08",
          "2015-03-09",
          "2015-03-10",
          "2015-03-11",
          "2015-03-12",
          "2015-03-13",
          "2015-03-14",
          "2015-03-15",
          "2015-03-16",
          "2015-03-17",
          "2015-03-18",
          "2015-03-19",
          "2015-03-20",
          "2015-03-21",
          "2015-03-22",
          "2015-03-23",
          "2015-03-24",
          "2015-03-25",
          "2015-03-26",
          "2015-03-27",
          "2015-03-28",
          "2015-03-29",
          "2015-03-30",
          "2015-03-31",
          "2015-04-01",
          "2015-04-02",
          "2015-04-03",
          "2015-04-04",
          "2015-04-05",
          "2015-04-06",
          "2015-04-07",
          "2015-04-08",
          "2015-04-09",
          "2015-04-10"
         ],
         "y": [
          0.10653055724675178,
          1.1635154367662115,
          1.2691841881272916,
          0.7630891878746103,
          0.8149823694247087,
          1.5657563659710914,
          1.7340316749417,
          1.9433660042284875,
          1.5995338466662672,
          1.1413015075093267,
          0.5170491441208589,
          -0.5044474327098567,
          -0.4032348901662526,
          -0.6580160029626392,
          0.5354264734369354,
          1.6123141103619674,
          0.47285004405707576,
          0.0896001542902754,
          0.03123952165342845,
          -3.000042901020802,
          -2.461698211464127,
          -1.8754785339989692,
          -2.2674788207284275,
          -0.8230787794086967,
          -1.0544546734372047,
          -0.8939397694048066,
          -1.1527149085645296,
          -1.2736324667874652,
          -1.2077953610282997,
          -0.9948429196729597,
          -0.16894064260010055,
          -0.8662691452471122,
          0.6102559375590882,
          -0.1030551499870539,
          0.85802056980918,
          1.23213078684285,
          1.909984914198397,
          3.270696253973405,
          4.666293520381748,
          5.735204079134462,
          5.014360374321321,
          6.184767257329108,
          7.146628243013906,
          7.658856784013715,
          6.6033429287040635,
          9.733420312630777,
          9.608777761593434,
          10.461501914819639,
          10.485420402056734,
          11.31348222259591,
          10.805933631994877,
          9.087858599831236,
          7.575024165664582,
          7.713615190721797,
          7.725664496104071,
          8.713032877416019,
          9.347385641964383,
          10.929871992944097,
          10.958845143933816,
          10.782422698745071,
          10.890944872561038,
          12.276165316869257,
          13.333098859234713,
          12.166164480451192,
          11.931576503186031,
          12.140852220865389,
          12.24233442298315,
          12.94848895655445,
          12.469816336020365,
          12.315606281834167,
          13.790877686103736,
          12.487488198533566,
          13.113062205937828,
          11.506819431853144,
          10.322123451173319,
          10.98665402032389,
          10.43043695120551,
          9.894427612021536,
          10.10079169881367,
          11.409947716845453,
          11.045324110619383,
          11.793635237613264,
          10.347592728997205,
          10.00704528093787,
          11.093834453292727,
          12.105581501066695,
          13.74280026436469,
          13.737317976755104,
          12.544590222030338,
          11.672291427240248,
          10.316252344327976,
          10.233246759611006,
          9.364580012035427,
          9.31435862172346,
          10.799216473163586,
          10.164791694015666,
          10.303150085920533,
          12.43391772811713,
          11.37644297495103,
          10.795719030007
         ]
        },
        {
         "line": {
          "color": "rgba(219, 64, 82, 1.0)",
          "dash": "solid",
          "shape": "linear",
          "width": 1.3
         },
         "mode": "lines",
         "name": "PAO.RI",
         "text": "",
         "type": "scatter",
         "x": [
          "2015-01-01",
          "2015-01-02",
          "2015-01-03",
          "2015-01-04",
          "2015-01-05",
          "2015-01-06",
          "2015-01-07",
          "2015-01-08",
          "2015-01-09",
          "2015-01-10",
          "2015-01-11",
          "2015-01-12",
          "2015-01-13",
          "2015-01-14",
          "2015-01-15",
          "2015-01-16",
          "2015-01-17",
          "2015-01-18",
          "2015-01-19",
          "2015-01-20",
          "2015-01-21",
          "2015-01-22",
          "2015-01-23",
          "2015-01-24",
          "2015-01-25",
          "2015-01-26",
          "2015-01-27",
          "2015-01-28",
          "2015-01-29",
          "2015-01-30",
          "2015-01-31",
          "2015-02-01",
          "2015-02-02",
          "2015-02-03",
          "2015-02-04",
          "2015-02-05",
          "2015-02-06",
          "2015-02-07",
          "2015-02-08",
          "2015-02-09",
          "2015-02-10",
          "2015-02-11",
          "2015-02-12",
          "2015-02-13",
          "2015-02-14",
          "2015-02-15",
          "2015-02-16",
          "2015-02-17",
          "2015-02-18",
          "2015-02-19",
          "2015-02-20",
          "2015-02-21",
          "2015-02-22",
          "2015-02-23",
          "2015-02-24",
          "2015-02-25",
          "2015-02-26",
          "2015-02-27",
          "2015-02-28",
          "2015-03-01",
          "2015-03-02",
          "2015-03-03",
          "2015-03-04",
          "2015-03-05",
          "2015-03-06",
          "2015-03-07",
          "2015-03-08",
          "2015-03-09",
          "2015-03-10",
          "2015-03-11",
          "2015-03-12",
          "2015-03-13",
          "2015-03-14",
          "2015-03-15",
          "2015-03-16",
          "2015-03-17",
          "2015-03-18",
          "2015-03-19",
          "2015-03-20",
          "2015-03-21",
          "2015-03-22",
          "2015-03-23",
          "2015-03-24",
          "2015-03-25",
          "2015-03-26",
          "2015-03-27",
          "2015-03-28",
          "2015-03-29",
          "2015-03-30",
          "2015-03-31",
          "2015-04-01",
          "2015-04-02",
          "2015-04-03",
          "2015-04-04",
          "2015-04-05",
          "2015-04-06",
          "2015-04-07",
          "2015-04-08",
          "2015-04-09",
          "2015-04-10"
         ],
         "y": [
          0.2450678899129502,
          1.0962215011149976,
          1.1040839483449083,
          1.7362995862191961,
          0.7029277321066898,
          -0.8347762380808619,
          -1.144157177753667,
          -2.4210669951642023,
          -3.3167613650252017,
          -3.603527925321261,
          -3.513732764633168,
          -2.7741231305619647,
          -2.630963207687715,
          -2.2242965963223353,
          -0.19558446680342056,
          -0.23489841645532056,
          -0.13318559277892372,
          0.6707806114577413,
          1.326991535320684,
          1.212304578085071,
          1.4217301708026175,
          1.1580965897404496,
          -0.8643443801533996,
          -1.9260022154654017,
          -1.4701480418465767,
          -2.7894700932272505,
          -1.6239106997136818,
          -0.6365660239673069,
          -0.4711494217259292,
          -1.6939247466503002,
          -2.3109333537807135,
          -0.37197091193050236,
          0.5718254038532055,
          -0.2115254312383299,
          0.7043387464181524,
          -1.3120318026316773,
          -2.607564571544028,
          -3.102217899854219,
          -4.507791646697283,
          -4.791009912118421,
          -6.043585824134584,
          -4.700386113677031,
          -3.616590003581728,
          -3.159937153281094,
          -3.86619394366649,
          -3.2808197365790925,
          -4.280019906994107,
          -1.875288855765993,
          -0.7874145154218457,
          -1.0078619408463005,
          -2.320375453414644,
          -1.7723575344411189,
          -1.6967148846853481,
          -0.21070675139122086,
          0.3938549608497267,
          0.003735445855063857,
          -0.9245029602507788,
          -3.6479535481918592,
          -3.8617858709577457,
          -3.3825894261190093,
          -2.894664969161665,
          -3.5092353723904086,
          -1.8955836732701465,
          -1.4691828223056536,
          -0.8101338424166021,
          -1.120531767753682,
          -1.1004966692972833,
          -0.6741657322442505,
          0.6251186629056067,
          0.8255447682371044,
          0.9659306248577461,
          2.053448963741233,
          2.2631249423250535,
          2.964920569174083,
          1.8530192059618078,
          1.6205083548355494,
          1.9230553312401661,
          2.9014239324098234,
          4.728089010661757,
          3.1199999639182088,
          3.746947408711875,
          3.342905462941317,
          2.7755372980015602,
          3.365276442292136,
          2.0530788699019027,
          2.552995993368576,
          4.154261929187763,
          5.374270850866007,
          5.000881233985179,
          4.196770098130837,
          3.8717764001291273,
          5.811216282456542,
          6.311699141853154,
          5.133953550482936,
          5.284441424235025,
          6.599913798036299,
          5.454468392002996,
          5.274260444081083,
          5.49064142321492,
          5.6538371662049665
         ]
        }
       ],
       "layout": {
        "legend": {
         "bgcolor": "#F5F6F9",
         "font": {
          "color": "#4D5663"
         }
        },
        "paper_bgcolor": "#F5F6F9",
        "plot_bgcolor": "#F5F6F9",
        "template": {
         "data": {
          "bar": [
           {
            "error_x": {
             "color": "#2a3f5f"
            },
            "error_y": {
             "color": "#2a3f5f"
            },
            "marker": {
             "line": {
              "color": "#E5ECF6",
              "width": 0.5
             },
             "pattern": {
              "fillmode": "overlay",
              "size": 10,
              "solidity": 0.2
             }
            },
            "type": "bar"
           }
          ],
          "barpolar": [
           {
            "marker": {
             "line": {
              "color": "#E5ECF6",
              "width": 0.5
             },
             "pattern": {
              "fillmode": "overlay",
              "size": 10,
              "solidity": 0.2
             }
            },
            "type": "barpolar"
           }
          ],
          "carpet": [
           {
            "aaxis": {
             "endlinecolor": "#2a3f5f",
             "gridcolor": "white",
             "linecolor": "white",
             "minorgridcolor": "white",
             "startlinecolor": "#2a3f5f"
            },
            "baxis": {
             "endlinecolor": "#2a3f5f",
             "gridcolor": "white",
             "linecolor": "white",
             "minorgridcolor": "white",
             "startlinecolor": "#2a3f5f"
            },
            "type": "carpet"
           }
          ],
          "choropleth": [
           {
            "colorbar": {
             "outlinewidth": 0,
             "ticks": ""
            },
            "type": "choropleth"
           }
          ],
          "contour": [
           {
            "colorbar": {
             "outlinewidth": 0,
             "ticks": ""
            },
            "colorscale": [
             [
              0,
              "#0d0887"
             ],
             [
              0.1111111111111111,
              "#46039f"
             ],
             [
              0.2222222222222222,
              "#7201a8"
             ],
             [
              0.3333333333333333,
              "#9c179e"
             ],
             [
              0.4444444444444444,
              "#bd3786"
             ],
             [
              0.5555555555555556,
              "#d8576b"
             ],
             [
              0.6666666666666666,
              "#ed7953"
             ],
             [
              0.7777777777777778,
              "#fb9f3a"
             ],
             [
              0.8888888888888888,
              "#fdca26"
             ],
             [
              1,
              "#f0f921"
             ]
            ],
            "type": "contour"
           }
          ],
          "contourcarpet": [
           {
            "colorbar": {
             "outlinewidth": 0,
             "ticks": ""
            },
            "type": "contourcarpet"
           }
          ],
          "heatmap": [
           {
            "colorbar": {
             "outlinewidth": 0,
             "ticks": ""
            },
            "colorscale": [
             [
              0,
              "#0d0887"
             ],
             [
              0.1111111111111111,
              "#46039f"
             ],
             [
              0.2222222222222222,
              "#7201a8"
             ],
             [
              0.3333333333333333,
              "#9c179e"
             ],
             [
              0.4444444444444444,
              "#bd3786"
             ],
             [
              0.5555555555555556,
              "#d8576b"
             ],
             [
              0.6666666666666666,
              "#ed7953"
             ],
             [
              0.7777777777777778,
              "#fb9f3a"
             ],
             [
              0.8888888888888888,
              "#fdca26"
             ],
             [
              1,
              "#f0f921"
             ]
            ],
            "type": "heatmap"
           }
          ],
          "heatmapgl": [
           {
            "colorbar": {
             "outlinewidth": 0,
             "ticks": ""
            },
            "colorscale": [
             [
              0,
              "#0d0887"
             ],
             [
              0.1111111111111111,
              "#46039f"
             ],
             [
              0.2222222222222222,
              "#7201a8"
             ],
             [
              0.3333333333333333,
              "#9c179e"
             ],
             [
              0.4444444444444444,
              "#bd3786"
             ],
             [
              0.5555555555555556,
              "#d8576b"
             ],
             [
              0.6666666666666666,
              "#ed7953"
             ],
             [
              0.7777777777777778,
              "#fb9f3a"
             ],
             [
              0.8888888888888888,
              "#fdca26"
             ],
             [
              1,
              "#f0f921"
             ]
            ],
            "type": "heatmapgl"
           }
          ],
          "histogram": [
           {
            "marker": {
             "pattern": {
              "fillmode": "overlay",
              "size": 10,
              "solidity": 0.2
             }
            },
            "type": "histogram"
           }
          ],
          "histogram2d": [
           {
            "colorbar": {
             "outlinewidth": 0,
             "ticks": ""
            },
            "colorscale": [
             [
              0,
              "#0d0887"
             ],
             [
              0.1111111111111111,
              "#46039f"
             ],
             [
              0.2222222222222222,
              "#7201a8"
             ],
             [
              0.3333333333333333,
              "#9c179e"
             ],
             [
              0.4444444444444444,
              "#bd3786"
             ],
             [
              0.5555555555555556,
              "#d8576b"
             ],
             [
              0.6666666666666666,
              "#ed7953"
             ],
             [
              0.7777777777777778,
              "#fb9f3a"
             ],
             [
              0.8888888888888888,
              "#fdca26"
             ],
             [
              1,
              "#f0f921"
             ]
            ],
            "type": "histogram2d"
           }
          ],
          "histogram2dcontour": [
           {
            "colorbar": {
             "outlinewidth": 0,
             "ticks": ""
            },
            "colorscale": [
             [
              0,
              "#0d0887"
             ],
             [
              0.1111111111111111,
              "#46039f"
             ],
             [
              0.2222222222222222,
              "#7201a8"
             ],
             [
              0.3333333333333333,
              "#9c179e"
             ],
             [
              0.4444444444444444,
              "#bd3786"
             ],
             [
              0.5555555555555556,
              "#d8576b"
             ],
             [
              0.6666666666666666,
              "#ed7953"
             ],
             [
              0.7777777777777778,
              "#fb9f3a"
             ],
             [
              0.8888888888888888,
              "#fdca26"
             ],
             [
              1,
              "#f0f921"
             ]
            ],
            "type": "histogram2dcontour"
           }
          ],
          "mesh3d": [
           {
            "colorbar": {
             "outlinewidth": 0,
             "ticks": ""
            },
            "type": "mesh3d"
           }
          ],
          "parcoords": [
           {
            "line": {
             "colorbar": {
              "outlinewidth": 0,
              "ticks": ""
             }
            },
            "type": "parcoords"
           }
          ],
          "pie": [
           {
            "automargin": true,
            "type": "pie"
           }
          ],
          "scatter": [
           {
            "fillpattern": {
             "fillmode": "overlay",
             "size": 10,
             "solidity": 0.2
            },
            "type": "scatter"
           }
          ],
          "scatter3d": [
           {
            "line": {
             "colorbar": {
              "outlinewidth": 0,
              "ticks": ""
             }
            },
            "marker": {
             "colorbar": {
              "outlinewidth": 0,
              "ticks": ""
             }
            },
            "type": "scatter3d"
           }
          ],
          "scattercarpet": [
           {
            "marker": {
             "colorbar": {
              "outlinewidth": 0,
              "ticks": ""
             }
            },
            "type": "scattercarpet"
           }
          ],
          "scattergeo": [
           {
            "marker": {
             "colorbar": {
              "outlinewidth": 0,
              "ticks": ""
             }
            },
            "type": "scattergeo"
           }
          ],
          "scattergl": [
           {
            "marker": {
             "colorbar": {
              "outlinewidth": 0,
              "ticks": ""
             }
            },
            "type": "scattergl"
           }
          ],
          "scattermapbox": [
           {
            "marker": {
             "colorbar": {
              "outlinewidth": 0,
              "ticks": ""
             }
            },
            "type": "scattermapbox"
           }
          ],
          "scatterpolar": [
           {
            "marker": {
             "colorbar": {
              "outlinewidth": 0,
              "ticks": ""
             }
            },
            "type": "scatterpolar"
           }
          ],
          "scatterpolargl": [
           {
            "marker": {
             "colorbar": {
              "outlinewidth": 0,
              "ticks": ""
             }
            },
            "type": "scatterpolargl"
           }
          ],
          "scatterternary": [
           {
            "marker": {
             "colorbar": {
              "outlinewidth": 0,
              "ticks": ""
             }
            },
            "type": "scatterternary"
           }
          ],
          "surface": [
           {
            "colorbar": {
             "outlinewidth": 0,
             "ticks": ""
            },
            "colorscale": [
             [
              0,
              "#0d0887"
             ],
             [
              0.1111111111111111,
              "#46039f"
             ],
             [
              0.2222222222222222,
              "#7201a8"
             ],
             [
              0.3333333333333333,
              "#9c179e"
             ],
             [
              0.4444444444444444,
              "#bd3786"
             ],
             [
              0.5555555555555556,
              "#d8576b"
             ],
             [
              0.6666666666666666,
              "#ed7953"
             ],
             [
              0.7777777777777778,
              "#fb9f3a"
             ],
             [
              0.8888888888888888,
              "#fdca26"
             ],
             [
              1,
              "#f0f921"
             ]
            ],
            "type": "surface"
           }
          ],
          "table": [
           {
            "cells": {
             "fill": {
              "color": "#EBF0F8"
             },
             "line": {
              "color": "white"
             }
            },
            "header": {
             "fill": {
              "color": "#C8D4E3"
             },
             "line": {
              "color": "white"
             }
            },
            "type": "table"
           }
          ]
         },
         "layout": {
          "annotationdefaults": {
           "arrowcolor": "#2a3f5f",
           "arrowhead": 0,
           "arrowwidth": 1
          },
          "autotypenumbers": "strict",
          "coloraxis": {
           "colorbar": {
            "outlinewidth": 0,
            "ticks": ""
           }
          },
          "colorscale": {
           "diverging": [
            [
             0,
             "#8e0152"
            ],
            [
             0.1,
             "#c51b7d"
            ],
            [
             0.2,
             "#de77ae"
            ],
            [
             0.3,
             "#f1b6da"
            ],
            [
             0.4,
             "#fde0ef"
            ],
            [
             0.5,
             "#f7f7f7"
            ],
            [
             0.6,
             "#e6f5d0"
            ],
            [
             0.7,
             "#b8e186"
            ],
            [
             0.8,
             "#7fbc41"
            ],
            [
             0.9,
             "#4d9221"
            ],
            [
             1,
             "#276419"
            ]
           ],
           "sequential": [
            [
             0,
             "#0d0887"
            ],
            [
             0.1111111111111111,
             "#46039f"
            ],
            [
             0.2222222222222222,
             "#7201a8"
            ],
            [
             0.3333333333333333,
             "#9c179e"
            ],
            [
             0.4444444444444444,
             "#bd3786"
            ],
            [
             0.5555555555555556,
             "#d8576b"
            ],
            [
             0.6666666666666666,
             "#ed7953"
            ],
            [
             0.7777777777777778,
             "#fb9f3a"
            ],
            [
             0.8888888888888888,
             "#fdca26"
            ],
            [
             1,
             "#f0f921"
            ]
           ],
           "sequentialminus": [
            [
             0,
             "#0d0887"
            ],
            [
             0.1111111111111111,
             "#46039f"
            ],
            [
             0.2222222222222222,
             "#7201a8"
            ],
            [
             0.3333333333333333,
             "#9c179e"
            ],
            [
             0.4444444444444444,
             "#bd3786"
            ],
            [
             0.5555555555555556,
             "#d8576b"
            ],
            [
             0.6666666666666666,
             "#ed7953"
            ],
            [
             0.7777777777777778,
             "#fb9f3a"
            ],
            [
             0.8888888888888888,
             "#fdca26"
            ],
            [
             1,
             "#f0f921"
            ]
           ]
          },
          "colorway": [
           "#636efa",
           "#EF553B",
           "#00cc96",
           "#ab63fa",
           "#FFA15A",
           "#19d3f3",
           "#FF6692",
           "#B6E880",
           "#FF97FF",
           "#FECB52"
          ],
          "font": {
           "color": "#2a3f5f"
          },
          "geo": {
           "bgcolor": "white",
           "lakecolor": "white",
           "landcolor": "#E5ECF6",
           "showlakes": true,
           "showland": true,
           "subunitcolor": "white"
          },
          "hoverlabel": {
           "align": "left"
          },
          "hovermode": "closest",
          "mapbox": {
           "style": "light"
          },
          "paper_bgcolor": "white",
          "plot_bgcolor": "#E5ECF6",
          "polar": {
           "angularaxis": {
            "gridcolor": "white",
            "linecolor": "white",
            "ticks": ""
           },
           "bgcolor": "#E5ECF6",
           "radialaxis": {
            "gridcolor": "white",
            "linecolor": "white",
            "ticks": ""
           }
          },
          "scene": {
           "xaxis": {
            "backgroundcolor": "#E5ECF6",
            "gridcolor": "white",
            "gridwidth": 2,
            "linecolor": "white",
            "showbackground": true,
            "ticks": "",
            "zerolinecolor": "white"
           },
           "yaxis": {
            "backgroundcolor": "#E5ECF6",
            "gridcolor": "white",
            "gridwidth": 2,
            "linecolor": "white",
            "showbackground": true,
            "ticks": "",
            "zerolinecolor": "white"
           },
           "zaxis": {
            "backgroundcolor": "#E5ECF6",
            "gridcolor": "white",
            "gridwidth": 2,
            "linecolor": "white",
            "showbackground": true,
            "ticks": "",
            "zerolinecolor": "white"
           }
          },
          "shapedefaults": {
           "line": {
            "color": "#2a3f5f"
           }
          },
          "ternary": {
           "aaxis": {
            "gridcolor": "white",
            "linecolor": "white",
            "ticks": ""
           },
           "baxis": {
            "gridcolor": "white",
            "linecolor": "white",
            "ticks": ""
           },
           "bgcolor": "#E5ECF6",
           "caxis": {
            "gridcolor": "white",
            "linecolor": "white",
            "ticks": ""
           }
          },
          "title": {
           "x": 0.05
          },
          "xaxis": {
           "automargin": true,
           "gridcolor": "white",
           "linecolor": "white",
           "ticks": "",
           "title": {
            "standoff": 15
           },
           "zerolinecolor": "white",
           "zerolinewidth": 2
          },
          "yaxis": {
           "automargin": true,
           "gridcolor": "white",
           "linecolor": "white",
           "ticks": "",
           "title": {
            "standoff": 15
           },
           "zerolinecolor": "white",
           "zerolinewidth": 2
          }
         }
        },
        "title": {
         "font": {
          "color": "#4D5663"
         }
        },
        "xaxis": {
         "gridcolor": "#E1E5ED",
         "showgrid": true,
         "tickfont": {
          "color": "#4D5663"
         },
         "title": {
          "font": {
           "color": "#4D5663"
          },
          "text": ""
         },
         "zerolinecolor": "#E1E5ED"
        },
        "yaxis": {
         "gridcolor": "#E1E5ED",
         "showgrid": true,
         "tickfont": {
          "color": "#4D5663"
         },
         "title": {
          "font": {
           "color": "#4D5663"
          },
          "text": ""
         },
         "zerolinecolor": "#E1E5ED"
        }
       }
      },
      "text/html": [
       "<div>                            <div id=\"348b3e81-509d-4c98-8515-d312bd0a11a3\" class=\"plotly-graph-div\" style=\"height:525px; width:100%;\"></div>            <script type=\"text/javascript\">                require([\"plotly\"], function(Plotly) {                    window.PLOTLYENV=window.PLOTLYENV || {};\n",
       "                    window.PLOTLYENV.BASE_URL='https://plot.ly';                                    if (document.getElementById(\"348b3e81-509d-4c98-8515-d312bd0a11a3\")) {                    Plotly.newPlot(                        \"348b3e81-509d-4c98-8515-d312bd0a11a3\",                        [{\"line\":{\"color\":\"rgba(255, 153, 51, 1.0)\",\"dash\":\"solid\",\"shape\":\"linear\",\"width\":1.3},\"mode\":\"lines\",\"name\":\"EVE.YK\",\"text\":\"\",\"x\":[\"2015-01-01\",\"2015-01-02\",\"2015-01-03\",\"2015-01-04\",\"2015-01-05\",\"2015-01-06\",\"2015-01-07\",\"2015-01-08\",\"2015-01-09\",\"2015-01-10\",\"2015-01-11\",\"2015-01-12\",\"2015-01-13\",\"2015-01-14\",\"2015-01-15\",\"2015-01-16\",\"2015-01-17\",\"2015-01-18\",\"2015-01-19\",\"2015-01-20\",\"2015-01-21\",\"2015-01-22\",\"2015-01-23\",\"2015-01-24\",\"2015-01-25\",\"2015-01-26\",\"2015-01-27\",\"2015-01-28\",\"2015-01-29\",\"2015-01-30\",\"2015-01-31\",\"2015-02-01\",\"2015-02-02\",\"2015-02-03\",\"2015-02-04\",\"2015-02-05\",\"2015-02-06\",\"2015-02-07\",\"2015-02-08\",\"2015-02-09\",\"2015-02-10\",\"2015-02-11\",\"2015-02-12\",\"2015-02-13\",\"2015-02-14\",\"2015-02-15\",\"2015-02-16\",\"2015-02-17\",\"2015-02-18\",\"2015-02-19\",\"2015-02-20\",\"2015-02-21\",\"2015-02-22\",\"2015-02-23\",\"2015-02-24\",\"2015-02-25\",\"2015-02-26\",\"2015-02-27\",\"2015-02-28\",\"2015-03-01\",\"2015-03-02\",\"2015-03-03\",\"2015-03-04\",\"2015-03-05\",\"2015-03-06\",\"2015-03-07\",\"2015-03-08\",\"2015-03-09\",\"2015-03-10\",\"2015-03-11\",\"2015-03-12\",\"2015-03-13\",\"2015-03-14\",\"2015-03-15\",\"2015-03-16\",\"2015-03-17\",\"2015-03-18\",\"2015-03-19\",\"2015-03-20\",\"2015-03-21\",\"2015-03-22\",\"2015-03-23\",\"2015-03-24\",\"2015-03-25\",\"2015-03-26\",\"2015-03-27\",\"2015-03-28\",\"2015-03-29\",\"2015-03-30\",\"2015-03-31\",\"2015-04-01\",\"2015-04-02\",\"2015-04-03\",\"2015-04-04\",\"2015-04-05\",\"2015-04-06\",\"2015-04-07\",\"2015-04-08\",\"2015-04-09\",\"2015-04-10\"],\"y\":[0.27675381749116784,1.0710584385452897,-0.08650293217647231,0.1967212142851174,0.41137613207504753,0.4826668618814286,-1.309053171783606,-1.337051060247584,-1.8356126404249498,-2.787383179581974,-3.9108649055455684,-3.4717696458495992,-2.9758831265169032,-3.234632629346004,-3.57828112978831,-4.429576116056398,-5.697432457879391,-4.637794480028553,-3.3761618900316326,-2.555364384338156,-2.535671649573815,-2.7560056370874233,-4.835674899087836,-4.844731489874256,-4.126820088490315,-4.373121801652939,-2.8679647932154686,-3.1777537252890777,-3.5086846998728363,-3.948827130614984,-5.041301414551264,-3.430125056692644,-2.9340793551187763,-4.1569334530631545,-3.2319556122912676,-3.9979822554701587,-3.982472044229606,-3.267858339886442,-1.5818584847513608,-1.7540180894682607,-2.639315426812123,-2.2011256288724823,-1.0662717877330516,-2.0914383205716724,-2.083321415896712,-0.9284654496612503,-0.8411766606615929,-0.7805424720434818,-1.2757487311784597,-1.626103387731242,-2.4604380813039843,-4.453437810911968,-6.054570462275823,-6.16596980513493,-7.567853596949277,-6.73148492246209,-5.846914216514483,-6.76265553462828,-7.043511170436599,-7.646415686623895,-7.608951389330905,-7.600457484062322,-10.298227138176609,-11.784895694641596,-12.528276210241474,-11.783141244215177,-12.177329652855185,-12.412070002535154,-13.733549919342453,-12.211030867919442,-11.394977195256597,-12.916543375303734,-12.801071772182263,-11.323971405833266,-13.417569289501902,-13.24937541149463,-13.023940429300735,-13.707369488502025,-13.247036090351006,-12.862484118675377,-12.362916232110933,-11.136299259206359,-11.176864883971145,-10.874006473729462,-10.809495773895643,-10.616913645170635,-12.05810079239329,-12.664100944893516,-12.732277530155876,-13.452930724497591,-12.754923946183913,-13.367358313990493,-13.577699164684113,-13.285743269102305,-12.29959213930605,-12.429467468445896,-13.005624882473704,-14.038019949939072,-15.54786243706357,-14.781571896706742],\"type\":\"scatter\"},{\"line\":{\"color\":\"rgba(55, 128, 191, 1.0)\",\"dash\":\"solid\",\"shape\":\"linear\",\"width\":1.3},\"mode\":\"lines\",\"name\":\"PFI.II\",\"text\":\"\",\"x\":[\"2015-01-01\",\"2015-01-02\",\"2015-01-03\",\"2015-01-04\",\"2015-01-05\",\"2015-01-06\",\"2015-01-07\",\"2015-01-08\",\"2015-01-09\",\"2015-01-10\",\"2015-01-11\",\"2015-01-12\",\"2015-01-13\",\"2015-01-14\",\"2015-01-15\",\"2015-01-16\",\"2015-01-17\",\"2015-01-18\",\"2015-01-19\",\"2015-01-20\",\"2015-01-21\",\"2015-01-22\",\"2015-01-23\",\"2015-01-24\",\"2015-01-25\",\"2015-01-26\",\"2015-01-27\",\"2015-01-28\",\"2015-01-29\",\"2015-01-30\",\"2015-01-31\",\"2015-02-01\",\"2015-02-02\",\"2015-02-03\",\"2015-02-04\",\"2015-02-05\",\"2015-02-06\",\"2015-02-07\",\"2015-02-08\",\"2015-02-09\",\"2015-02-10\",\"2015-02-11\",\"2015-02-12\",\"2015-02-13\",\"2015-02-14\",\"2015-02-15\",\"2015-02-16\",\"2015-02-17\",\"2015-02-18\",\"2015-02-19\",\"2015-02-20\",\"2015-02-21\",\"2015-02-22\",\"2015-02-23\",\"2015-02-24\",\"2015-02-25\",\"2015-02-26\",\"2015-02-27\",\"2015-02-28\",\"2015-03-01\",\"2015-03-02\",\"2015-03-03\",\"2015-03-04\",\"2015-03-05\",\"2015-03-06\",\"2015-03-07\",\"2015-03-08\",\"2015-03-09\",\"2015-03-10\",\"2015-03-11\",\"2015-03-12\",\"2015-03-13\",\"2015-03-14\",\"2015-03-15\",\"2015-03-16\",\"2015-03-17\",\"2015-03-18\",\"2015-03-19\",\"2015-03-20\",\"2015-03-21\",\"2015-03-22\",\"2015-03-23\",\"2015-03-24\",\"2015-03-25\",\"2015-03-26\",\"2015-03-27\",\"2015-03-28\",\"2015-03-29\",\"2015-03-30\",\"2015-03-31\",\"2015-04-01\",\"2015-04-02\",\"2015-04-03\",\"2015-04-04\",\"2015-04-05\",\"2015-04-06\",\"2015-04-07\",\"2015-04-08\",\"2015-04-09\",\"2015-04-10\"],\"y\":[-0.9119369831521437,0.6107764700332073,3.1776264421480205,4.5335907329937974,2.603328617063754,2.6103942459479392,2.731717699891808,4.6118320745439885,5.454489963243805,7.01212762765137,7.950357269938877,7.9207749034129025,7.885880158095154,5.8709356747460495,6.006620896081528,5.703786298524528,6.324781073927619,5.0510234364323265,5.40835564651279,4.23880382318457,4.862847650999149,4.284703628646179,3.1570719574756287,2.6980168558748816,2.457505301253484,1.0871183364385955,0.044607090588904,-0.938374757900107,0.4335160345877701,-0.7671053847756765,1.170785039647074,-0.187535852655363,-1.2272316811484176,0.04800886961016704,-0.2141436473568542,-0.1362302908739174,-0.3362085530019704,-0.5695615637314719,0.1965364587202345,-0.11092915023863348,0.832490628030956,0.5287561783816106,1.4081721928495647,1.6728013602492944,1.417892012908793,0.8853936216682388,3.100870465643563,2.8423064712417956,3.675664626696066,3.9856793260198002,3.90579224686056,4.535612485903285,5.932162661514496,7.220023250193423,6.607090719177048,7.077086988338807,8.074471507603207,8.30941093070204,7.249813433403641,6.804175669339959,6.860910306727699,7.3340707025175265,7.0100459386047325,7.495140347425007,7.7998701376745645,10.520262560917374,10.724971328081862,11.076977892181738,12.563549692449364,11.757275982962344,13.324379302434433,12.791161445240043,11.8350659927664,10.787154105125959,11.758371563200592,12.820747309395395,13.340870914557986,15.17403394541079,14.39818565042646,13.575995776793015,13.477749346109418,14.154463398568513,14.220563153346125,13.201070444827028,13.909744989040579,13.819321536570476,14.542212395905866,13.211639895420578,13.259371098598711,12.841205554500844,13.219321477506293,13.071776749508023,15.000937845370558,15.996570613802193,18.27466490732163,18.57446801609163,17.750627157844107,18.335443299859605,15.522720812335843,16.26300927557325],\"type\":\"scatter\"},{\"line\":{\"color\":\"rgba(50, 171, 96, 1.0)\",\"dash\":\"solid\",\"shape\":\"linear\",\"width\":1.3},\"mode\":\"lines\",\"name\":\"NRO.JK\",\"text\":\"\",\"x\":[\"2015-01-01\",\"2015-01-02\",\"2015-01-03\",\"2015-01-04\",\"2015-01-05\",\"2015-01-06\",\"2015-01-07\",\"2015-01-08\",\"2015-01-09\",\"2015-01-10\",\"2015-01-11\",\"2015-01-12\",\"2015-01-13\",\"2015-01-14\",\"2015-01-15\",\"2015-01-16\",\"2015-01-17\",\"2015-01-18\",\"2015-01-19\",\"2015-01-20\",\"2015-01-21\",\"2015-01-22\",\"2015-01-23\",\"2015-01-24\",\"2015-01-25\",\"2015-01-26\",\"2015-01-27\",\"2015-01-28\",\"2015-01-29\",\"2015-01-30\",\"2015-01-31\",\"2015-02-01\",\"2015-02-02\",\"2015-02-03\",\"2015-02-04\",\"2015-02-05\",\"2015-02-06\",\"2015-02-07\",\"2015-02-08\",\"2015-02-09\",\"2015-02-10\",\"2015-02-11\",\"2015-02-12\",\"2015-02-13\",\"2015-02-14\",\"2015-02-15\",\"2015-02-16\",\"2015-02-17\",\"2015-02-18\",\"2015-02-19\",\"2015-02-20\",\"2015-02-21\",\"2015-02-22\",\"2015-02-23\",\"2015-02-24\",\"2015-02-25\",\"2015-02-26\",\"2015-02-27\",\"2015-02-28\",\"2015-03-01\",\"2015-03-02\",\"2015-03-03\",\"2015-03-04\",\"2015-03-05\",\"2015-03-06\",\"2015-03-07\",\"2015-03-08\",\"2015-03-09\",\"2015-03-10\",\"2015-03-11\",\"2015-03-12\",\"2015-03-13\",\"2015-03-14\",\"2015-03-15\",\"2015-03-16\",\"2015-03-17\",\"2015-03-18\",\"2015-03-19\",\"2015-03-20\",\"2015-03-21\",\"2015-03-22\",\"2015-03-23\",\"2015-03-24\",\"2015-03-25\",\"2015-03-26\",\"2015-03-27\",\"2015-03-28\",\"2015-03-29\",\"2015-03-30\",\"2015-03-31\",\"2015-04-01\",\"2015-04-02\",\"2015-04-03\",\"2015-04-04\",\"2015-04-05\",\"2015-04-06\",\"2015-04-07\",\"2015-04-08\",\"2015-04-09\",\"2015-04-10\"],\"y\":[1.8911894998399077,4.337626424886659,3.4541794227468885,1.7493815504782448,2.78662384314004,2.214847125866064,2.613239595972729,3.670868772124762,3.7286758933105024,3.8748149515468335,4.705404785706455,4.643011356372717,6.668900645297086,5.839852886289796,6.351484663225233,5.878683334650219,6.66274275397542,6.505793971474981,5.445041496849486,5.231971560475069,5.606597152961413,9.056557670084404,7.93904816549189,8.314138248463236,9.353637787481972,10.313078599858251,11.803431234488844,11.960682512852154,12.09553561177752,12.99707952713472,13.155148384693886,11.379242917705124,12.151831038368568,12.005508669002353,12.367571523735982,12.600405585187849,11.360670852989088,13.033187967362146,13.29217057062697,13.391284932171834,14.509408151297327,14.973474793366037,15.171871958091002,13.93221027502696,13.08574095906322,14.444638218260218,14.271741787567302,15.279690062181976,15.639411676792436,14.721256296550978,16.1072026863361,15.45292430490586,15.57759135326646,14.087702594188015,14.439510706477671,15.118206044702342,14.891449618911404,14.929292070842898,15.245067116464844,16.459350227197884,15.769965874061386,15.14199236977929,15.34351318765666,15.180941184890125,15.10184487050293,13.443485615442748,13.388578046676312,13.325081998819384,14.953542341383422,16.301584229387164,15.515504607192197,15.808081720573336,16.339999785133756,15.670724988112452,17.311344856641924,17.389579644065808,17.65008679251253,15.05916483389594,13.383742303833655,14.612537715431825,14.919286354302347,13.141232626852918,13.442967151365835,11.417457607587405,11.288506533773798,11.746979263706567,13.638796557833782,14.66804006563847,14.817486016228424,15.778897333173038,15.193207953091461,15.565444072174943,15.256481331484673,15.684832477071863,17.412443518442277,17.57927518936848,17.01303560129153,17.27785220740244,19.310168890033275,19.829261123075376],\"type\":\"scatter\"},{\"line\":{\"color\":\"rgba(128, 0, 128, 1.0)\",\"dash\":\"solid\",\"shape\":\"linear\",\"width\":1.3},\"mode\":\"lines\",\"name\":\"OSY.CN\",\"text\":\"\",\"x\":[\"2015-01-01\",\"2015-01-02\",\"2015-01-03\",\"2015-01-04\",\"2015-01-05\",\"2015-01-06\",\"2015-01-07\",\"2015-01-08\",\"2015-01-09\",\"2015-01-10\",\"2015-01-11\",\"2015-01-12\",\"2015-01-13\",\"2015-01-14\",\"2015-01-15\",\"2015-01-16\",\"2015-01-17\",\"2015-01-18\",\"2015-01-19\",\"2015-01-20\",\"2015-01-21\",\"2015-01-22\",\"2015-01-23\",\"2015-01-24\",\"2015-01-25\",\"2015-01-26\",\"2015-01-27\",\"2015-01-28\",\"2015-01-29\",\"2015-01-30\",\"2015-01-31\",\"2015-02-01\",\"2015-02-02\",\"2015-02-03\",\"2015-02-04\",\"2015-02-05\",\"2015-02-06\",\"2015-02-07\",\"2015-02-08\",\"2015-02-09\",\"2015-02-10\",\"2015-02-11\",\"2015-02-12\",\"2015-02-13\",\"2015-02-14\",\"2015-02-15\",\"2015-02-16\",\"2015-02-17\",\"2015-02-18\",\"2015-02-19\",\"2015-02-20\",\"2015-02-21\",\"2015-02-22\",\"2015-02-23\",\"2015-02-24\",\"2015-02-25\",\"2015-02-26\",\"2015-02-27\",\"2015-02-28\",\"2015-03-01\",\"2015-03-02\",\"2015-03-03\",\"2015-03-04\",\"2015-03-05\",\"2015-03-06\",\"2015-03-07\",\"2015-03-08\",\"2015-03-09\",\"2015-03-10\",\"2015-03-11\",\"2015-03-12\",\"2015-03-13\",\"2015-03-14\",\"2015-03-15\",\"2015-03-16\",\"2015-03-17\",\"2015-03-18\",\"2015-03-19\",\"2015-03-20\",\"2015-03-21\",\"2015-03-22\",\"2015-03-23\",\"2015-03-24\",\"2015-03-25\",\"2015-03-26\",\"2015-03-27\",\"2015-03-28\",\"2015-03-29\",\"2015-03-30\",\"2015-03-31\",\"2015-04-01\",\"2015-04-02\",\"2015-04-03\",\"2015-04-04\",\"2015-04-05\",\"2015-04-06\",\"2015-04-07\",\"2015-04-08\",\"2015-04-09\",\"2015-04-10\"],\"y\":[0.10653055724675178,1.1635154367662115,1.2691841881272916,0.7630891878746103,0.8149823694247087,1.5657563659710914,1.7340316749417,1.9433660042284875,1.5995338466662672,1.1413015075093267,0.5170491441208589,-0.5044474327098567,-0.4032348901662526,-0.6580160029626392,0.5354264734369354,1.6123141103619674,0.47285004405707576,0.0896001542902754,0.03123952165342845,-3.000042901020802,-2.461698211464127,-1.8754785339989692,-2.2674788207284275,-0.8230787794086967,-1.0544546734372047,-0.8939397694048066,-1.1527149085645296,-1.2736324667874652,-1.2077953610282997,-0.9948429196729597,-0.16894064260010055,-0.8662691452471122,0.6102559375590882,-0.1030551499870539,0.85802056980918,1.23213078684285,1.909984914198397,3.270696253973405,4.666293520381748,5.735204079134462,5.014360374321321,6.184767257329108,7.146628243013906,7.658856784013715,6.6033429287040635,9.733420312630777,9.608777761593434,10.461501914819639,10.485420402056734,11.31348222259591,10.805933631994877,9.087858599831236,7.575024165664582,7.713615190721797,7.725664496104071,8.713032877416019,9.347385641964383,10.929871992944097,10.958845143933816,10.782422698745071,10.890944872561038,12.276165316869257,13.333098859234713,12.166164480451192,11.931576503186031,12.140852220865389,12.24233442298315,12.94848895655445,12.469816336020365,12.315606281834167,13.790877686103736,12.487488198533566,13.113062205937828,11.506819431853144,10.322123451173319,10.98665402032389,10.43043695120551,9.894427612021536,10.10079169881367,11.409947716845453,11.045324110619383,11.793635237613264,10.347592728997205,10.00704528093787,11.093834453292727,12.105581501066695,13.74280026436469,13.737317976755104,12.544590222030338,11.672291427240248,10.316252344327976,10.233246759611006,9.364580012035427,9.31435862172346,10.799216473163586,10.164791694015666,10.303150085920533,12.43391772811713,11.37644297495103,10.795719030007],\"type\":\"scatter\"},{\"line\":{\"color\":\"rgba(219, 64, 82, 1.0)\",\"dash\":\"solid\",\"shape\":\"linear\",\"width\":1.3},\"mode\":\"lines\",\"name\":\"PAO.RI\",\"text\":\"\",\"x\":[\"2015-01-01\",\"2015-01-02\",\"2015-01-03\",\"2015-01-04\",\"2015-01-05\",\"2015-01-06\",\"2015-01-07\",\"2015-01-08\",\"2015-01-09\",\"2015-01-10\",\"2015-01-11\",\"2015-01-12\",\"2015-01-13\",\"2015-01-14\",\"2015-01-15\",\"2015-01-16\",\"2015-01-17\",\"2015-01-18\",\"2015-01-19\",\"2015-01-20\",\"2015-01-21\",\"2015-01-22\",\"2015-01-23\",\"2015-01-24\",\"2015-01-25\",\"2015-01-26\",\"2015-01-27\",\"2015-01-28\",\"2015-01-29\",\"2015-01-30\",\"2015-01-31\",\"2015-02-01\",\"2015-02-02\",\"2015-02-03\",\"2015-02-04\",\"2015-02-05\",\"2015-02-06\",\"2015-02-07\",\"2015-02-08\",\"2015-02-09\",\"2015-02-10\",\"2015-02-11\",\"2015-02-12\",\"2015-02-13\",\"2015-02-14\",\"2015-02-15\",\"2015-02-16\",\"2015-02-17\",\"2015-02-18\",\"2015-02-19\",\"2015-02-20\",\"2015-02-21\",\"2015-02-22\",\"2015-02-23\",\"2015-02-24\",\"2015-02-25\",\"2015-02-26\",\"2015-02-27\",\"2015-02-28\",\"2015-03-01\",\"2015-03-02\",\"2015-03-03\",\"2015-03-04\",\"2015-03-05\",\"2015-03-06\",\"2015-03-07\",\"2015-03-08\",\"2015-03-09\",\"2015-03-10\",\"2015-03-11\",\"2015-03-12\",\"2015-03-13\",\"2015-03-14\",\"2015-03-15\",\"2015-03-16\",\"2015-03-17\",\"2015-03-18\",\"2015-03-19\",\"2015-03-20\",\"2015-03-21\",\"2015-03-22\",\"2015-03-23\",\"2015-03-24\",\"2015-03-25\",\"2015-03-26\",\"2015-03-27\",\"2015-03-28\",\"2015-03-29\",\"2015-03-30\",\"2015-03-31\",\"2015-04-01\",\"2015-04-02\",\"2015-04-03\",\"2015-04-04\",\"2015-04-05\",\"2015-04-06\",\"2015-04-07\",\"2015-04-08\",\"2015-04-09\",\"2015-04-10\"],\"y\":[0.2450678899129502,1.0962215011149976,1.1040839483449083,1.7362995862191961,0.7029277321066898,-0.8347762380808619,-1.144157177753667,-2.4210669951642023,-3.3167613650252017,-3.603527925321261,-3.513732764633168,-2.7741231305619647,-2.630963207687715,-2.2242965963223353,-0.19558446680342056,-0.23489841645532056,-0.13318559277892372,0.6707806114577413,1.326991535320684,1.212304578085071,1.4217301708026175,1.1580965897404496,-0.8643443801533996,-1.9260022154654017,-1.4701480418465767,-2.7894700932272505,-1.6239106997136818,-0.6365660239673069,-0.4711494217259292,-1.6939247466503002,-2.3109333537807135,-0.37197091193050236,0.5718254038532055,-0.2115254312383299,0.7043387464181524,-1.3120318026316773,-2.607564571544028,-3.102217899854219,-4.507791646697283,-4.791009912118421,-6.043585824134584,-4.700386113677031,-3.616590003581728,-3.159937153281094,-3.86619394366649,-3.2808197365790925,-4.280019906994107,-1.875288855765993,-0.7874145154218457,-1.0078619408463005,-2.320375453414644,-1.7723575344411189,-1.6967148846853481,-0.21070675139122086,0.3938549608497267,0.003735445855063857,-0.9245029602507788,-3.6479535481918592,-3.8617858709577457,-3.3825894261190093,-2.894664969161665,-3.5092353723904086,-1.8955836732701465,-1.4691828223056536,-0.8101338424166021,-1.120531767753682,-1.1004966692972833,-0.6741657322442505,0.6251186629056067,0.8255447682371044,0.9659306248577461,2.053448963741233,2.2631249423250535,2.964920569174083,1.8530192059618078,1.6205083548355494,1.9230553312401661,2.9014239324098234,4.728089010661757,3.1199999639182088,3.746947408711875,3.342905462941317,2.7755372980015602,3.365276442292136,2.0530788699019027,2.552995993368576,4.154261929187763,5.374270850866007,5.000881233985179,4.196770098130837,3.8717764001291273,5.811216282456542,6.311699141853154,5.133953550482936,5.284441424235025,6.599913798036299,5.454468392002996,5.274260444081083,5.49064142321492,5.6538371662049665],\"type\":\"scatter\"}],                        {\"legend\":{\"bgcolor\":\"#F5F6F9\",\"font\":{\"color\":\"#4D5663\"}},\"paper_bgcolor\":\"#F5F6F9\",\"plot_bgcolor\":\"#F5F6F9\",\"template\":{\"data\":{\"barpolar\":[{\"marker\":{\"line\":{\"color\":\"#E5ECF6\",\"width\":0.5},\"pattern\":{\"fillmode\":\"overlay\",\"size\":10,\"solidity\":0.2}},\"type\":\"barpolar\"}],\"bar\":[{\"error_x\":{\"color\":\"#2a3f5f\"},\"error_y\":{\"color\":\"#2a3f5f\"},\"marker\":{\"line\":{\"color\":\"#E5ECF6\",\"width\":0.5},\"pattern\":{\"fillmode\":\"overlay\",\"size\":10,\"solidity\":0.2}},\"type\":\"bar\"}],\"carpet\":[{\"aaxis\":{\"endlinecolor\":\"#2a3f5f\",\"gridcolor\":\"white\",\"linecolor\":\"white\",\"minorgridcolor\":\"white\",\"startlinecolor\":\"#2a3f5f\"},\"baxis\":{\"endlinecolor\":\"#2a3f5f\",\"gridcolor\":\"white\",\"linecolor\":\"white\",\"minorgridcolor\":\"white\",\"startlinecolor\":\"#2a3f5f\"},\"type\":\"carpet\"}],\"choropleth\":[{\"colorbar\":{\"outlinewidth\":0,\"ticks\":\"\"},\"type\":\"choropleth\"}],\"contourcarpet\":[{\"colorbar\":{\"outlinewidth\":0,\"ticks\":\"\"},\"type\":\"contourcarpet\"}],\"contour\":[{\"colorbar\":{\"outlinewidth\":0,\"ticks\":\"\"},\"colorscale\":[[0.0,\"#0d0887\"],[0.1111111111111111,\"#46039f\"],[0.2222222222222222,\"#7201a8\"],[0.3333333333333333,\"#9c179e\"],[0.4444444444444444,\"#bd3786\"],[0.5555555555555556,\"#d8576b\"],[0.6666666666666666,\"#ed7953\"],[0.7777777777777778,\"#fb9f3a\"],[0.8888888888888888,\"#fdca26\"],[1.0,\"#f0f921\"]],\"type\":\"contour\"}],\"heatmapgl\":[{\"colorbar\":{\"outlinewidth\":0,\"ticks\":\"\"},\"colorscale\":[[0.0,\"#0d0887\"],[0.1111111111111111,\"#46039f\"],[0.2222222222222222,\"#7201a8\"],[0.3333333333333333,\"#9c179e\"],[0.4444444444444444,\"#bd3786\"],[0.5555555555555556,\"#d8576b\"],[0.6666666666666666,\"#ed7953\"],[0.7777777777777778,\"#fb9f3a\"],[0.8888888888888888,\"#fdca26\"],[1.0,\"#f0f921\"]],\"type\":\"heatmapgl\"}],\"heatmap\":[{\"colorbar\":{\"outlinewidth\":0,\"ticks\":\"\"},\"colorscale\":[[0.0,\"#0d0887\"],[0.1111111111111111,\"#46039f\"],[0.2222222222222222,\"#7201a8\"],[0.3333333333333333,\"#9c179e\"],[0.4444444444444444,\"#bd3786\"],[0.5555555555555556,\"#d8576b\"],[0.6666666666666666,\"#ed7953\"],[0.7777777777777778,\"#fb9f3a\"],[0.8888888888888888,\"#fdca26\"],[1.0,\"#f0f921\"]],\"type\":\"heatmap\"}],\"histogram2dcontour\":[{\"colorbar\":{\"outlinewidth\":0,\"ticks\":\"\"},\"colorscale\":[[0.0,\"#0d0887\"],[0.1111111111111111,\"#46039f\"],[0.2222222222222222,\"#7201a8\"],[0.3333333333333333,\"#9c179e\"],[0.4444444444444444,\"#bd3786\"],[0.5555555555555556,\"#d8576b\"],[0.6666666666666666,\"#ed7953\"],[0.7777777777777778,\"#fb9f3a\"],[0.8888888888888888,\"#fdca26\"],[1.0,\"#f0f921\"]],\"type\":\"histogram2dcontour\"}],\"histogram2d\":[{\"colorbar\":{\"outlinewidth\":0,\"ticks\":\"\"},\"colorscale\":[[0.0,\"#0d0887\"],[0.1111111111111111,\"#46039f\"],[0.2222222222222222,\"#7201a8\"],[0.3333333333333333,\"#9c179e\"],[0.4444444444444444,\"#bd3786\"],[0.5555555555555556,\"#d8576b\"],[0.6666666666666666,\"#ed7953\"],[0.7777777777777778,\"#fb9f3a\"],[0.8888888888888888,\"#fdca26\"],[1.0,\"#f0f921\"]],\"type\":\"histogram2d\"}],\"histogram\":[{\"marker\":{\"pattern\":{\"fillmode\":\"overlay\",\"size\":10,\"solidity\":0.2}},\"type\":\"histogram\"}],\"mesh3d\":[{\"colorbar\":{\"outlinewidth\":0,\"ticks\":\"\"},\"type\":\"mesh3d\"}],\"parcoords\":[{\"line\":{\"colorbar\":{\"outlinewidth\":0,\"ticks\":\"\"}},\"type\":\"parcoords\"}],\"pie\":[{\"automargin\":true,\"type\":\"pie\"}],\"scatter3d\":[{\"line\":{\"colorbar\":{\"outlinewidth\":0,\"ticks\":\"\"}},\"marker\":{\"colorbar\":{\"outlinewidth\":0,\"ticks\":\"\"}},\"type\":\"scatter3d\"}],\"scattercarpet\":[{\"marker\":{\"colorbar\":{\"outlinewidth\":0,\"ticks\":\"\"}},\"type\":\"scattercarpet\"}],\"scattergeo\":[{\"marker\":{\"colorbar\":{\"outlinewidth\":0,\"ticks\":\"\"}},\"type\":\"scattergeo\"}],\"scattergl\":[{\"marker\":{\"colorbar\":{\"outlinewidth\":0,\"ticks\":\"\"}},\"type\":\"scattergl\"}],\"scattermapbox\":[{\"marker\":{\"colorbar\":{\"outlinewidth\":0,\"ticks\":\"\"}},\"type\":\"scattermapbox\"}],\"scatterpolargl\":[{\"marker\":{\"colorbar\":{\"outlinewidth\":0,\"ticks\":\"\"}},\"type\":\"scatterpolargl\"}],\"scatterpolar\":[{\"marker\":{\"colorbar\":{\"outlinewidth\":0,\"ticks\":\"\"}},\"type\":\"scatterpolar\"}],\"scatter\":[{\"fillpattern\":{\"fillmode\":\"overlay\",\"size\":10,\"solidity\":0.2},\"type\":\"scatter\"}],\"scatterternary\":[{\"marker\":{\"colorbar\":{\"outlinewidth\":0,\"ticks\":\"\"}},\"type\":\"scatterternary\"}],\"surface\":[{\"colorbar\":{\"outlinewidth\":0,\"ticks\":\"\"},\"colorscale\":[[0.0,\"#0d0887\"],[0.1111111111111111,\"#46039f\"],[0.2222222222222222,\"#7201a8\"],[0.3333333333333333,\"#9c179e\"],[0.4444444444444444,\"#bd3786\"],[0.5555555555555556,\"#d8576b\"],[0.6666666666666666,\"#ed7953\"],[0.7777777777777778,\"#fb9f3a\"],[0.8888888888888888,\"#fdca26\"],[1.0,\"#f0f921\"]],\"type\":\"surface\"}],\"table\":[{\"cells\":{\"fill\":{\"color\":\"#EBF0F8\"},\"line\":{\"color\":\"white\"}},\"header\":{\"fill\":{\"color\":\"#C8D4E3\"},\"line\":{\"color\":\"white\"}},\"type\":\"table\"}]},\"layout\":{\"annotationdefaults\":{\"arrowcolor\":\"#2a3f5f\",\"arrowhead\":0,\"arrowwidth\":1},\"autotypenumbers\":\"strict\",\"coloraxis\":{\"colorbar\":{\"outlinewidth\":0,\"ticks\":\"\"}},\"colorscale\":{\"diverging\":[[0,\"#8e0152\"],[0.1,\"#c51b7d\"],[0.2,\"#de77ae\"],[0.3,\"#f1b6da\"],[0.4,\"#fde0ef\"],[0.5,\"#f7f7f7\"],[0.6,\"#e6f5d0\"],[0.7,\"#b8e186\"],[0.8,\"#7fbc41\"],[0.9,\"#4d9221\"],[1,\"#276419\"]],\"sequential\":[[0.0,\"#0d0887\"],[0.1111111111111111,\"#46039f\"],[0.2222222222222222,\"#7201a8\"],[0.3333333333333333,\"#9c179e\"],[0.4444444444444444,\"#bd3786\"],[0.5555555555555556,\"#d8576b\"],[0.6666666666666666,\"#ed7953\"],[0.7777777777777778,\"#fb9f3a\"],[0.8888888888888888,\"#fdca26\"],[1.0,\"#f0f921\"]],\"sequentialminus\":[[0.0,\"#0d0887\"],[0.1111111111111111,\"#46039f\"],[0.2222222222222222,\"#7201a8\"],[0.3333333333333333,\"#9c179e\"],[0.4444444444444444,\"#bd3786\"],[0.5555555555555556,\"#d8576b\"],[0.6666666666666666,\"#ed7953\"],[0.7777777777777778,\"#fb9f3a\"],[0.8888888888888888,\"#fdca26\"],[1.0,\"#f0f921\"]]},\"colorway\":[\"#636efa\",\"#EF553B\",\"#00cc96\",\"#ab63fa\",\"#FFA15A\",\"#19d3f3\",\"#FF6692\",\"#B6E880\",\"#FF97FF\",\"#FECB52\"],\"font\":{\"color\":\"#2a3f5f\"},\"geo\":{\"bgcolor\":\"white\",\"lakecolor\":\"white\",\"landcolor\":\"#E5ECF6\",\"showlakes\":true,\"showland\":true,\"subunitcolor\":\"white\"},\"hoverlabel\":{\"align\":\"left\"},\"hovermode\":\"closest\",\"mapbox\":{\"style\":\"light\"},\"paper_bgcolor\":\"white\",\"plot_bgcolor\":\"#E5ECF6\",\"polar\":{\"angularaxis\":{\"gridcolor\":\"white\",\"linecolor\":\"white\",\"ticks\":\"\"},\"bgcolor\":\"#E5ECF6\",\"radialaxis\":{\"gridcolor\":\"white\",\"linecolor\":\"white\",\"ticks\":\"\"}},\"scene\":{\"xaxis\":{\"backgroundcolor\":\"#E5ECF6\",\"gridcolor\":\"white\",\"gridwidth\":2,\"linecolor\":\"white\",\"showbackground\":true,\"ticks\":\"\",\"zerolinecolor\":\"white\"},\"yaxis\":{\"backgroundcolor\":\"#E5ECF6\",\"gridcolor\":\"white\",\"gridwidth\":2,\"linecolor\":\"white\",\"showbackground\":true,\"ticks\":\"\",\"zerolinecolor\":\"white\"},\"zaxis\":{\"backgroundcolor\":\"#E5ECF6\",\"gridcolor\":\"white\",\"gridwidth\":2,\"linecolor\":\"white\",\"showbackground\":true,\"ticks\":\"\",\"zerolinecolor\":\"white\"}},\"shapedefaults\":{\"line\":{\"color\":\"#2a3f5f\"}},\"ternary\":{\"aaxis\":{\"gridcolor\":\"white\",\"linecolor\":\"white\",\"ticks\":\"\"},\"baxis\":{\"gridcolor\":\"white\",\"linecolor\":\"white\",\"ticks\":\"\"},\"bgcolor\":\"#E5ECF6\",\"caxis\":{\"gridcolor\":\"white\",\"linecolor\":\"white\",\"ticks\":\"\"}},\"title\":{\"x\":0.05},\"xaxis\":{\"automargin\":true,\"gridcolor\":\"white\",\"linecolor\":\"white\",\"ticks\":\"\",\"title\":{\"standoff\":15},\"zerolinecolor\":\"white\",\"zerolinewidth\":2},\"yaxis\":{\"automargin\":true,\"gridcolor\":\"white\",\"linecolor\":\"white\",\"ticks\":\"\",\"title\":{\"standoff\":15},\"zerolinecolor\":\"white\",\"zerolinewidth\":2}}},\"title\":{\"font\":{\"color\":\"#4D5663\"}},\"xaxis\":{\"gridcolor\":\"#E1E5ED\",\"showgrid\":true,\"tickfont\":{\"color\":\"#4D5663\"},\"title\":{\"font\":{\"color\":\"#4D5663\"},\"text\":\"\"},\"zerolinecolor\":\"#E1E5ED\"},\"yaxis\":{\"gridcolor\":\"#E1E5ED\",\"showgrid\":true,\"tickfont\":{\"color\":\"#4D5663\"},\"title\":{\"font\":{\"color\":\"#4D5663\"},\"text\":\"\"},\"zerolinecolor\":\"#E1E5ED\"}},                        {\"showLink\": true, \"linkText\": \"Export to plot.ly\", \"plotlyServerURL\": \"https://plot.ly\", \"responsive\": true}                    ).then(function(){\n",
       "                            \n",
       "var gd = document.getElementById('348b3e81-509d-4c98-8515-d312bd0a11a3');\n",
       "var x = new MutationObserver(function (mutations, observer) {{\n",
       "        var display = window.getComputedStyle(gd).display;\n",
       "        if (!display || display === 'none') {{\n",
       "            console.log([gd, 'removed!']);\n",
       "            Plotly.purge(gd);\n",
       "            observer.disconnect();\n",
       "        }}\n",
       "}});\n",
       "\n",
       "// Listen for the removal of the full notebook cells\n",
       "var notebookContainer = gd.closest('#notebook-container');\n",
       "if (notebookContainer) {{\n",
       "    x.observe(notebookContainer, {childList: true});\n",
       "}}\n",
       "\n",
       "// Listen for the clearing of the current output cell\n",
       "var outputEl = gd.closest('.output');\n",
       "if (outputEl) {{\n",
       "    x.observe(outputEl, {childList: true});\n",
       "}}\n",
       "\n",
       "                        })                };                });            </script>        </div>"
      ]
     },
     "metadata": {},
     "output_type": "display_data"
    }
   ],
   "source": [
    "df.iplot(kind='line')"
   ]
  }
 ],
 "metadata": {
  "kernelspec": {
   "display_name": "Python 3 (ipykernel)",
   "language": "python",
   "name": "python3"
  },
  "language_info": {
   "codemirror_mode": {
    "name": "ipython",
    "version": 3
   },
   "file_extension": ".py",
   "mimetype": "text/x-python",
   "name": "python",
   "nbconvert_exporter": "python",
   "pygments_lexer": "ipython3",
   "version": "3.10.4"
  }
 },
 "nbformat": 4,
 "nbformat_minor": 5
}
