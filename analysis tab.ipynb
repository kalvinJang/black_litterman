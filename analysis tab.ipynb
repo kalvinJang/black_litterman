{
 "cells": [
  {
   "cell_type": "code",
   "execution_count": 2,
   "id": "ce2548f2",
   "metadata": {
    "scrolled": true
   },
   "outputs": [],
   "source": [
    "import pandas as pd\n",
    "import numpy as np\n",
    "import datetime\n",
    "from dateutil.relativedelta import relativedelta\n",
    "from Weekly_report import execute3, pivot\n",
    "from simulation import *\n",
    "from analysis import *\n",
    "import pymssql\n",
    "from statsmodels.tsa.vector_ar.vecm import *\n",
    "from factor_analyzer import FactorAnalyzer\n",
    "from factor_analyzer.factor_analyzer import calculate_bartlett_sphericity, calculate_kmo\n",
    "from tqdm.notebook import tqdm"
   ]
  },
  {
   "cell_type": "code",
   "execution_count": 3,
   "id": "2a0db76e",
   "metadata": {},
   "outputs": [],
   "source": [
    "def standardize(df):\n",
    "    return (df-df.mean())/df.std()"
   ]
  },
  {
   "cell_type": "code",
   "execution_count": 4,
   "id": "619b6a3a",
   "metadata": {
    "scrolled": true
   },
   "outputs": [],
   "source": [
    "qry = \"SELECT * FROM DATABASE\"\n",
    "FUND_ADJ_PRICE = execute3(qry)\n",
    "FUND_ADJ_PRICE = pivot(FUND_ADJ_PRICE, 'BASEDATE', 'FUND_CD', 'FUND_ADJ_PRICE')\n",
    "# FUND_ADJ_PRICE=FUND_ADJ_PRICE.pct_change().dropna(how='all')\n",
    "FUND_ADJ_PRICE=FUND_ADJ_PRICE.dropna(how='all')\n",
    "FUND_ADJ_PRICE.index = pd.to_datetime(FUND_ADJ_PRICE.index)"
   ]
  },
  {
   "cell_type": "code",
   "execution_count": 5,
   "id": "2b848aed",
   "metadata": {},
   "outputs": [],
   "source": [
    "Today = str(datetime.datetime.today().date())\n",
    "qry = (f\"\"\"\n",
    "       SELECT *\n",
    "       FROM DATABASE\n",
    "       WHERE BASEDATE <= '{Today}'\n",
    "       ORDER BY BASEDATE\n",
    "       \"\"\")\n",
    "FUND_ADJ_PRICE = execute3(qry)\n",
    "data = pivot(FUND_ADJ_PRICE, 'BASEDATE', 'FUND_CD', 'FUND_ADJ_PRICE')\n",
    "match_fund_name = {}\n",
    "data = data[match_fund_name.keys()]\n",
    "data.index = pd.to_datetime(data.index)\n",
    "FUND_ADJ_PRICE = data.pct_change().dropna(how='all')"
   ]
  },
  {
   "cell_type": "code",
   "execution_count": null,
   "id": "d4e9a3ba",
   "metadata": {
    "scrolled": true
   },
   "outputs": [],
   "source": [
    "qry = \"SELECT * FROM DATABASE WHERE BASEDATE >= '2003-01-01' ORDER BY BASEDATE\"\n",
    "INDEX = execute3(qry)\n",
    "INDEX = pivot(INDEX, 'BASEDATE', 'TICKER', 'PX_LAST')\n",
    "# INDEX=INDEX.pct_change().dropna(how='all').loc[FUND_ADJ_PRICE.index[0]:FUND_ADJ_PRICE.index[-1],:]\n",
    "# INDEX=INDEX.dropna(how='all').loc[FUND_ADJ_PRICE.index[0]:FUND_ADJ_PRICE.index[-1],:]\n",
    "INDEX=INDEX.dropna(how='all').loc[pd.to_datetime('2007-01-10'):,:]\n",
    "INDEX.index = pd.to_datetime(INDEX.index)\n",
    "INDEX = INDEX.dropna(thresh=0.9*INDEX.shape[1], axis=0)\n",
    "INDEX = INDEX.dropna(thresh=0.9*INDEX.shape[0], axis=1)"
   ]
  },
  {
   "cell_type": "code",
   "execution_count": 19,
   "id": "07ae15cb",
   "metadata": {
    "scrolled": true
   },
   "outputs": [],
   "source": [
    "temp = INDEX.resample('w-Fri').mean().ffill()\n",
    "temp = temp.apply(standardize)"
   ]
  },
  {
   "cell_type": "code",
   "execution_count": 20,
   "id": "76dee420",
   "metadata": {},
   "outputs": [
    {
     "data": {
      "text/plain": [
       "0"
      ]
     },
     "execution_count": 20,
     "metadata": {},
     "output_type": "execute_result"
    }
   ],
   "source": [
    "temp.dropna(inplace=True, axis=1)\n",
    "temp.loc[pd.to_datetime('2007-01-01'):].isna().sum().sum()"
   ]
  },
  {
   "cell_type": "code",
   "execution_count": null,
   "id": "db844d2b",
   "metadata": {
    "vscode": {
     "languageId": "plaintext"
    }
   },
   "outputs": [
    {
     "data": {
      "text/html": [
       "<div>\n",
       "<style scoped>\n",
       "    .dataframe tbody tr th:only-of-type {\n",
       "        vertical-align: middle;\n",
       "    }\n",
       "\n",
       "    .dataframe tbody tr th {\n",
       "        vertical-align: top;\n",
       "    }\n",
       "\n",
       "    .dataframe thead th {\n",
       "        text-align: right;\n",
       "    }\n",
       "</style>\n",
       "<table border=\"1\" class=\"dataframe\">\n",
       "  <thead>\n",
       "    <tr style=\"text-align: right;\">\n",
       "      <th>TICKER</th>\n",
       "      <th>BCOM Index</th>\n",
       "      <th>BCOMAG Index</th>\n",
       "      <th>BCOMIN Index</th>\n",
       "      <th>BCS5TRUU Index</th>\n",
       "      <th>BXN Index</th>\n",
       "      <th>BXNT Index</th>\n",
       "      <th>CEMBTOBS Index</th>\n",
       "      <th>CESICNY Index</th>\n",
       "      <th>CESIEUR Index</th>\n",
       "      <th>CESIGBP Index</th>\n",
       "      <th>...</th>\n",
       "      <th>USGG10YR Index</th>\n",
       "      <th>USGG2YR Index</th>\n",
       "      <th>USGGBE10 Index</th>\n",
       "      <th>USSP10 CMPN Curncy</th>\n",
       "      <th>V2X Index</th>\n",
       "      <th>VIX Index</th>\n",
       "      <th>VKOSPI Index</th>\n",
       "      <th>VNKY Index</th>\n",
       "      <th>XAU Curncy</th>\n",
       "      <th>XCMP Index</th>\n",
       "    </tr>\n",
       "    <tr>\n",
       "      <th>BASEDATE</th>\n",
       "      <th></th>\n",
       "      <th></th>\n",
       "      <th></th>\n",
       "      <th></th>\n",
       "      <th></th>\n",
       "      <th></th>\n",
       "      <th></th>\n",
       "      <th></th>\n",
       "      <th></th>\n",
       "      <th></th>\n",
       "      <th></th>\n",
       "      <th></th>\n",
       "      <th></th>\n",
       "      <th></th>\n",
       "      <th></th>\n",
       "      <th></th>\n",
       "      <th></th>\n",
       "      <th></th>\n",
       "      <th></th>\n",
       "      <th></th>\n",
       "      <th></th>\n",
       "    </tr>\n",
       "  </thead>\n",
       "  <tbody>\n",
       "    <tr>\n",
       "      <th>2007-01-12</th>\n",
       "      <td>1.131072</td>\n",
       "      <td>-0.012502</td>\n",
       "      <td>1.691014</td>\n",
       "      <td>-0.889525</td>\n",
       "      <td>-0.863103</td>\n",
       "      <td>-0.841824</td>\n",
       "      <td>-1.225189</td>\n",
       "      <td>-0.298901</td>\n",
       "      <td>0.492864</td>\n",
       "      <td>0.360235</td>\n",
       "      <td>...</td>\n",
       "      <td>2.286693</td>\n",
       "      <td>2.845952</td>\n",
       "      <td>0.605985</td>\n",
       "      <td>1.762264</td>\n",
       "      <td>-0.866999</td>\n",
       "      <td>-1.037022</td>\n",
       "      <td>-0.212209</td>\n",
       "      <td>-0.758848</td>\n",
       "      <td>-2.185273</td>\n",
       "      <td>-0.873101</td>\n",
       "    </tr>\n",
       "    <tr>\n",
       "      <th>2007-01-19</th>\n",
       "      <td>1.157932</td>\n",
       "      <td>0.118724</td>\n",
       "      <td>1.640577</td>\n",
       "      <td>-0.880255</td>\n",
       "      <td>-0.865106</td>\n",
       "      <td>-0.843570</td>\n",
       "      <td>-1.237640</td>\n",
       "      <td>-0.382859</td>\n",
       "      <td>0.671165</td>\n",
       "      <td>0.677358</td>\n",
       "      <td>...</td>\n",
       "      <td>2.322198</td>\n",
       "      <td>2.878101</td>\n",
       "      <td>0.640704</td>\n",
       "      <td>1.792226</td>\n",
       "      <td>-0.875717</td>\n",
       "      <td>-1.068161</td>\n",
       "      <td>-0.334953</td>\n",
       "      <td>-0.811402</td>\n",
       "      <td>-2.147414</td>\n",
       "      <td>-0.874742</td>\n",
       "    </tr>\n",
       "    <tr>\n",
       "      <th>2007-01-26</th>\n",
       "      <td>1.280297</td>\n",
       "      <td>0.100687</td>\n",
       "      <td>1.847864</td>\n",
       "      <td>-0.880255</td>\n",
       "      <td>-0.885577</td>\n",
       "      <td>-0.861416</td>\n",
       "      <td>-1.261309</td>\n",
       "      <td>-0.627924</td>\n",
       "      <td>0.590017</td>\n",
       "      <td>1.025804</td>\n",
       "      <td>...</td>\n",
       "      <td>2.385654</td>\n",
       "      <td>2.922548</td>\n",
       "      <td>0.864481</td>\n",
       "      <td>1.800306</td>\n",
       "      <td>-0.868699</td>\n",
       "      <td>-1.054565</td>\n",
       "      <td>-0.314954</td>\n",
       "      <td>-0.831633</td>\n",
       "      <td>-2.102513</td>\n",
       "      <td>-0.882530</td>\n",
       "    </tr>\n",
       "    <tr>\n",
       "      <th>2007-02-02</th>\n",
       "      <td>1.309660</td>\n",
       "      <td>0.084548</td>\n",
       "      <td>1.654113</td>\n",
       "      <td>-0.876061</td>\n",
       "      <td>-0.874978</td>\n",
       "      <td>-0.852176</td>\n",
       "      <td>-1.240475</td>\n",
       "      <td>-0.935457</td>\n",
       "      <td>0.421341</td>\n",
       "      <td>0.897320</td>\n",
       "      <td>...</td>\n",
       "      <td>2.406911</td>\n",
       "      <td>2.929040</td>\n",
       "      <td>0.940862</td>\n",
       "      <td>1.916060</td>\n",
       "      <td>-0.904473</td>\n",
       "      <td>-1.057416</td>\n",
       "      <td>-0.283652</td>\n",
       "      <td>-0.891664</td>\n",
       "      <td>-2.085510</td>\n",
       "      <td>-0.878066</td>\n",
       "    </tr>\n",
       "    <tr>\n",
       "      <th>2007-02-09</th>\n",
       "      <td>1.353257</td>\n",
       "      <td>0.098344</td>\n",
       "      <td>1.516577</td>\n",
       "      <td>-0.873265</td>\n",
       "      <td>-0.858333</td>\n",
       "      <td>-0.837665</td>\n",
       "      <td>-1.230736</td>\n",
       "      <td>-0.870186</td>\n",
       "      <td>0.330164</td>\n",
       "      <td>0.693158</td>\n",
       "      <td>...</td>\n",
       "      <td>2.322975</td>\n",
       "      <td>2.881909</td>\n",
       "      <td>0.838431</td>\n",
       "      <td>1.823782</td>\n",
       "      <td>-1.029112</td>\n",
       "      <td>-1.060925</td>\n",
       "      <td>-0.321910</td>\n",
       "      <td>-0.972805</td>\n",
       "      <td>-2.066701</td>\n",
       "      <td>-0.874205</td>\n",
       "    </tr>\n",
       "    <tr>\n",
       "      <th>...</th>\n",
       "      <td>...</td>\n",
       "      <td>...</td>\n",
       "      <td>...</td>\n",
       "      <td>...</td>\n",
       "      <td>...</td>\n",
       "      <td>...</td>\n",
       "      <td>...</td>\n",
       "      <td>...</td>\n",
       "      <td>...</td>\n",
       "      <td>...</td>\n",
       "      <td>...</td>\n",
       "      <td>...</td>\n",
       "      <td>...</td>\n",
       "      <td>...</td>\n",
       "      <td>...</td>\n",
       "      <td>...</td>\n",
       "      <td>...</td>\n",
       "      <td>...</td>\n",
       "      <td>...</td>\n",
       "      <td>...</td>\n",
       "      <td>...</td>\n",
       "    </tr>\n",
       "    <tr>\n",
       "      <th>2023-01-27</th>\n",
       "      <td>-0.153545</td>\n",
       "      <td>0.334238</td>\n",
       "      <td>0.848385</td>\n",
       "      <td>1.641053</td>\n",
       "      <td>1.430876</td>\n",
       "      <td>1.552560</td>\n",
       "      <td>0.120383</td>\n",
       "      <td>0.648657</td>\n",
       "      <td>1.248920</td>\n",
       "      <td>0.403756</td>\n",
       "      <td>...</td>\n",
       "      <td>0.974436</td>\n",
       "      <td>2.319042</td>\n",
       "      <td>0.677577</td>\n",
       "      <td>-0.694243</td>\n",
       "      <td>-0.598957</td>\n",
       "      <td>-0.133988</td>\n",
       "      <td>-0.351691</td>\n",
       "      <td>-0.751811</td>\n",
       "      <td>1.780109</td>\n",
       "      <td>1.557718</td>\n",
       "    </tr>\n",
       "    <tr>\n",
       "      <th>2023-02-03</th>\n",
       "      <td>-0.218291</td>\n",
       "      <td>0.449251</td>\n",
       "      <td>0.784324</td>\n",
       "      <td>1.681732</td>\n",
       "      <td>1.459802</td>\n",
       "      <td>1.580313</td>\n",
       "      <td>0.120383</td>\n",
       "      <td>0.899729</td>\n",
       "      <td>1.421244</td>\n",
       "      <td>0.074021</td>\n",
       "      <td>...</td>\n",
       "      <td>0.969206</td>\n",
       "      <td>2.317435</td>\n",
       "      <td>0.566047</td>\n",
       "      <td>-0.606709</td>\n",
       "      <td>-0.613917</td>\n",
       "      <td>-0.157233</td>\n",
       "      <td>-0.287348</td>\n",
       "      <td>-0.809204</td>\n",
       "      <td>1.724723</td>\n",
       "      <td>1.654917</td>\n",
       "    </tr>\n",
       "    <tr>\n",
       "      <th>2023-02-10</th>\n",
       "      <td>-0.269586</td>\n",
       "      <td>0.428573</td>\n",
       "      <td>0.581835</td>\n",
       "      <td>1.677755</td>\n",
       "      <td>1.480148</td>\n",
       "      <td>1.599865</td>\n",
       "      <td>0.120383</td>\n",
       "      <td>1.257716</td>\n",
       "      <td>1.386901</td>\n",
       "      <td>-0.338876</td>\n",
       "      <td>...</td>\n",
       "      <td>1.165749</td>\n",
       "      <td>2.545985</td>\n",
       "      <td>0.730109</td>\n",
       "      <td>-0.649335</td>\n",
       "      <td>-0.494731</td>\n",
       "      <td>-0.054386</td>\n",
       "      <td>-0.263871</td>\n",
       "      <td>-0.877151</td>\n",
       "      <td>1.582485</td>\n",
       "      <td>1.677339</td>\n",
       "    </tr>\n",
       "    <tr>\n",
       "      <th>2023-02-17</th>\n",
       "      <td>-0.273865</td>\n",
       "      <td>0.476469</td>\n",
       "      <td>0.479152</td>\n",
       "      <td>1.678123</td>\n",
       "      <td>1.483146</td>\n",
       "      <td>1.580882</td>\n",
       "      <td>0.120383</td>\n",
       "      <td>1.395065</td>\n",
       "      <td>1.206675</td>\n",
       "      <td>-0.964666</td>\n",
       "      <td>...</td>\n",
       "      <td>1.294405</td>\n",
       "      <td>2.652700</td>\n",
       "      <td>0.780631</td>\n",
       "      <td>-0.588653</td>\n",
       "      <td>-0.521242</td>\n",
       "      <td>-0.082674</td>\n",
       "      <td>-0.195181</td>\n",
       "      <td>-0.955213</td>\n",
       "      <td>1.509723</td>\n",
       "      <td>1.686436</td>\n",
       "    </tr>\n",
       "    <tr>\n",
       "      <th>2023-02-24</th>\n",
       "      <td>-0.306631</td>\n",
       "      <td>0.496320</td>\n",
       "      <td>0.538585</td>\n",
       "      <td>1.626920</td>\n",
       "      <td>1.439644</td>\n",
       "      <td>1.491633</td>\n",
       "      <td>0.120383</td>\n",
       "      <td>1.420960</td>\n",
       "      <td>0.984711</td>\n",
       "      <td>-0.648098</td>\n",
       "      <td>...</td>\n",
       "      <td>1.409071</td>\n",
       "      <td>2.711722</td>\n",
       "      <td>0.916136</td>\n",
       "      <td>-0.547364</td>\n",
       "      <td>-0.317723</td>\n",
       "      <td>0.201964</td>\n",
       "      <td>-0.104970</td>\n",
       "      <td>-0.851570</td>\n",
       "      <td>1.477966</td>\n",
       "      <td>1.604032</td>\n",
       "    </tr>\n",
       "  </tbody>\n",
       "</table>\n",
       "<p>842 rows × 229 columns</p>\n",
       "</div>"
      ],
      "text/plain": [
       "TICKER      BCOM Index  BCOMAG Index  BCOMIN Index  BCS5TRUU Index  BXN Index  \\\n",
       "BASEDATE                                                                        \n",
       "2007-01-12    1.131072     -0.012502      1.691014       -0.889525  -0.863103   \n",
       "2007-01-19    1.157932      0.118724      1.640577       -0.880255  -0.865106   \n",
       "2007-01-26    1.280297      0.100687      1.847864       -0.880255  -0.885577   \n",
       "2007-02-02    1.309660      0.084548      1.654113       -0.876061  -0.874978   \n",
       "2007-02-09    1.353257      0.098344      1.516577       -0.873265  -0.858333   \n",
       "...                ...           ...           ...             ...        ...   \n",
       "2023-01-27   -0.153545      0.334238      0.848385        1.641053   1.430876   \n",
       "2023-02-03   -0.218291      0.449251      0.784324        1.681732   1.459802   \n",
       "2023-02-10   -0.269586      0.428573      0.581835        1.677755   1.480148   \n",
       "2023-02-17   -0.273865      0.476469      0.479152        1.678123   1.483146   \n",
       "2023-02-24   -0.306631      0.496320      0.538585        1.626920   1.439644   \n",
       "\n",
       "TICKER      BXNT Index  CEMBTOBS Index  CESICNY Index  CESIEUR Index  \\\n",
       "BASEDATE                                                               \n",
       "2007-01-12   -0.841824       -1.225189      -0.298901       0.492864   \n",
       "2007-01-19   -0.843570       -1.237640      -0.382859       0.671165   \n",
       "2007-01-26   -0.861416       -1.261309      -0.627924       0.590017   \n",
       "2007-02-02   -0.852176       -1.240475      -0.935457       0.421341   \n",
       "2007-02-09   -0.837665       -1.230736      -0.870186       0.330164   \n",
       "...                ...             ...            ...            ...   \n",
       "2023-01-27    1.552560        0.120383       0.648657       1.248920   \n",
       "2023-02-03    1.580313        0.120383       0.899729       1.421244   \n",
       "2023-02-10    1.599865        0.120383       1.257716       1.386901   \n",
       "2023-02-17    1.580882        0.120383       1.395065       1.206675   \n",
       "2023-02-24    1.491633        0.120383       1.420960       0.984711   \n",
       "\n",
       "TICKER      CESIGBP Index  ...  USGG10YR Index  USGG2YR Index  USGGBE10 Index  \\\n",
       "BASEDATE                   ...                                                  \n",
       "2007-01-12       0.360235  ...        2.286693       2.845952        0.605985   \n",
       "2007-01-19       0.677358  ...        2.322198       2.878101        0.640704   \n",
       "2007-01-26       1.025804  ...        2.385654       2.922548        0.864481   \n",
       "2007-02-02       0.897320  ...        2.406911       2.929040        0.940862   \n",
       "2007-02-09       0.693158  ...        2.322975       2.881909        0.838431   \n",
       "...                   ...  ...             ...            ...             ...   \n",
       "2023-01-27       0.403756  ...        0.974436       2.319042        0.677577   \n",
       "2023-02-03       0.074021  ...        0.969206       2.317435        0.566047   \n",
       "2023-02-10      -0.338876  ...        1.165749       2.545985        0.730109   \n",
       "2023-02-17      -0.964666  ...        1.294405       2.652700        0.780631   \n",
       "2023-02-24      -0.648098  ...        1.409071       2.711722        0.916136   \n",
       "\n",
       "TICKER      USSP10 CMPN Curncy  V2X Index  VIX Index  VKOSPI Index  \\\n",
       "BASEDATE                                                             \n",
       "2007-01-12            1.762264  -0.866999  -1.037022     -0.212209   \n",
       "2007-01-19            1.792226  -0.875717  -1.068161     -0.334953   \n",
       "2007-01-26            1.800306  -0.868699  -1.054565     -0.314954   \n",
       "2007-02-02            1.916060  -0.904473  -1.057416     -0.283652   \n",
       "2007-02-09            1.823782  -1.029112  -1.060925     -0.321910   \n",
       "...                        ...        ...        ...           ...   \n",
       "2023-01-27           -0.694243  -0.598957  -0.133988     -0.351691   \n",
       "2023-02-03           -0.606709  -0.613917  -0.157233     -0.287348   \n",
       "2023-02-10           -0.649335  -0.494731  -0.054386     -0.263871   \n",
       "2023-02-17           -0.588653  -0.521242  -0.082674     -0.195181   \n",
       "2023-02-24           -0.547364  -0.317723   0.201964     -0.104970   \n",
       "\n",
       "TICKER      VNKY Index  XAU Curncy  XCMP Index  \n",
       "BASEDATE                                        \n",
       "2007-01-12   -0.758848   -2.185273   -0.873101  \n",
       "2007-01-19   -0.811402   -2.147414   -0.874742  \n",
       "2007-01-26   -0.831633   -2.102513   -0.882530  \n",
       "2007-02-02   -0.891664   -2.085510   -0.878066  \n",
       "2007-02-09   -0.972805   -2.066701   -0.874205  \n",
       "...                ...         ...         ...  \n",
       "2023-01-27   -0.751811    1.780109    1.557718  \n",
       "2023-02-03   -0.809204    1.724723    1.654917  \n",
       "2023-02-10   -0.877151    1.582485    1.677339  \n",
       "2023-02-17   -0.955213    1.509723    1.686436  \n",
       "2023-02-24   -0.851570    1.477966    1.604032  \n",
       "\n",
       "[842 rows x 229 columns]"
      ]
     },
     "execution_count": 21,
     "metadata": {},
     "output_type": "execute_result"
    }
   ],
   "source": [
    "temp"
   ]
  },
  {
   "cell_type": "code",
   "execution_count": 22,
   "id": "d6e906f4",
   "metadata": {},
   "outputs": [
    {
     "data": {
      "text/plain": [
       "(842, 229)"
      ]
     },
     "execution_count": 22,
     "metadata": {},
     "output_type": "execute_result"
    }
   ],
   "source": [
    "temp.shape"
   ]
  },
  {
   "cell_type": "code",
   "execution_count": null,
   "id": "6b93fd74",
   "metadata": {},
   "outputs": [],
   "source": [
    "chi_square_value,p_value=calculate_bartlett_sphericity(temp)\n",
    "chi_square_value, p_value"
   ]
  },
  {
   "cell_type": "code",
   "execution_count": null,
   "id": "3edbbe87",
   "metadata": {
    "scrolled": true
   },
   "outputs": [],
   "source": [
    "# 0.8이상이어야 귀무가설 기각 = 요인분석 진행할 수 있음\n",
    "kmo_all,kmo_model=calculate_kmo(temp)\n",
    "kmo_model"
   ]
  },
  {
   "cell_type": "markdown",
   "id": "e2810bb5",
   "metadata": {},
   "source": [
    "##### 요인분석 시작  : 요인 선택 기준은 proportion Var가 5% 이상\n",
    "- varimax : n_factors=4 : 마지막팩터 기여도 6.6%, cum Var:0.8371\n",
    "- promax  : n_factors=5 : 마지막팩터 기여도 5.1%, cum Var:0.8848  -  -   -   (promax 5 낙찰!)\n",
    "    - promax가 n_factors=4일 때 6.92%, cum=0.8338\n",
    "- oblimin  :   ==> 아주 별로임\n",
    "- oblimax  : n_factors=4 : 마지막팩터 기여도 6.24%, cum Var:0.8371\n",
    "- quartimin  :   ==> 아주 별로임\n",
    "- quartimax  : n_factors=4 : 마지막팩터 기여도 6.29%, cum Var:0.8371\n",
    "- equamax  : n_factors=4 : 마지막팩터 기여도 6.29%, cum Var:0.8371"
   ]
  },
  {
   "cell_type": "code",
   "execution_count": 10,
   "id": "838bc4c0",
   "metadata": {},
   "outputs": [],
   "source": [
    "# rotation과 factor 최적 조합 산출\n",
    "def factor_analysis(df, n_factors=9, rotation='varimax'):\n",
    "    button=True\n",
    "    fa = FactorAnalyzer(n_factors=n_factors, rotation=rotation)\n",
    "    fa.fit(df)\n",
    "    eigen_values, vectors = fa.get_eigenvalues()\n",
    "    \n",
    "    sub_factors = (eigen_values>1).sum()\n",
    "    print(sub_factors)\n",
    "    while True:\n",
    "        fa = FactorAnalyzer(n_factors=sub_factors, rotation=rotation)\n",
    "        fa.fit(df)\n",
    "        if fa.get_factor_variance()[2][-1]>0.7:\n",
    "            for i in range(sub_factors):\n",
    "                w = fa.get_factor_variance()[1][i]\n",
    "                if w>=0.05:\n",
    "                    pass\n",
    "                else:\n",
    "                    sub_factors = i\n",
    "                    print('found', i)\n",
    "                    break\n",
    "        break\n",
    "    while True:\n",
    "        sub_factors+=1\n",
    "        fa = FactorAnalyzer(n_factors=sub_factors, rotation=rotation)\n",
    "        fa.fit(df)\n",
    "        w = fa.get_factor_variance()[1][-1]\n",
    "        if w>=0.05:\n",
    "            print('one more...')\n",
    "            continue\n",
    "        else:\n",
    "            sub_factors -= 1\n",
    "            break\n",
    "    print('At last,', sub_factors, rotation)\n",
    "    fa = FactorAnalyzer(n_factors=sub_factors, rotation=rotation)\n",
    "    fa.fit(df)\n",
    "    return pd.DataFrame(fa.get_factor_variance(), index=['SS Loadings=factor variance', 'Proportion Var', 'Cumulative Var'])"
   ]
  },
  {
   "cell_type": "code",
   "execution_count": null,
   "id": "60931ca0",
   "metadata": {
    "scrolled": true
   },
   "outputs": [],
   "source": [
    "%%time\n",
    "for rot in tqdm(['varimax', 'promax', 'oblimin', 'oblimax', 'quartimin', 'quartimax', 'equamax']):\n",
    "    temp_fac = factor_analysis(df=temp, rotation = rot)\n",
    "    print(temp_fac)"
   ]
  },
  {
   "cell_type": "markdown",
   "id": "a50e61dd",
   "metadata": {},
   "source": [
    "##### (n_factors=5, rotation='promax')로 결정"
   ]
  },
  {
   "cell_type": "code",
   "execution_count": 23,
   "id": "66b24f4a",
   "metadata": {},
   "outputs": [
    {
     "data": {
      "text/html": [
       "<style>#sk-container-id-2 {color: black;background-color: white;}#sk-container-id-2 pre{padding: 0;}#sk-container-id-2 div.sk-toggleable {background-color: white;}#sk-container-id-2 label.sk-toggleable__label {cursor: pointer;display: block;width: 100%;margin-bottom: 0;padding: 0.3em;box-sizing: border-box;text-align: center;}#sk-container-id-2 label.sk-toggleable__label-arrow:before {content: \"▸\";float: left;margin-right: 0.25em;color: #696969;}#sk-container-id-2 label.sk-toggleable__label-arrow:hover:before {color: black;}#sk-container-id-2 div.sk-estimator:hover label.sk-toggleable__label-arrow:before {color: black;}#sk-container-id-2 div.sk-toggleable__content {max-height: 0;max-width: 0;overflow: hidden;text-align: left;background-color: #f0f8ff;}#sk-container-id-2 div.sk-toggleable__content pre {margin: 0.2em;color: black;border-radius: 0.25em;background-color: #f0f8ff;}#sk-container-id-2 input.sk-toggleable__control:checked~div.sk-toggleable__content {max-height: 200px;max-width: 100%;overflow: auto;}#sk-container-id-2 input.sk-toggleable__control:checked~label.sk-toggleable__label-arrow:before {content: \"▾\";}#sk-container-id-2 div.sk-estimator input.sk-toggleable__control:checked~label.sk-toggleable__label {background-color: #d4ebff;}#sk-container-id-2 div.sk-label input.sk-toggleable__control:checked~label.sk-toggleable__label {background-color: #d4ebff;}#sk-container-id-2 input.sk-hidden--visually {border: 0;clip: rect(1px 1px 1px 1px);clip: rect(1px, 1px, 1px, 1px);height: 1px;margin: -1px;overflow: hidden;padding: 0;position: absolute;width: 1px;}#sk-container-id-2 div.sk-estimator {font-family: monospace;background-color: #f0f8ff;border: 1px dotted black;border-radius: 0.25em;box-sizing: border-box;margin-bottom: 0.5em;}#sk-container-id-2 div.sk-estimator:hover {background-color: #d4ebff;}#sk-container-id-2 div.sk-parallel-item::after {content: \"\";width: 100%;border-bottom: 1px solid gray;flex-grow: 1;}#sk-container-id-2 div.sk-label:hover label.sk-toggleable__label {background-color: #d4ebff;}#sk-container-id-2 div.sk-serial::before {content: \"\";position: absolute;border-left: 1px solid gray;box-sizing: border-box;top: 0;bottom: 0;left: 50%;z-index: 0;}#sk-container-id-2 div.sk-serial {display: flex;flex-direction: column;align-items: center;background-color: white;padding-right: 0.2em;padding-left: 0.2em;position: relative;}#sk-container-id-2 div.sk-item {position: relative;z-index: 1;}#sk-container-id-2 div.sk-parallel {display: flex;align-items: stretch;justify-content: center;background-color: white;position: relative;}#sk-container-id-2 div.sk-item::before, #sk-container-id-2 div.sk-parallel-item::before {content: \"\";position: absolute;border-left: 1px solid gray;box-sizing: border-box;top: 0;bottom: 0;left: 50%;z-index: -1;}#sk-container-id-2 div.sk-parallel-item {display: flex;flex-direction: column;z-index: 1;position: relative;background-color: white;}#sk-container-id-2 div.sk-parallel-item:first-child::after {align-self: flex-end;width: 50%;}#sk-container-id-2 div.sk-parallel-item:last-child::after {align-self: flex-start;width: 50%;}#sk-container-id-2 div.sk-parallel-item:only-child::after {width: 0;}#sk-container-id-2 div.sk-dashed-wrapped {border: 1px dashed gray;margin: 0 0.4em 0.5em 0.4em;box-sizing: border-box;padding-bottom: 0.4em;background-color: white;}#sk-container-id-2 div.sk-label label {font-family: monospace;font-weight: bold;display: inline-block;line-height: 1.2em;}#sk-container-id-2 div.sk-label-container {text-align: center;}#sk-container-id-2 div.sk-container {/* jupyter's `normalize.less` sets `[hidden] { display: none; }` but bootstrap.min.css set `[hidden] { display: none !important; }` so we also need the `!important` here to be able to override the default hidden behavior on the sphinx rendered scikit-learn.org. See: https://github.com/scikit-learn/scikit-learn/issues/21755 */display: inline-block !important;position: relative;}#sk-container-id-2 div.sk-text-repr-fallback {display: none;}</style><div id=\"sk-container-id-2\" class=\"sk-top-container\"><div class=\"sk-text-repr-fallback\"><pre>FactorAnalyzer(n_factors=5, rotation_kwargs={})</pre><b>In a Jupyter environment, please rerun this cell to show the HTML representation or trust the notebook. <br />On GitHub, the HTML representation is unable to render, please try loading this page with nbviewer.org.</b></div><div class=\"sk-container\" hidden><div class=\"sk-item\"><div class=\"sk-estimator sk-toggleable\"><input class=\"sk-toggleable__control sk-hidden--visually\" id=\"sk-estimator-id-2\" type=\"checkbox\" checked><label for=\"sk-estimator-id-2\" class=\"sk-toggleable__label sk-toggleable__label-arrow\">FactorAnalyzer</label><div class=\"sk-toggleable__content\"><pre>FactorAnalyzer(n_factors=5, rotation_kwargs={})</pre></div></div></div></div></div>"
      ],
      "text/plain": [
       "FactorAnalyzer(n_factors=5, rotation_kwargs={})"
      ]
     },
     "execution_count": 23,
     "metadata": {},
     "output_type": "execute_result"
    }
   ],
   "source": [
    "fa = FactorAnalyzer(n_factors=5, rotation='promax')\n",
    "fa.fit(temp)"
   ]
  },
  {
   "cell_type": "code",
   "execution_count": 24,
   "id": "4792b422",
   "metadata": {
    "scrolled": true
   },
   "outputs": [
    {
     "data": {
      "text/html": [
       "<div>\n",
       "<style scoped>\n",
       "    .dataframe tbody tr th:only-of-type {\n",
       "        vertical-align: middle;\n",
       "    }\n",
       "\n",
       "    .dataframe tbody tr th {\n",
       "        vertical-align: top;\n",
       "    }\n",
       "\n",
       "    .dataframe thead th {\n",
       "        text-align: right;\n",
       "    }\n",
       "</style>\n",
       "<table border=\"1\" class=\"dataframe\">\n",
       "  <thead>\n",
       "    <tr style=\"text-align: right;\">\n",
       "      <th></th>\n",
       "      <th>주식시장요인</th>\n",
       "      <th>원자재요인</th>\n",
       "      <th>변동성요인</th>\n",
       "      <th>미국통화정책요인</th>\n",
       "      <th>기타공통요인</th>\n",
       "    </tr>\n",
       "  </thead>\n",
       "  <tbody>\n",
       "    <tr>\n",
       "      <th>SS Loadings=factor variance</th>\n",
       "      <td>103.852553</td>\n",
       "      <td>38.593130</td>\n",
       "      <td>28.761908</td>\n",
       "      <td>19.498913</td>\n",
       "      <td>8.360749</td>\n",
       "    </tr>\n",
       "    <tr>\n",
       "      <th>Proportion Var</th>\n",
       "      <td>0.453505</td>\n",
       "      <td>0.168529</td>\n",
       "      <td>0.125598</td>\n",
       "      <td>0.085148</td>\n",
       "      <td>0.036510</td>\n",
       "    </tr>\n",
       "    <tr>\n",
       "      <th>Cumulative Var</th>\n",
       "      <td>0.453505</td>\n",
       "      <td>0.622034</td>\n",
       "      <td>0.747631</td>\n",
       "      <td>0.832779</td>\n",
       "      <td>0.869289</td>\n",
       "    </tr>\n",
       "  </tbody>\n",
       "</table>\n",
       "</div>"
      ],
      "text/plain": [
       "                                 주식시장요인      원자재요인      변동성요인   미국통화정책요인  \\\n",
       "SS Loadings=factor variance  103.852553  38.593130  28.761908  19.498913   \n",
       "Proportion Var                 0.453505   0.168529   0.125598   0.085148   \n",
       "Cumulative Var                 0.453505   0.622034   0.747631   0.832779   \n",
       "\n",
       "                               기타공통요인  \n",
       "SS Loadings=factor variance  8.360749  \n",
       "Proportion Var               0.036510  \n",
       "Cumulative Var               0.869289  "
      ]
     },
     "execution_count": 24,
     "metadata": {},
     "output_type": "execute_result"
    }
   ],
   "source": [
    "pd.DataFrame(fa.get_factor_variance(), index=['SS Loadings=factor variance', 'Proportion Var', 'Cumulative Var'],\n",
    "            columns = ['주식시장요인', '원자재요인','변동성요인', '미국통화정책요인', '기타공통요인'])"
   ]
  },
  {
   "cell_type": "code",
   "execution_count": 25,
   "id": "56d5df13",
   "metadata": {
    "scrolled": false
   },
   "outputs": [],
   "source": [
    "loading = pd.DataFrame(fa.loadings_, index=temp.columns)\n",
    "looking_loading = (loading * (np.abs(loading)>0.5)).dropna(axis=1)"
   ]
  },
  {
   "cell_type": "code",
   "execution_count": 26,
   "id": "4d5db929",
   "metadata": {},
   "outputs": [
    {
     "data": {
      "text/html": [
       "<div>\n",
       "<style scoped>\n",
       "    .dataframe tbody tr th:only-of-type {\n",
       "        vertical-align: middle;\n",
       "    }\n",
       "\n",
       "    .dataframe tbody tr th {\n",
       "        vertical-align: top;\n",
       "    }\n",
       "\n",
       "    .dataframe thead th {\n",
       "        text-align: right;\n",
       "    }\n",
       "</style>\n",
       "<table border=\"1\" class=\"dataframe\">\n",
       "  <thead>\n",
       "    <tr style=\"text-align: right;\">\n",
       "      <th></th>\n",
       "      <th>0</th>\n",
       "      <th>1</th>\n",
       "      <th>2</th>\n",
       "      <th>3</th>\n",
       "      <th>4</th>\n",
       "    </tr>\n",
       "    <tr>\n",
       "      <th>TICKER</th>\n",
       "      <th></th>\n",
       "      <th></th>\n",
       "      <th></th>\n",
       "      <th></th>\n",
       "      <th></th>\n",
       "    </tr>\n",
       "  </thead>\n",
       "  <tbody>\n",
       "    <tr>\n",
       "      <th>BCOM Index</th>\n",
       "      <td>-0.000000</td>\n",
       "      <td>0.000000</td>\n",
       "      <td>0.000000</td>\n",
       "      <td>0.633379</td>\n",
       "      <td>-0.0</td>\n",
       "    </tr>\n",
       "    <tr>\n",
       "      <th>BCOMAG Index</th>\n",
       "      <td>-0.000000</td>\n",
       "      <td>0.000000</td>\n",
       "      <td>0.000000</td>\n",
       "      <td>0.828109</td>\n",
       "      <td>-0.0</td>\n",
       "    </tr>\n",
       "    <tr>\n",
       "      <th>BCOMIN Index</th>\n",
       "      <td>0.000000</td>\n",
       "      <td>0.592506</td>\n",
       "      <td>-0.000000</td>\n",
       "      <td>0.606779</td>\n",
       "      <td>0.0</td>\n",
       "    </tr>\n",
       "    <tr>\n",
       "      <th>BCS5TRUU Index</th>\n",
       "      <td>1.039806</td>\n",
       "      <td>-0.000000</td>\n",
       "      <td>-0.000000</td>\n",
       "      <td>0.000000</td>\n",
       "      <td>0.0</td>\n",
       "    </tr>\n",
       "    <tr>\n",
       "      <th>BXN Index</th>\n",
       "      <td>0.975023</td>\n",
       "      <td>-0.000000</td>\n",
       "      <td>-0.000000</td>\n",
       "      <td>-0.000000</td>\n",
       "      <td>0.0</td>\n",
       "    </tr>\n",
       "    <tr>\n",
       "      <th>...</th>\n",
       "      <td>...</td>\n",
       "      <td>...</td>\n",
       "      <td>...</td>\n",
       "      <td>...</td>\n",
       "      <td>...</td>\n",
       "    </tr>\n",
       "    <tr>\n",
       "      <th>VIX Index</th>\n",
       "      <td>0.000000</td>\n",
       "      <td>0.000000</td>\n",
       "      <td>-0.914191</td>\n",
       "      <td>0.000000</td>\n",
       "      <td>0.0</td>\n",
       "    </tr>\n",
       "    <tr>\n",
       "      <th>VKOSPI Index</th>\n",
       "      <td>-0.000000</td>\n",
       "      <td>0.000000</td>\n",
       "      <td>-0.856474</td>\n",
       "      <td>0.000000</td>\n",
       "      <td>0.0</td>\n",
       "    </tr>\n",
       "    <tr>\n",
       "      <th>VNKY Index</th>\n",
       "      <td>-0.000000</td>\n",
       "      <td>0.000000</td>\n",
       "      <td>-0.667019</td>\n",
       "      <td>-0.000000</td>\n",
       "      <td>0.0</td>\n",
       "    </tr>\n",
       "    <tr>\n",
       "      <th>XAU Curncy</th>\n",
       "      <td>0.702932</td>\n",
       "      <td>-0.584993</td>\n",
       "      <td>-0.000000</td>\n",
       "      <td>0.000000</td>\n",
       "      <td>0.0</td>\n",
       "    </tr>\n",
       "    <tr>\n",
       "      <th>XCMP Index</th>\n",
       "      <td>1.051992</td>\n",
       "      <td>-0.000000</td>\n",
       "      <td>-0.000000</td>\n",
       "      <td>0.000000</td>\n",
       "      <td>0.0</td>\n",
       "    </tr>\n",
       "  </tbody>\n",
       "</table>\n",
       "<p>229 rows × 5 columns</p>\n",
       "</div>"
      ],
      "text/plain": [
       "                       0         1         2         3    4\n",
       "TICKER                                                     \n",
       "BCOM Index     -0.000000  0.000000  0.000000  0.633379 -0.0\n",
       "BCOMAG Index   -0.000000  0.000000  0.000000  0.828109 -0.0\n",
       "BCOMIN Index    0.000000  0.592506 -0.000000  0.606779  0.0\n",
       "BCS5TRUU Index  1.039806 -0.000000 -0.000000  0.000000  0.0\n",
       "BXN Index       0.975023 -0.000000 -0.000000 -0.000000  0.0\n",
       "...                  ...       ...       ...       ...  ...\n",
       "VIX Index       0.000000  0.000000 -0.914191  0.000000  0.0\n",
       "VKOSPI Index   -0.000000  0.000000 -0.856474  0.000000  0.0\n",
       "VNKY Index     -0.000000  0.000000 -0.667019 -0.000000  0.0\n",
       "XAU Curncy      0.702932 -0.584993 -0.000000  0.000000  0.0\n",
       "XCMP Index      1.051992 -0.000000 -0.000000  0.000000  0.0\n",
       "\n",
       "[229 rows x 5 columns]"
      ]
     },
     "execution_count": 26,
     "metadata": {},
     "output_type": "execute_result"
    }
   ],
   "source": [
    "looking_loading"
   ]
  },
  {
   "cell_type": "markdown",
   "id": "05db6fa2",
   "metadata": {},
   "source": [
    "### 요인분석 결과 : 잠재요인 파악\n",
    "- Factor0 : 주식마켓 팩터\n",
    "- Factor1: 곡물 등 원자재, 에너지, 금리\n",
    "- Factor2 : 변동성의 반대방향 팩터 -> (-) 붙이면 변동성 팩터\n",
    "- Factor3 : 미국 통화정책, 달러가치와 관련된 팩터"
   ]
  },
  {
   "cell_type": "code",
   "execution_count": 27,
   "id": "57d78119",
   "metadata": {
    "scrolled": false
   },
   "outputs": [],
   "source": [
    "cf = pd.DataFrame(fa.transform(temp), index=temp.index, columns= ['주식시장요인', '원자재요인','변동성요인', '미국통화정책요인', '기타공통요인']) # 팩터 스코어 (# of time stamp x # of factors)\n",
    "cf['변동성요인']*=-1"
   ]
  },
  {
   "cell_type": "code",
   "execution_count": 28,
   "id": "631bdb8e",
   "metadata": {},
   "outputs": [
    {
     "data": {
      "text/html": [
       "<div>\n",
       "<style scoped>\n",
       "    .dataframe tbody tr th:only-of-type {\n",
       "        vertical-align: middle;\n",
       "    }\n",
       "\n",
       "    .dataframe tbody tr th {\n",
       "        vertical-align: top;\n",
       "    }\n",
       "\n",
       "    .dataframe thead th {\n",
       "        text-align: right;\n",
       "    }\n",
       "</style>\n",
       "<table border=\"1\" class=\"dataframe\">\n",
       "  <thead>\n",
       "    <tr style=\"text-align: right;\">\n",
       "      <th></th>\n",
       "      <th>주식시장요인</th>\n",
       "      <th>원자재요인</th>\n",
       "      <th>변동성요인</th>\n",
       "      <th>미국통화정책요인</th>\n",
       "      <th>기타공통요인</th>\n",
       "    </tr>\n",
       "  </thead>\n",
       "  <tbody>\n",
       "    <tr>\n",
       "      <th>주식시장요인</th>\n",
       "      <td>1.000000</td>\n",
       "      <td>-0.155170</td>\n",
       "      <td>-0.198039</td>\n",
       "      <td>-0.160211</td>\n",
       "      <td>-0.038365</td>\n",
       "    </tr>\n",
       "    <tr>\n",
       "      <th>원자재요인</th>\n",
       "      <td>-0.155170</td>\n",
       "      <td>1.000000</td>\n",
       "      <td>-0.454963</td>\n",
       "      <td>-0.130131</td>\n",
       "      <td>0.291122</td>\n",
       "    </tr>\n",
       "    <tr>\n",
       "      <th>변동성요인</th>\n",
       "      <td>-0.198039</td>\n",
       "      <td>-0.454963</td>\n",
       "      <td>1.000000</td>\n",
       "      <td>0.071492</td>\n",
       "      <td>-0.184399</td>\n",
       "    </tr>\n",
       "    <tr>\n",
       "      <th>미국통화정책요인</th>\n",
       "      <td>-0.160211</td>\n",
       "      <td>-0.130131</td>\n",
       "      <td>0.071492</td>\n",
       "      <td>1.000000</td>\n",
       "      <td>0.143814</td>\n",
       "    </tr>\n",
       "    <tr>\n",
       "      <th>기타공통요인</th>\n",
       "      <td>-0.038365</td>\n",
       "      <td>0.291122</td>\n",
       "      <td>-0.184399</td>\n",
       "      <td>0.143814</td>\n",
       "      <td>1.000000</td>\n",
       "    </tr>\n",
       "  </tbody>\n",
       "</table>\n",
       "</div>"
      ],
      "text/plain": [
       "            주식시장요인     원자재요인     변동성요인  미국통화정책요인    기타공통요인\n",
       "주식시장요인    1.000000 -0.155170 -0.198039 -0.160211 -0.038365\n",
       "원자재요인    -0.155170  1.000000 -0.454963 -0.130131  0.291122\n",
       "변동성요인    -0.198039 -0.454963  1.000000  0.071492 -0.184399\n",
       "미국통화정책요인 -0.160211 -0.130131  0.071492  1.000000  0.143814\n",
       "기타공통요인   -0.038365  0.291122 -0.184399  0.143814  1.000000"
      ]
     },
     "execution_count": 28,
     "metadata": {},
     "output_type": "execute_result"
    }
   ],
   "source": [
    "cf.corr()"
   ]
  },
  {
   "cell_type": "code",
   "execution_count": 29,
   "id": "70b38fd3",
   "metadata": {},
   "outputs": [],
   "source": [
    "stock_Fund = np.log((data['FUND_ID'].dropna().resample('W-Fri').mean()))\n",
    "sensitivity_df = pd.concat([stock_Fund, cf],axis=1).dropna(how='all')"
   ]
  },
  {
   "cell_type": "code",
   "execution_count": null,
   "id": "607e122c",
   "metadata": {},
   "outputs": [],
   "source": [
    "sensitivity_df.corr()"
   ]
  },
  {
   "cell_type": "code",
   "execution_count": 121,
   "id": "8c2f33e3",
   "metadata": {
    "scrolled": true
   },
   "outputs": [
    {
     "data": {
      "text/html": [
       "<div>\n",
       "<style scoped>\n",
       "    .dataframe tbody tr th:only-of-type {\n",
       "        vertical-align: middle;\n",
       "    }\n",
       "\n",
       "    .dataframe tbody tr th {\n",
       "        vertical-align: top;\n",
       "    }\n",
       "\n",
       "    .dataframe thead th {\n",
       "        text-align: right;\n",
       "    }\n",
       "</style>\n",
       "<table border=\"1\" class=\"dataframe\">\n",
       "  <thead>\n",
       "    <tr style=\"text-align: right;\">\n",
       "      <th></th>\n",
       "      <th>0</th>\n",
       "      <th>1</th>\n",
       "      <th>2</th>\n",
       "      <th>3</th>\n",
       "      <th>4</th>\n",
       "      <th>5</th>\n",
       "    </tr>\n",
       "  </thead>\n",
       "  <tbody>\n",
       "    <tr>\n",
       "      <th>model</th>\n",
       "      <td>R-squared</td>\n",
       "      <td>F-test prob</td>\n",
       "      <td>Df Residuals</td>\n",
       "      <td></td>\n",
       "      <td></td>\n",
       "      <td></td>\n",
       "    </tr>\n",
       "    <tr>\n",
       "      <th></th>\n",
       "      <td>0.387</td>\n",
       "      <td>0.0</td>\n",
       "      <td>290.0</td>\n",
       "      <td></td>\n",
       "      <td></td>\n",
       "      <td></td>\n",
       "    </tr>\n",
       "    <tr>\n",
       "      <th></th>\n",
       "      <td>coef</td>\n",
       "      <td>std err</td>\n",
       "      <td>t</td>\n",
       "      <td>P&gt;|t|</td>\n",
       "      <td>[0.025</td>\n",
       "      <td>0.975]</td>\n",
       "    </tr>\n",
       "    <tr>\n",
       "      <th>intercept</th>\n",
       "      <td>7.04</td>\n",
       "      <td>0.008</td>\n",
       "      <td>891.696</td>\n",
       "      <td>0.0</td>\n",
       "      <td>7.024</td>\n",
       "      <td>7.055</td>\n",
       "    </tr>\n",
       "    <tr>\n",
       "      <th>주식시장요인</th>\n",
       "      <td>0.046</td>\n",
       "      <td>0.005</td>\n",
       "      <td>9.812</td>\n",
       "      <td>0.0</td>\n",
       "      <td>0.036</td>\n",
       "      <td>0.055</td>\n",
       "    </tr>\n",
       "    <tr>\n",
       "      <th>원자재요인</th>\n",
       "      <td>0.031</td>\n",
       "      <td>0.004</td>\n",
       "      <td>7.365</td>\n",
       "      <td>0.0</td>\n",
       "      <td>0.023</td>\n",
       "      <td>0.04</td>\n",
       "    </tr>\n",
       "    <tr>\n",
       "      <th>변동성요인</th>\n",
       "      <td>0.014</td>\n",
       "      <td>0.003</td>\n",
       "      <td>5.593</td>\n",
       "      <td>0.0</td>\n",
       "      <td>0.009</td>\n",
       "      <td>0.02</td>\n",
       "    </tr>\n",
       "    <tr>\n",
       "      <th>미국통화정책요인</th>\n",
       "      <td>-0.017</td>\n",
       "      <td>0.002</td>\n",
       "      <td>-7.634</td>\n",
       "      <td>0.0</td>\n",
       "      <td>-0.022</td>\n",
       "      <td>-0.013</td>\n",
       "    </tr>\n",
       "    <tr>\n",
       "      <th>기타공통요인</th>\n",
       "      <td>0.001</td>\n",
       "      <td>0.002</td>\n",
       "      <td>0.593</td>\n",
       "      <td>0.554</td>\n",
       "      <td>-0.003</td>\n",
       "      <td>0.006</td>\n",
       "    </tr>\n",
       "  </tbody>\n",
       "</table>\n",
       "</div>"
      ],
      "text/plain": [
       "                   0            1             2      3       4       5\n",
       "model      R-squared  F-test prob  Df Residuals                       \n",
       "               0.387          0.0         290.0                       \n",
       "                coef      std err             t  P>|t|  [0.025  0.975]\n",
       "intercept       7.04        0.008       891.696    0.0   7.024   7.055\n",
       "주식시장요인         0.046        0.005         9.812    0.0   0.036   0.055\n",
       "원자재요인          0.031        0.004         7.365    0.0   0.023    0.04\n",
       "변동성요인          0.014        0.003         5.593    0.0   0.009    0.02\n",
       "미국통화정책요인      -0.017        0.002        -7.634    0.0  -0.022  -0.013\n",
       "기타공통요인         0.001        0.002         0.593  0.554  -0.003   0.006"
      ]
     },
     "execution_count": 121,
     "metadata": {},
     "output_type": "execute_result"
    }
   ],
   "source": [
    "from statsmodels.formula.api import ols\n",
    "model = ols(formula = 'FUND_ID ~ 주식시장요인+원자재요인+변동성요인+미국통화정책요인+기타공통요인',data = sensitivity_df).fit()\n",
    "results_as_html = model.summary().tables[1].as_html()\n",
    "params = pd.read_html(results_as_html, header=0, index_col=0)[0]\n",
    "model_basic= pd.DataFrame([model.rsquared, model.f_pvalue, model.df_resid],['R-squared', 'F-test prob', 'Df Residuals'] )\n",
    "regress = pd.concat([model_basic.reset_index().T, params.T.reset_index().T]).replace(np.nan, '').applymap(lambda x: np.round(x,3) if type(x)==float else x)\n",
    "regress.index = ['model', '', '', 'intercept', '주식시장요인', '원자재요인', '변동성요인', '미국통화정책요인', '기타공통요인']\n",
    "regress"
   ]
  },
  {
   "cell_type": "code",
   "execution_count": null,
   "id": "0f160a41",
   "metadata": {
    "scrolled": false
   },
   "outputs": [],
   "source": [
    "sensitivity_df.corr().applymap(lambda x: np.round(x,3) if type(x)==float else x)"
   ]
  },
  {
   "cell_type": "code",
   "execution_count": null,
   "id": "37819cd3",
   "metadata": {
    "scrolled": false
   },
   "outputs": [],
   "source": [
    "from statsmodels.stats.outliers_influence import variance_inflation_factor\n",
    "\n",
    "vif = pd.DataFrame()\n",
    "vif['VIF Factor'] = [variance_inflation_factor(sensitivity_df.iloc[:,1:].values, i) for i in range(sensitivity_df.iloc[:,1:].shape[1])]\n",
    "vif['features'] = sensitivity_df.iloc[:,1:].columns\n",
    "vif = vif.sort_values('VIF Factor').reset_index(drop=True)\n",
    "vif  #다중공선성 없음!"
   ]
  },
  {
   "cell_type": "markdown",
   "id": "2f2ce058",
   "metadata": {},
   "source": [
    "### 1년 롤링 std가 높은 기간 picking 하는 기능"
   ]
  },
  {
   "cell_type": "code",
   "execution_count": null,
   "id": "e9660172",
   "metadata": {
    "scrolled": true
   },
   "outputs": [],
   "source": [
    "qry = \"SELECT * FROM DATABASE ORDER BY BASEDATE\"\n",
    "FUND_ADJ_PRICE = execute3(qry)\n",
    "\n",
    "match_fund_name = {}\n",
    "\n",
    "data = pivot(FUND_ADJ_PRICE, 'BASEDATE', 'FUND_CD', 'FUND_ADJ_PRICE')[match_fund_name.keys()]\n",
    "data.index = pd.to_datetime(data.index)\n",
    "rt = data.pct_change().dropna(how='all')"
   ]
  },
  {
   "cell_type": "code",
   "execution_count": null,
   "id": "d84cae49",
   "metadata": {
    "scrolled": true
   },
   "outputs": [],
   "source": [
    "return_data = rt['FUND_ID']\n",
    "time_set, to_show_warning =picking_high_std2(return_data, 260, 0.8)\n",
    "time_set"
   ]
  },
  {
   "cell_type": "code",
   "execution_count": null,
   "id": "ffe3966a",
   "metadata": {},
   "outputs": [],
   "source": [
    "import seaborn as sns\n",
    "import matplotlib.pyplot as plt\n",
    "sns.kdeplot(to_show_warning, bw_adjust=0.0225, fill=True, color='r')\n",
    "plt.xlim(x_start)  # x축을 port_ind_std.index[0] 부터 시작되게 해야함\n",
    "# if sorted(to_show_warning)[-1] > (datetime.datetime.now() - relativedelta(weeks=2)):\n",
    "if to_show_warning[-1] > (x.index[-1] - relativedelta(weeks=2)):\n",
    "    print('최근 변동폭이 크니 주의요망')"
   ]
  },
  {
   "cell_type": "code",
   "execution_count": null,
   "id": "541301f8",
   "metadata": {},
   "outputs": [],
   "source": [
    "fig = make_subplots()\n",
    "trace = go.Histogram(x=to_show_warning, marker=dict(color='rgb(240,128,128)'))\n",
    "fig.add_trace(trace)\n",
    "fig.update_layout(legend=dict(x=1,\n",
    "                    y=1,\n",
    "                    traceorder='normal',\n",
    "                    font=dict(family='sans-serif',\n",
    "                            size=12,\n",
    "                            color='black')),\n",
    "            margin=dict(l=0,r=0,t=30,b=0),\n",
    "            title=dict(text='{}일 rolling 변동성'.format(260),\n",
    "                    pad_b=True, font=dict(family='Arial', size=25),\n",
    "                    x=0.5),\n",
    "            xaxis_range=[start,end], xaxis=dict(tickangle=90))"
   ]
  },
  {
   "cell_type": "code",
   "execution_count": null,
   "id": "3d9f7713",
   "metadata": {},
   "outputs": [],
   "source": [
    "def table(df):\n",
    "    cum_return = ((1+df).prod()-1)*100   #단위가 %,  cum_return값이 42면 n년 동안 142%가 되었다. 1.42배 됐다\n",
    "    #     num_of_days = (all_in_one.index[-1] - all_in_one.index[0]).days    #이건 business day가 아님\n",
    "    num_of_day = df.notna().sum(0)\n",
    "    annu_return = (((1+df).prod()**(262/num_of_day))-1)*100  #이미 단위가 %이므로  ann_return값이 1.41이면 매년 1.4%씩 성장\n",
    "    # num_of_months = df.shape[0]\n",
    "    # annu_return = (((1+df).prod()**(12/num_of_months))-1)*100 \n",
    "    word = 'day'\n",
    "    n = 252\n",
    "    significance_level=5\n",
    "\n",
    "    SD = np.std(df) * np.sqrt(n) * 100\n",
    "    dSD = np.std((df<0)*df) * np.sqrt(n) * 100\n",
    "    MDD=df.apply(cummdd).iloc[-1,:]*100\n",
    "    record = pd.DataFrame({\n",
    "        'cum_return(%)': cum_return,\n",
    "        'annu_return(%)': annu_return,\n",
    "        'SD(%)':SD,\n",
    "        'MDD(%)': MDD,\n",
    "        'R/SD':np.divide(annu_return, SD.tolist()),\n",
    "        'R/MDD': -np.divide(annu_return, MDD),\n",
    "        'Sortino' : np.divide(annu_return, dSD.tolist()),\n",
    "        'MDD lasting time ({})'.format(word): df.apply(mdd_period).iloc[0],\n",
    "        'MDD restoring time ({})'.format(word): df.apply(mdd_period).iloc[1],\n",
    "        '{}% VaR'.format(significance_level): df.apply(var, alpha=significance_level).iloc[0],\n",
    "        '{}% CVaR'.format(significance_level):df.apply(var, alpha=significance_level).iloc[1]\n",
    "    })\n",
    "\n",
    "    # cum_return_display = (1+df).cumprod()\n",
    "    # print(cum_return_display)\n",
    "    return pd.DataFrame(record.T)"
   ]
  },
  {
   "cell_type": "code",
   "execution_count": null,
   "id": "f6bf14ba",
   "metadata": {
    "scrolled": false
   },
   "outputs": [],
   "source": [
    "summary = pd.DataFrame()\n",
    "for_table = pd.DataFrame()\n",
    "for i in range(len(time_set)):\n",
    "    des = (((1+return_data).resample('M').prod()-1).dropna()).loc[time_set[i][0]:time_set[i][1]].describe()\n",
    "    des.name = str(time_set[i][0])+' - '+str(time_set[i][1])\n",
    "    summary = pd.concat([summary, des], axis=1)\n",
    "    temp_table = (return_data.dropna()).loc[time_set[i][0]:time_set[i][1]]\n",
    "    temp_table.name = str(time_set[i][0])+' - '+str(time_set[i][1])\n",
    "    for_table = pd.concat([for_table, temp_table], axis=1)\n",
    "display(table(for_table))\n",
    "display(summary.T.iloc[:,1:]*1200)"
   ]
  },
  {
   "cell_type": "markdown",
   "id": "805248ad",
   "metadata": {},
   "source": [
    "### 자산별 포트폴리오 성과 기여도 분해\n",
    "- 티커 뽑고 이용해서 가격데이터 받기     "
   ]
  },
  {
   "cell_type": "code",
   "execution_count": 30,
   "id": "c73b6841",
   "metadata": {
    "scrolled": true
   },
   "outputs": [],
   "source": [
    "qry = \"SELECT * FROM DATABASE\"\n",
    "asset_raw = execute3(qry)"
   ]
  },
  {
   "cell_type": "code",
   "execution_count": 31,
   "id": "5921495a",
   "metadata": {
    "scrolled": true
   },
   "outputs": [
    {
     "data": {
      "text/plain": [
       "(187, 21)"
      ]
     },
     "execution_count": 31,
     "metadata": {},
     "output_type": "execute_result"
    }
   ],
   "source": [
    "asset_raw.shape"
   ]
  },
  {
   "cell_type": "code",
   "execution_count": 32,
   "id": "90e8a41f",
   "metadata": {
    "scrolled": false
   },
   "outputs": [
    {
     "data": {
      "text/plain": [
       "array(['SPTR Index', 'M2WOU Index', 'M2EF Index', 'SPGSCITR Index',\n",
       "       'XAU Curncy', 'ACWI US Equity', '251350 KS Equity',\n",
       "       '195980 KS Equity', '153130 KS Equity', '114820 KS Equity',\n",
       "       '114260 KS Equity', '114100 KS Equity', 'IEFA US Equity',\n",
       "       'BOND US Equity', 'BND US Equity', 'VXUS US Equity',\n",
       "       'VWO US Equity', 'VT US Equity', 'VEA US Equity', 'JNK US Equity',\n",
       "       'IWM US Equity', 'IEMG US Equity', 'SCHD US Equity',\n",
       "       'RSP US Equity', 'QQQ US Equity', 'IAU US Equity', 'HYS US Equity',\n",
       "       'HYG US Equity', 'SPY US Equity', 'SPY US Equity', 'SPY US Equity',\n",
       "       'ESGU US Equity', 'EMXC US Equity', 'EMB US Equity',\n",
       "       'EFA US Equity', 'EEM US Equity', 'URTH US Equity',\n",
       "       'TOTL US Equity', 'AGG US Equity', 'ACWI US Equity',\n",
       "       '385550 KS Equity', '385540 KS Equity', 'ACWI US Equity',\n",
       "       'ACWI US Equity', 'KBPMMMCA Index', 'LBUSTRUU Index',\n",
       "       'KBPMABIN Index', 'IBOXHY Index', 'EMUSTRUU Index', 'M2WD Index',\n",
       "       'URTH US Equity', 'ACWI US Equity'], dtype=object)"
      ]
     },
     "execution_count": 32,
     "metadata": {},
     "output_type": "execute_result"
    }
   ],
   "source": [
    "CTGR = asset_raw.groupby(by=['MASKING']).get_group(('BM'))\n",
    "CTGR['TICKER'].values   #자산군 L-M-S분류별 BM만 뽑음"
   ]
  },
  {
   "cell_type": "code",
   "execution_count": 33,
   "id": "5151554a",
   "metadata": {
    "scrolled": false
   },
   "outputs": [],
   "source": [
    "index_ticker = CTGR.groupby('SECTOR').get_group('INDEX')['TICKER'].values.tolist()  ##BM 중에서도 Index만 뽑음\n",
    "# index_ticker = index_ticker+['SPX Index']"
   ]
  },
  {
   "cell_type": "code",
   "execution_count": 34,
   "id": "500ae7ca",
   "metadata": {},
   "outputs": [
    {
     "data": {
      "text/plain": [
       "['SPTR Index',\n",
       " 'M2WOU Index',\n",
       " 'M2EF Index',\n",
       " 'SPGSCITR Index',\n",
       " 'XAU Curncy',\n",
       " 'KBPMMMCA Index',\n",
       " 'LBUSTRUU Index',\n",
       " 'KBPMABIN Index',\n",
       " 'IBOXHY Index',\n",
       " 'EMUSTRUU Index',\n",
       " 'M2WD Index']"
      ]
     },
     "execution_count": 34,
     "metadata": {},
     "output_type": "execute_result"
    }
   ],
   "source": [
    "index_ticker"
   ]
  },
  {
   "cell_type": "code",
   "execution_count": 35,
   "id": "74186f5e",
   "metadata": {
    "scrolled": true
   },
   "outputs": [],
   "source": [
    "qry = \"SELECT * FROM DATABASE\"\n",
    "index_BB = execute3(qry)\n",
    "index_BB = pivot(index_BB, 'BASEDATE', 'TICKER', 'PX_LAST')\n",
    "index_BB.index = pd.to_datetime(index_BB.index)"
   ]
  },
  {
   "cell_type": "code",
   "execution_count": 36,
   "id": "18bd3420",
   "metadata": {
    "scrolled": true
   },
   "outputs": [],
   "source": [
    "qry = \"SELECT * FROM DATABASE\"\n",
    "FUND_ADJ_PRICE = execute3(qry)\n",
    "FUND_ADJ_PRICE = pivot(FUND_ADJ_PRICE, 'BASEDATE', 'FUND_CD', 'FUND_ADJ_PRICE')\n",
    "# FUND_ADJ_PRICE=FUND_ADJ_PRICE.pct_change().dropna(how='all')\n",
    "FUND_ADJ_PRICE=FUND_ADJ_PRICE.dropna(how='all')\n",
    "FUND_ADJ_PRICE.index = pd.to_datetime(FUND_ADJ_PRICE.index)"
   ]
  },
  {
   "cell_type": "code",
   "execution_count": 37,
   "id": "3a623a15",
   "metadata": {
    "scrolled": true
   },
   "outputs": [],
   "source": [
    "# # 12개의 대표 자산 일별 수익률 + portfolio index (지금은 random한 index의 선형합이라는 가상의 포트폴리오 설정)\n",
    "# asset = pd.concat([x['portfolio index'], index_BB[index_ticker]],axis=1).dropna()   \n",
    "# asset_log = asset.applymap(np.log)  #\"ci\"\n",
    "# # asset_log = asset.apply(standardize)     #\"colo\"\n",
    "# # asset_log = np.log(asset).diff().dropna() # \"n\""
   ]
  },
  {
   "cell_type": "code",
   "execution_count": 159,
   "id": "d5605d1a",
   "metadata": {},
   "outputs": [],
   "source": [
    "FUND_ADJ_PRICE['FUND_ID'].name = 'portfolio_index'\n",
    "asset = pd.concat([FUND_ADJ_PRICE['FUND_ID'], index_BB[index_ticker]],axis=1).dropna()   \n",
    "# asset_log = asset.applymap(np.log)  #\"ci\"\n",
    "# asset_log = asset.apply(standardize)     #\"colo\"\n",
    "asset_log = np.log(asset).diff().dropna() # \"n\""
   ]
  },
  {
   "cell_type": "code",
   "execution_count": 160,
   "id": "ffc8667e",
   "metadata": {
    "scrolled": true
   },
   "outputs": [
    {
     "name": "stdout",
     "output_type": "stream",
     "text": [
      "기준 n {'aic': 6, 'bic': 0, 'hqic': 4, 'fpe': 6}\n",
      "기준 co {'aic': 6, 'bic': 0, 'hqic': 4, 'fpe': 6}\n",
      "기준 ci {'aic': 6, 'bic': 0, 'hqic': 4, 'fpe': 6}\n",
      "기준 lo {'aic': 6, 'bic': 0, 'hqic': 4, 'fpe': 6}\n",
      "기준 li {'aic': 6, 'bic': 0, 'hqic': 4, 'fpe': 6}\n",
      "기준 cili {'aic': 6, 'bic': 0, 'hqic': 4, 'fpe': 6}\n",
      "기준 colo {'aic': 6, 'bic': 0, 'hqic': 4, 'fpe': 6}\n"
     ]
    }
   ],
   "source": [
    "import warnings\n",
    "warnings.filterwarnings(action='ignore')\n",
    "for i in ['n', 'co', 'ci', 'lo', 'li', 'cili', 'colo']:\n",
    "    lag_order = select_order(data=asset_log, maxlags=15, deterministic=i)\n",
    "    print('기준', i,lag_order.selected_orders)   #  lag = 1,2으로 해보자"
   ]
  },
  {
   "cell_type": "code",
   "execution_count": 161,
   "id": "76285701",
   "metadata": {
    "scrolled": false
   },
   "outputs": [
    {
     "data": {
      "text/plain": [
       "12"
      ]
     },
     "execution_count": 161,
     "metadata": {},
     "output_type": "execute_result"
    }
   ],
   "source": [
    "rank_test = select_coint_rank(asset_log, 0, lag_order.hqic, method=\"trace\",\n",
    "                              signif=0.05)\n",
    "rank_test.rank"
   ]
  },
  {
   "cell_type": "code",
   "execution_count": 162,
   "id": "fb7df72a",
   "metadata": {
    "scrolled": true
   },
   "outputs": [],
   "source": [
    "model = VECM(asset_log, deterministic=\"n\", k_ar_diff=lag_order.hqic, coint_rank=rank_test.rank)\n",
    "vecm_res = model.fit()"
   ]
  },
  {
   "cell_type": "markdown",
   "id": "fdb56acc",
   "metadata": {},
   "source": [
    "### 충격반응분석 : VECM(orth=False)쓰던가,  1차 차분해서 VAR(generalized)쓰던가"
   ]
  },
  {
   "cell_type": "code",
   "execution_count": 163,
   "id": "c5d58d34",
   "metadata": {
    "scrolled": true
   },
   "outputs": [],
   "source": [
    "## asset_log 데이터를 diff로 주면 0으로 수렴하고(변화율이니까), log나 표준화로 주면 수렴 안 함(level이니까)\n",
    "num_periods = 24\n",
    "ir = vecm_res.irf(periods=num_periods)\n",
    "# ir.plot(orth=False, response=0, plot_stderr=False)  # 첫 행이 portfolo가 영향을 받는 결과 / 첫 열이 portfolio가 영향을 주는 결과"
   ]
  },
  {
   "cell_type": "code",
   "execution_count": 164,
   "id": "a408a223",
   "metadata": {},
   "outputs": [],
   "source": [
    "import plotly.graph_objects as go"
   ]
  },
  {
   "cell_type": "code",
   "execution_count": 165,
   "id": "a2425608",
   "metadata": {},
   "outputs": [
    {
     "data": {
      "text/plain": [
       "(array([6], dtype=int64),)"
      ]
     },
     "execution_count": 165,
     "metadata": {},
     "output_type": "execute_result"
    }
   ],
   "source": [
    "np.where(asset_log.columns=='KBPMMMCA Index')"
   ]
  },
  {
   "cell_type": "code",
   "execution_count": 166,
   "id": "119a42f3",
   "metadata": {},
   "outputs": [
    {
     "data": {
      "application/vnd.plotly.v1+json": {
       "config": {
        "plotlyServerURL": "https://plot.ly"
       },
       "data": [
        {
         "mode": "lines",
         "type": "scatter",
         "x": [
          0,
          1,
          2,
          3,
          4,
          5,
          6,
          7,
          8,
          9,
          10,
          11,
          12,
          13,
          14,
          15,
          16,
          17,
          18,
          19,
          20,
          21,
          22,
          23,
          24
         ],
         "y": [
          0,
          -0.08823098879814606,
          -0.7336814480139296,
          -1.1556327671041857,
          -1.6618583464591277,
          -1.6903487558981325,
          -1.423228987701811,
          -1.4818842368757013,
          -1.2968130313380908,
          -1.2347007155327356,
          -1.144673867142856,
          -1.1643670253163156,
          -1.2136959918709043,
          -1.2040717826010068,
          -1.2231668305088403,
          -1.2301202065836583,
          -1.240113841865043,
          -1.235144137999268,
          -1.2290886870323903,
          -1.2344491013548609,
          -1.2417785123271154,
          -1.2385375812718395,
          -1.2370702710630808,
          -1.2361956735855497,
          -1.238822694959166
         ]
        },
        {
         "mode": "lines",
         "type": "scatter",
         "x": [
          0,
          1,
          2,
          3,
          4,
          5,
          6,
          7,
          8,
          9,
          10,
          11,
          12,
          13,
          14,
          15,
          16,
          17,
          18,
          19,
          20,
          21,
          22,
          23,
          24
         ],
         "y": [
          0,
          0,
          0,
          0,
          0,
          0,
          0,
          0,
          0,
          0,
          0,
          0,
          0,
          0,
          0,
          0,
          0,
          0,
          0,
          0,
          0,
          0,
          0,
          0,
          0
         ]
        }
       ],
       "layout": {
        "template": {
         "data": {
          "bar": [
           {
            "error_x": {
             "color": "#2a3f5f"
            },
            "error_y": {
             "color": "#2a3f5f"
            },
            "marker": {
             "line": {
              "color": "#E5ECF6",
              "width": 0.5
             },
             "pattern": {
              "fillmode": "overlay",
              "size": 10,
              "solidity": 0.2
             }
            },
            "type": "bar"
           }
          ],
          "barpolar": [
           {
            "marker": {
             "line": {
              "color": "#E5ECF6",
              "width": 0.5
             },
             "pattern": {
              "fillmode": "overlay",
              "size": 10,
              "solidity": 0.2
             }
            },
            "type": "barpolar"
           }
          ],
          "carpet": [
           {
            "aaxis": {
             "endlinecolor": "#2a3f5f",
             "gridcolor": "white",
             "linecolor": "white",
             "minorgridcolor": "white",
             "startlinecolor": "#2a3f5f"
            },
            "baxis": {
             "endlinecolor": "#2a3f5f",
             "gridcolor": "white",
             "linecolor": "white",
             "minorgridcolor": "white",
             "startlinecolor": "#2a3f5f"
            },
            "type": "carpet"
           }
          ],
          "choropleth": [
           {
            "colorbar": {
             "outlinewidth": 0,
             "ticks": ""
            },
            "type": "choropleth"
           }
          ],
          "contour": [
           {
            "colorbar": {
             "outlinewidth": 0,
             "ticks": ""
            },
            "colorscale": [
             [
              0,
              "#0d0887"
             ],
             [
              0.1111111111111111,
              "#46039f"
             ],
             [
              0.2222222222222222,
              "#7201a8"
             ],
             [
              0.3333333333333333,
              "#9c179e"
             ],
             [
              0.4444444444444444,
              "#bd3786"
             ],
             [
              0.5555555555555556,
              "#d8576b"
             ],
             [
              0.6666666666666666,
              "#ed7953"
             ],
             [
              0.7777777777777778,
              "#fb9f3a"
             ],
             [
              0.8888888888888888,
              "#fdca26"
             ],
             [
              1,
              "#f0f921"
             ]
            ],
            "type": "contour"
           }
          ],
          "contourcarpet": [
           {
            "colorbar": {
             "outlinewidth": 0,
             "ticks": ""
            },
            "type": "contourcarpet"
           }
          ],
          "heatmap": [
           {
            "colorbar": {
             "outlinewidth": 0,
             "ticks": ""
            },
            "colorscale": [
             [
              0,
              "#0d0887"
             ],
             [
              0.1111111111111111,
              "#46039f"
             ],
             [
              0.2222222222222222,
              "#7201a8"
             ],
             [
              0.3333333333333333,
              "#9c179e"
             ],
             [
              0.4444444444444444,
              "#bd3786"
             ],
             [
              0.5555555555555556,
              "#d8576b"
             ],
             [
              0.6666666666666666,
              "#ed7953"
             ],
             [
              0.7777777777777778,
              "#fb9f3a"
             ],
             [
              0.8888888888888888,
              "#fdca26"
             ],
             [
              1,
              "#f0f921"
             ]
            ],
            "type": "heatmap"
           }
          ],
          "heatmapgl": [
           {
            "colorbar": {
             "outlinewidth": 0,
             "ticks": ""
            },
            "colorscale": [
             [
              0,
              "#0d0887"
             ],
             [
              0.1111111111111111,
              "#46039f"
             ],
             [
              0.2222222222222222,
              "#7201a8"
             ],
             [
              0.3333333333333333,
              "#9c179e"
             ],
             [
              0.4444444444444444,
              "#bd3786"
             ],
             [
              0.5555555555555556,
              "#d8576b"
             ],
             [
              0.6666666666666666,
              "#ed7953"
             ],
             [
              0.7777777777777778,
              "#fb9f3a"
             ],
             [
              0.8888888888888888,
              "#fdca26"
             ],
             [
              1,
              "#f0f921"
             ]
            ],
            "type": "heatmapgl"
           }
          ],
          "histogram": [
           {
            "marker": {
             "pattern": {
              "fillmode": "overlay",
              "size": 10,
              "solidity": 0.2
             }
            },
            "type": "histogram"
           }
          ],
          "histogram2d": [
           {
            "colorbar": {
             "outlinewidth": 0,
             "ticks": ""
            },
            "colorscale": [
             [
              0,
              "#0d0887"
             ],
             [
              0.1111111111111111,
              "#46039f"
             ],
             [
              0.2222222222222222,
              "#7201a8"
             ],
             [
              0.3333333333333333,
              "#9c179e"
             ],
             [
              0.4444444444444444,
              "#bd3786"
             ],
             [
              0.5555555555555556,
              "#d8576b"
             ],
             [
              0.6666666666666666,
              "#ed7953"
             ],
             [
              0.7777777777777778,
              "#fb9f3a"
             ],
             [
              0.8888888888888888,
              "#fdca26"
             ],
             [
              1,
              "#f0f921"
             ]
            ],
            "type": "histogram2d"
           }
          ],
          "histogram2dcontour": [
           {
            "colorbar": {
             "outlinewidth": 0,
             "ticks": ""
            },
            "colorscale": [
             [
              0,
              "#0d0887"
             ],
             [
              0.1111111111111111,
              "#46039f"
             ],
             [
              0.2222222222222222,
              "#7201a8"
             ],
             [
              0.3333333333333333,
              "#9c179e"
             ],
             [
              0.4444444444444444,
              "#bd3786"
             ],
             [
              0.5555555555555556,
              "#d8576b"
             ],
             [
              0.6666666666666666,
              "#ed7953"
             ],
             [
              0.7777777777777778,
              "#fb9f3a"
             ],
             [
              0.8888888888888888,
              "#fdca26"
             ],
             [
              1,
              "#f0f921"
             ]
            ],
            "type": "histogram2dcontour"
           }
          ],
          "mesh3d": [
           {
            "colorbar": {
             "outlinewidth": 0,
             "ticks": ""
            },
            "type": "mesh3d"
           }
          ],
          "parcoords": [
           {
            "line": {
             "colorbar": {
              "outlinewidth": 0,
              "ticks": ""
             }
            },
            "type": "parcoords"
           }
          ],
          "pie": [
           {
            "automargin": true,
            "type": "pie"
           }
          ],
          "scatter": [
           {
            "fillpattern": {
             "fillmode": "overlay",
             "size": 10,
             "solidity": 0.2
            },
            "type": "scatter"
           }
          ],
          "scatter3d": [
           {
            "line": {
             "colorbar": {
              "outlinewidth": 0,
              "ticks": ""
             }
            },
            "marker": {
             "colorbar": {
              "outlinewidth": 0,
              "ticks": ""
             }
            },
            "type": "scatter3d"
           }
          ],
          "scattercarpet": [
           {
            "marker": {
             "colorbar": {
              "outlinewidth": 0,
              "ticks": ""
             }
            },
            "type": "scattercarpet"
           }
          ],
          "scattergeo": [
           {
            "marker": {
             "colorbar": {
              "outlinewidth": 0,
              "ticks": ""
             }
            },
            "type": "scattergeo"
           }
          ],
          "scattergl": [
           {
            "marker": {
             "colorbar": {
              "outlinewidth": 0,
              "ticks": ""
             }
            },
            "type": "scattergl"
           }
          ],
          "scattermapbox": [
           {
            "marker": {
             "colorbar": {
              "outlinewidth": 0,
              "ticks": ""
             }
            },
            "type": "scattermapbox"
           }
          ],
          "scatterpolar": [
           {
            "marker": {
             "colorbar": {
              "outlinewidth": 0,
              "ticks": ""
             }
            },
            "type": "scatterpolar"
           }
          ],
          "scatterpolargl": [
           {
            "marker": {
             "colorbar": {
              "outlinewidth": 0,
              "ticks": ""
             }
            },
            "type": "scatterpolargl"
           }
          ],
          "scatterternary": [
           {
            "marker": {
             "colorbar": {
              "outlinewidth": 0,
              "ticks": ""
             }
            },
            "type": "scatterternary"
           }
          ],
          "surface": [
           {
            "colorbar": {
             "outlinewidth": 0,
             "ticks": ""
            },
            "colorscale": [
             [
              0,
              "#0d0887"
             ],
             [
              0.1111111111111111,
              "#46039f"
             ],
             [
              0.2222222222222222,
              "#7201a8"
             ],
             [
              0.3333333333333333,
              "#9c179e"
             ],
             [
              0.4444444444444444,
              "#bd3786"
             ],
             [
              0.5555555555555556,
              "#d8576b"
             ],
             [
              0.6666666666666666,
              "#ed7953"
             ],
             [
              0.7777777777777778,
              "#fb9f3a"
             ],
             [
              0.8888888888888888,
              "#fdca26"
             ],
             [
              1,
              "#f0f921"
             ]
            ],
            "type": "surface"
           }
          ],
          "table": [
           {
            "cells": {
             "fill": {
              "color": "#EBF0F8"
             },
             "line": {
              "color": "white"
             }
            },
            "header": {
             "fill": {
              "color": "#C8D4E3"
             },
             "line": {
              "color": "white"
             }
            },
            "type": "table"
           }
          ]
         },
         "layout": {
          "annotationdefaults": {
           "arrowcolor": "#2a3f5f",
           "arrowhead": 0,
           "arrowwidth": 1
          },
          "autotypenumbers": "strict",
          "coloraxis": {
           "colorbar": {
            "outlinewidth": 0,
            "ticks": ""
           }
          },
          "colorscale": {
           "diverging": [
            [
             0,
             "#8e0152"
            ],
            [
             0.1,
             "#c51b7d"
            ],
            [
             0.2,
             "#de77ae"
            ],
            [
             0.3,
             "#f1b6da"
            ],
            [
             0.4,
             "#fde0ef"
            ],
            [
             0.5,
             "#f7f7f7"
            ],
            [
             0.6,
             "#e6f5d0"
            ],
            [
             0.7,
             "#b8e186"
            ],
            [
             0.8,
             "#7fbc41"
            ],
            [
             0.9,
             "#4d9221"
            ],
            [
             1,
             "#276419"
            ]
           ],
           "sequential": [
            [
             0,
             "#0d0887"
            ],
            [
             0.1111111111111111,
             "#46039f"
            ],
            [
             0.2222222222222222,
             "#7201a8"
            ],
            [
             0.3333333333333333,
             "#9c179e"
            ],
            [
             0.4444444444444444,
             "#bd3786"
            ],
            [
             0.5555555555555556,
             "#d8576b"
            ],
            [
             0.6666666666666666,
             "#ed7953"
            ],
            [
             0.7777777777777778,
             "#fb9f3a"
            ],
            [
             0.8888888888888888,
             "#fdca26"
            ],
            [
             1,
             "#f0f921"
            ]
           ],
           "sequentialminus": [
            [
             0,
             "#0d0887"
            ],
            [
             0.1111111111111111,
             "#46039f"
            ],
            [
             0.2222222222222222,
             "#7201a8"
            ],
            [
             0.3333333333333333,
             "#9c179e"
            ],
            [
             0.4444444444444444,
             "#bd3786"
            ],
            [
             0.5555555555555556,
             "#d8576b"
            ],
            [
             0.6666666666666666,
             "#ed7953"
            ],
            [
             0.7777777777777778,
             "#fb9f3a"
            ],
            [
             0.8888888888888888,
             "#fdca26"
            ],
            [
             1,
             "#f0f921"
            ]
           ]
          },
          "colorway": [
           "#636efa",
           "#EF553B",
           "#00cc96",
           "#ab63fa",
           "#FFA15A",
           "#19d3f3",
           "#FF6692",
           "#B6E880",
           "#FF97FF",
           "#FECB52"
          ],
          "font": {
           "color": "#2a3f5f"
          },
          "geo": {
           "bgcolor": "white",
           "lakecolor": "white",
           "landcolor": "#E5ECF6",
           "showlakes": true,
           "showland": true,
           "subunitcolor": "white"
          },
          "hoverlabel": {
           "align": "left"
          },
          "hovermode": "closest",
          "mapbox": {
           "style": "light"
          },
          "paper_bgcolor": "white",
          "plot_bgcolor": "#E5ECF6",
          "polar": {
           "angularaxis": {
            "gridcolor": "white",
            "linecolor": "white",
            "ticks": ""
           },
           "bgcolor": "#E5ECF6",
           "radialaxis": {
            "gridcolor": "white",
            "linecolor": "white",
            "ticks": ""
           }
          },
          "scene": {
           "xaxis": {
            "backgroundcolor": "#E5ECF6",
            "gridcolor": "white",
            "gridwidth": 2,
            "linecolor": "white",
            "showbackground": true,
            "ticks": "",
            "zerolinecolor": "white"
           },
           "yaxis": {
            "backgroundcolor": "#E5ECF6",
            "gridcolor": "white",
            "gridwidth": 2,
            "linecolor": "white",
            "showbackground": true,
            "ticks": "",
            "zerolinecolor": "white"
           },
           "zaxis": {
            "backgroundcolor": "#E5ECF6",
            "gridcolor": "white",
            "gridwidth": 2,
            "linecolor": "white",
            "showbackground": true,
            "ticks": "",
            "zerolinecolor": "white"
           }
          },
          "shapedefaults": {
           "line": {
            "color": "#2a3f5f"
           }
          },
          "ternary": {
           "aaxis": {
            "gridcolor": "white",
            "linecolor": "white",
            "ticks": ""
           },
           "baxis": {
            "gridcolor": "white",
            "linecolor": "white",
            "ticks": ""
           },
           "bgcolor": "#E5ECF6",
           "caxis": {
            "gridcolor": "white",
            "linecolor": "white",
            "ticks": ""
           }
          },
          "title": {
           "x": 0.05
          },
          "xaxis": {
           "automargin": true,
           "gridcolor": "white",
           "linecolor": "white",
           "ticks": "",
           "title": {
            "standoff": 15
           },
           "zerolinecolor": "white",
           "zerolinewidth": 2
          },
          "yaxis": {
           "automargin": true,
           "gridcolor": "white",
           "linecolor": "white",
           "ticks": "",
           "title": {
            "standoff": 15
           },
           "zerolinecolor": "white",
           "zerolinewidth": 2
          }
         }
        },
        "xaxis": {
         "anchor": "y",
         "domain": [
          0,
          1
         ]
        },
        "yaxis": {
         "anchor": "x",
         "domain": [
          0,
          1
         ]
        }
       }
      },
      "text/html": [
       "<div>                            <div id=\"75a7966a-f937-4d21-aa68-d1ff43c14226\" class=\"plotly-graph-div\" style=\"height:525px; width:100%;\"></div>            <script type=\"text/javascript\">                require([\"plotly\"], function(Plotly) {                    window.PLOTLYENV=window.PLOTLYENV || {};                                    if (document.getElementById(\"75a7966a-f937-4d21-aa68-d1ff43c14226\")) {                    Plotly.newPlot(                        \"75a7966a-f937-4d21-aa68-d1ff43c14226\",                        [{\"mode\":\"lines\",\"x\":[0,1,2,3,4,5,6,7,8,9,10,11,12,13,14,15,16,17,18,19,20,21,22,23,24],\"y\":[0.0,-0.08823098879814606,-0.7336814480139296,-1.1556327671041857,-1.6618583464591277,-1.6903487558981325,-1.423228987701811,-1.4818842368757013,-1.2968130313380908,-1.2347007155327356,-1.144673867142856,-1.1643670253163156,-1.2136959918709043,-1.2040717826010068,-1.2231668305088403,-1.2301202065836583,-1.240113841865043,-1.235144137999268,-1.2290886870323903,-1.2344491013548609,-1.2417785123271154,-1.2385375812718395,-1.2370702710630808,-1.2361956735855497,-1.238822694959166],\"type\":\"scatter\"},{\"mode\":\"lines\",\"x\":[0,1,2,3,4,5,6,7,8,9,10,11,12,13,14,15,16,17,18,19,20,21,22,23,24],\"y\":[0,0,0,0,0,0,0,0,0,0,0,0,0,0,0,0,0,0,0,0,0,0,0,0,0],\"type\":\"scatter\"}],                        {\"template\":{\"data\":{\"histogram2dcontour\":[{\"type\":\"histogram2dcontour\",\"colorbar\":{\"outlinewidth\":0,\"ticks\":\"\"},\"colorscale\":[[0.0,\"#0d0887\"],[0.1111111111111111,\"#46039f\"],[0.2222222222222222,\"#7201a8\"],[0.3333333333333333,\"#9c179e\"],[0.4444444444444444,\"#bd3786\"],[0.5555555555555556,\"#d8576b\"],[0.6666666666666666,\"#ed7953\"],[0.7777777777777778,\"#fb9f3a\"],[0.8888888888888888,\"#fdca26\"],[1.0,\"#f0f921\"]]}],\"choropleth\":[{\"type\":\"choropleth\",\"colorbar\":{\"outlinewidth\":0,\"ticks\":\"\"}}],\"histogram2d\":[{\"type\":\"histogram2d\",\"colorbar\":{\"outlinewidth\":0,\"ticks\":\"\"},\"colorscale\":[[0.0,\"#0d0887\"],[0.1111111111111111,\"#46039f\"],[0.2222222222222222,\"#7201a8\"],[0.3333333333333333,\"#9c179e\"],[0.4444444444444444,\"#bd3786\"],[0.5555555555555556,\"#d8576b\"],[0.6666666666666666,\"#ed7953\"],[0.7777777777777778,\"#fb9f3a\"],[0.8888888888888888,\"#fdca26\"],[1.0,\"#f0f921\"]]}],\"heatmap\":[{\"type\":\"heatmap\",\"colorbar\":{\"outlinewidth\":0,\"ticks\":\"\"},\"colorscale\":[[0.0,\"#0d0887\"],[0.1111111111111111,\"#46039f\"],[0.2222222222222222,\"#7201a8\"],[0.3333333333333333,\"#9c179e\"],[0.4444444444444444,\"#bd3786\"],[0.5555555555555556,\"#d8576b\"],[0.6666666666666666,\"#ed7953\"],[0.7777777777777778,\"#fb9f3a\"],[0.8888888888888888,\"#fdca26\"],[1.0,\"#f0f921\"]]}],\"heatmapgl\":[{\"type\":\"heatmapgl\",\"colorbar\":{\"outlinewidth\":0,\"ticks\":\"\"},\"colorscale\":[[0.0,\"#0d0887\"],[0.1111111111111111,\"#46039f\"],[0.2222222222222222,\"#7201a8\"],[0.3333333333333333,\"#9c179e\"],[0.4444444444444444,\"#bd3786\"],[0.5555555555555556,\"#d8576b\"],[0.6666666666666666,\"#ed7953\"],[0.7777777777777778,\"#fb9f3a\"],[0.8888888888888888,\"#fdca26\"],[1.0,\"#f0f921\"]]}],\"contourcarpet\":[{\"type\":\"contourcarpet\",\"colorbar\":{\"outlinewidth\":0,\"ticks\":\"\"}}],\"contour\":[{\"type\":\"contour\",\"colorbar\":{\"outlinewidth\":0,\"ticks\":\"\"},\"colorscale\":[[0.0,\"#0d0887\"],[0.1111111111111111,\"#46039f\"],[0.2222222222222222,\"#7201a8\"],[0.3333333333333333,\"#9c179e\"],[0.4444444444444444,\"#bd3786\"],[0.5555555555555556,\"#d8576b\"],[0.6666666666666666,\"#ed7953\"],[0.7777777777777778,\"#fb9f3a\"],[0.8888888888888888,\"#fdca26\"],[1.0,\"#f0f921\"]]}],\"surface\":[{\"type\":\"surface\",\"colorbar\":{\"outlinewidth\":0,\"ticks\":\"\"},\"colorscale\":[[0.0,\"#0d0887\"],[0.1111111111111111,\"#46039f\"],[0.2222222222222222,\"#7201a8\"],[0.3333333333333333,\"#9c179e\"],[0.4444444444444444,\"#bd3786\"],[0.5555555555555556,\"#d8576b\"],[0.6666666666666666,\"#ed7953\"],[0.7777777777777778,\"#fb9f3a\"],[0.8888888888888888,\"#fdca26\"],[1.0,\"#f0f921\"]]}],\"mesh3d\":[{\"type\":\"mesh3d\",\"colorbar\":{\"outlinewidth\":0,\"ticks\":\"\"}}],\"scatter\":[{\"fillpattern\":{\"fillmode\":\"overlay\",\"size\":10,\"solidity\":0.2},\"type\":\"scatter\"}],\"parcoords\":[{\"type\":\"parcoords\",\"line\":{\"colorbar\":{\"outlinewidth\":0,\"ticks\":\"\"}}}],\"scatterpolargl\":[{\"type\":\"scatterpolargl\",\"marker\":{\"colorbar\":{\"outlinewidth\":0,\"ticks\":\"\"}}}],\"bar\":[{\"error_x\":{\"color\":\"#2a3f5f\"},\"error_y\":{\"color\":\"#2a3f5f\"},\"marker\":{\"line\":{\"color\":\"#E5ECF6\",\"width\":0.5},\"pattern\":{\"fillmode\":\"overlay\",\"size\":10,\"solidity\":0.2}},\"type\":\"bar\"}],\"scattergeo\":[{\"type\":\"scattergeo\",\"marker\":{\"colorbar\":{\"outlinewidth\":0,\"ticks\":\"\"}}}],\"scatterpolar\":[{\"type\":\"scatterpolar\",\"marker\":{\"colorbar\":{\"outlinewidth\":0,\"ticks\":\"\"}}}],\"histogram\":[{\"marker\":{\"pattern\":{\"fillmode\":\"overlay\",\"size\":10,\"solidity\":0.2}},\"type\":\"histogram\"}],\"scattergl\":[{\"type\":\"scattergl\",\"marker\":{\"colorbar\":{\"outlinewidth\":0,\"ticks\":\"\"}}}],\"scatter3d\":[{\"type\":\"scatter3d\",\"line\":{\"colorbar\":{\"outlinewidth\":0,\"ticks\":\"\"}},\"marker\":{\"colorbar\":{\"outlinewidth\":0,\"ticks\":\"\"}}}],\"scattermapbox\":[{\"type\":\"scattermapbox\",\"marker\":{\"colorbar\":{\"outlinewidth\":0,\"ticks\":\"\"}}}],\"scatterternary\":[{\"type\":\"scatterternary\",\"marker\":{\"colorbar\":{\"outlinewidth\":0,\"ticks\":\"\"}}}],\"scattercarpet\":[{\"type\":\"scattercarpet\",\"marker\":{\"colorbar\":{\"outlinewidth\":0,\"ticks\":\"\"}}}],\"carpet\":[{\"aaxis\":{\"endlinecolor\":\"#2a3f5f\",\"gridcolor\":\"white\",\"linecolor\":\"white\",\"minorgridcolor\":\"white\",\"startlinecolor\":\"#2a3f5f\"},\"baxis\":{\"endlinecolor\":\"#2a3f5f\",\"gridcolor\":\"white\",\"linecolor\":\"white\",\"minorgridcolor\":\"white\",\"startlinecolor\":\"#2a3f5f\"},\"type\":\"carpet\"}],\"table\":[{\"cells\":{\"fill\":{\"color\":\"#EBF0F8\"},\"line\":{\"color\":\"white\"}},\"header\":{\"fill\":{\"color\":\"#C8D4E3\"},\"line\":{\"color\":\"white\"}},\"type\":\"table\"}],\"barpolar\":[{\"marker\":{\"line\":{\"color\":\"#E5ECF6\",\"width\":0.5},\"pattern\":{\"fillmode\":\"overlay\",\"size\":10,\"solidity\":0.2}},\"type\":\"barpolar\"}],\"pie\":[{\"automargin\":true,\"type\":\"pie\"}]},\"layout\":{\"autotypenumbers\":\"strict\",\"colorway\":[\"#636efa\",\"#EF553B\",\"#00cc96\",\"#ab63fa\",\"#FFA15A\",\"#19d3f3\",\"#FF6692\",\"#B6E880\",\"#FF97FF\",\"#FECB52\"],\"font\":{\"color\":\"#2a3f5f\"},\"hovermode\":\"closest\",\"hoverlabel\":{\"align\":\"left\"},\"paper_bgcolor\":\"white\",\"plot_bgcolor\":\"#E5ECF6\",\"polar\":{\"bgcolor\":\"#E5ECF6\",\"angularaxis\":{\"gridcolor\":\"white\",\"linecolor\":\"white\",\"ticks\":\"\"},\"radialaxis\":{\"gridcolor\":\"white\",\"linecolor\":\"white\",\"ticks\":\"\"}},\"ternary\":{\"bgcolor\":\"#E5ECF6\",\"aaxis\":{\"gridcolor\":\"white\",\"linecolor\":\"white\",\"ticks\":\"\"},\"baxis\":{\"gridcolor\":\"white\",\"linecolor\":\"white\",\"ticks\":\"\"},\"caxis\":{\"gridcolor\":\"white\",\"linecolor\":\"white\",\"ticks\":\"\"}},\"coloraxis\":{\"colorbar\":{\"outlinewidth\":0,\"ticks\":\"\"}},\"colorscale\":{\"sequential\":[[0.0,\"#0d0887\"],[0.1111111111111111,\"#46039f\"],[0.2222222222222222,\"#7201a8\"],[0.3333333333333333,\"#9c179e\"],[0.4444444444444444,\"#bd3786\"],[0.5555555555555556,\"#d8576b\"],[0.6666666666666666,\"#ed7953\"],[0.7777777777777778,\"#fb9f3a\"],[0.8888888888888888,\"#fdca26\"],[1.0,\"#f0f921\"]],\"sequentialminus\":[[0.0,\"#0d0887\"],[0.1111111111111111,\"#46039f\"],[0.2222222222222222,\"#7201a8\"],[0.3333333333333333,\"#9c179e\"],[0.4444444444444444,\"#bd3786\"],[0.5555555555555556,\"#d8576b\"],[0.6666666666666666,\"#ed7953\"],[0.7777777777777778,\"#fb9f3a\"],[0.8888888888888888,\"#fdca26\"],[1.0,\"#f0f921\"]],\"diverging\":[[0,\"#8e0152\"],[0.1,\"#c51b7d\"],[0.2,\"#de77ae\"],[0.3,\"#f1b6da\"],[0.4,\"#fde0ef\"],[0.5,\"#f7f7f7\"],[0.6,\"#e6f5d0\"],[0.7,\"#b8e186\"],[0.8,\"#7fbc41\"],[0.9,\"#4d9221\"],[1,\"#276419\"]]},\"xaxis\":{\"gridcolor\":\"white\",\"linecolor\":\"white\",\"ticks\":\"\",\"title\":{\"standoff\":15},\"zerolinecolor\":\"white\",\"automargin\":true,\"zerolinewidth\":2},\"yaxis\":{\"gridcolor\":\"white\",\"linecolor\":\"white\",\"ticks\":\"\",\"title\":{\"standoff\":15},\"zerolinecolor\":\"white\",\"automargin\":true,\"zerolinewidth\":2},\"scene\":{\"xaxis\":{\"backgroundcolor\":\"#E5ECF6\",\"gridcolor\":\"white\",\"linecolor\":\"white\",\"showbackground\":true,\"ticks\":\"\",\"zerolinecolor\":\"white\",\"gridwidth\":2},\"yaxis\":{\"backgroundcolor\":\"#E5ECF6\",\"gridcolor\":\"white\",\"linecolor\":\"white\",\"showbackground\":true,\"ticks\":\"\",\"zerolinecolor\":\"white\",\"gridwidth\":2},\"zaxis\":{\"backgroundcolor\":\"#E5ECF6\",\"gridcolor\":\"white\",\"linecolor\":\"white\",\"showbackground\":true,\"ticks\":\"\",\"zerolinecolor\":\"white\",\"gridwidth\":2}},\"shapedefaults\":{\"line\":{\"color\":\"#2a3f5f\"}},\"annotationdefaults\":{\"arrowcolor\":\"#2a3f5f\",\"arrowhead\":0,\"arrowwidth\":1},\"geo\":{\"bgcolor\":\"white\",\"landcolor\":\"#E5ECF6\",\"subunitcolor\":\"white\",\"showland\":true,\"showlakes\":true,\"lakecolor\":\"white\"},\"title\":{\"x\":0.05},\"mapbox\":{\"style\":\"light\"}}},\"xaxis\":{\"anchor\":\"y\",\"domain\":[0.0,1.0]},\"yaxis\":{\"anchor\":\"x\",\"domain\":[0.0,1.0]}},                        {\"responsive\": true}                    ).then(function(){\n",
       "                            \n",
       "var gd = document.getElementById('75a7966a-f937-4d21-aa68-d1ff43c14226');\n",
       "var x = new MutationObserver(function (mutations, observer) {{\n",
       "        var display = window.getComputedStyle(gd).display;\n",
       "        if (!display || display === 'none') {{\n",
       "            console.log([gd, 'removed!']);\n",
       "            Plotly.purge(gd);\n",
       "            observer.disconnect();\n",
       "        }}\n",
       "}});\n",
       "\n",
       "// Listen for the removal of the full notebook cells\n",
       "var notebookContainer = gd.closest('#notebook-container');\n",
       "if (notebookContainer) {{\n",
       "    x.observe(notebookContainer, {childList: true});\n",
       "}}\n",
       "\n",
       "// Listen for the clearing of the current output cell\n",
       "var outputEl = gd.closest('.output');\n",
       "if (outputEl) {{\n",
       "    x.observe(outputEl, {childList: true});\n",
       "}}\n",
       "\n",
       "                        })                };                });            </script>        </div>"
      ]
     },
     "metadata": {},
     "output_type": "display_data"
    }
   ],
   "source": [
    "fig = make_subplots()\n",
    "fig.add_trace(go.Scatter(y=ir.cum_effects[:, 0, 1], x=[x for x in range(0, 25)], mode='lines'))\n",
    "fig.add_trace(go.Scatter(y=[0]*25, x=[x for x in range(0, 25)], mode='lines'))"
   ]
  },
  {
   "cell_type": "code",
   "execution_count": 187,
   "id": "92988a28",
   "metadata": {
    "scrolled": true
   },
   "outputs": [],
   "source": [
    "shock = np.diag((ir.orth_irfs/vecm_res.ma_rep(24))[0,:,:])*100   ## 상승충격 "
   ]
  },
  {
   "cell_type": "code",
   "execution_count": 188,
   "id": "0f20fbcd",
   "metadata": {},
   "outputs": [
    {
     "data": {
      "text/plain": [
       "array([0.34260617, 1.19586391, 0.63984746, 0.710054  , 1.32342333,\n",
       "       0.80680509, 0.00358482, 0.24997314, 0.15950366, 0.23043293,\n",
       "       0.14436365, 0.04358218])"
      ]
     },
     "execution_count": 188,
     "metadata": {},
     "output_type": "execute_result"
    }
   ],
   "source": [
    "shock"
   ]
  },
  {
   "cell_type": "code",
   "execution_count": 186,
   "id": "961d8f3a",
   "metadata": {
    "scrolled": false
   },
   "outputs": [
    {
     "data": {
      "image/png": "[encoded data removed]",
      "text/plain": [
       "<Figure size 640x480 with 4 Axes>"
      ]
     },
     "metadata": {},
     "output_type": "display_data"
    }
   ],
   "source": [
    "import matplotlib.pyplot as plt\n",
    "n = 11 # 어떤 자산이 portfolio에 1std만큼 양의 충격을 t=0기에 주었는가에 해당\n",
    "plt.subplot(4, 1, 1)     # constant하게1% 충격을 줬을 때\n",
    "plt.plot(ir.irfs[:,0, n]/shock[n])\n",
    "plt.axhline(y=0, color='r', linewidth=1)\n",
    "plt.title('irfs')\n",
    "\n",
    "plt.subplot(4, 1, 2)\n",
    "plt.plot(100*ir.orth_irfs[:,0, n]/shock[n])\n",
    "plt.axhline(y=0, color='r', linewidth=1)\n",
    "plt.title('orth_irfs')\n",
    "\n",
    "plt.subplot(4, 1, 3)\n",
    "plt.plot(ir.cum_effects[:,0, n]/shock[n])\n",
    "plt.axhline(y=0, color='r', linewidth=1)\n",
    "plt.title('cum_irfs')\n",
    "\n",
    "plt.subplot(4, 1, 4)\n",
    "plt.plot(100*ir.orth_cum_effects[:,0, n]/shock[n])\n",
    "plt.axhline(y=0, color='r', linewidth=1)\n",
    "plt.title('orth_cum_irfs')\n",
    "\n",
    "plt.subplots_adjust(left=0.125, bottom=0.1,  right=0.9, top=0.9, wspace=0.2, hspace=1)"
   ]
  },
  {
   "cell_type": "code",
   "execution_count": 25,
   "id": "085d0941",
   "metadata": {
    "scrolled": false
   },
   "outputs": [
    {
     "data": {
      "text/html": [
       "<div>\n",
       "<style scoped>\n",
       "    .dataframe tbody tr th:only-of-type {\n",
       "        vertical-align: middle;\n",
       "    }\n",
       "\n",
       "    .dataframe tbody tr th {\n",
       "        vertical-align: top;\n",
       "    }\n",
       "\n",
       "    .dataframe thead th {\n",
       "        text-align: right;\n",
       "    }\n",
       "</style>\n",
       "<table border=\"1\" class=\"dataframe\">\n",
       "  <thead>\n",
       "    <tr style=\"text-align: right;\">\n",
       "      <th></th>\n",
       "      <th>portfolio_index</th>\n",
       "      <th>SPTR Index</th>\n",
       "      <th>M2WOU Index</th>\n",
       "      <th>M2EF Index</th>\n",
       "      <th>SPGSCITR Index</th>\n",
       "      <th>XAU Curncy</th>\n",
       "      <th>KBPMMMCA Index</th>\n",
       "      <th>LBUSTRUU Index</th>\n",
       "      <th>KBPMABIN Index</th>\n",
       "      <th>IBOXHY Index</th>\n",
       "      <th>EMUSTRUU Index</th>\n",
       "      <th>M2WD Index</th>\n",
       "    </tr>\n",
       "  </thead>\n",
       "  <tbody>\n",
       "    <tr>\n",
       "      <th>0</th>\n",
       "      <td>1.000000</td>\n",
       "      <td>0.000000</td>\n",
       "      <td>0.000000</td>\n",
       "      <td>0.000000</td>\n",
       "      <td>0.000000</td>\n",
       "      <td>0.000000</td>\n",
       "      <td>0.000000</td>\n",
       "      <td>0.000000</td>\n",
       "      <td>0.000000</td>\n",
       "      <td>0.000000</td>\n",
       "      <td>0.000000</td>\n",
       "      <td>0.000000</td>\n",
       "    </tr>\n",
       "    <tr>\n",
       "      <th>1</th>\n",
       "      <td>0.664478</td>\n",
       "      <td>-0.088039</td>\n",
       "      <td>-0.119982</td>\n",
       "      <td>-0.029831</td>\n",
       "      <td>0.012842</td>\n",
       "      <td>0.027061</td>\n",
       "      <td>1.506049</td>\n",
       "      <td>-0.031485</td>\n",
       "      <td>-0.081053</td>\n",
       "      <td>0.112345</td>\n",
       "      <td>-0.022511</td>\n",
       "      <td>1.090269</td>\n",
       "    </tr>\n",
       "    <tr>\n",
       "      <th>12</th>\n",
       "      <td>0.798935</td>\n",
       "      <td>-1.229522</td>\n",
       "      <td>-0.168811</td>\n",
       "      <td>-0.384835</td>\n",
       "      <td>0.029210</td>\n",
       "      <td>-0.006511</td>\n",
       "      <td>6.578812</td>\n",
       "      <td>-0.105317</td>\n",
       "      <td>-0.102252</td>\n",
       "      <td>-0.057661</td>\n",
       "      <td>0.423146</td>\n",
       "      <td>2.700342</td>\n",
       "    </tr>\n",
       "    <tr>\n",
       "      <th>18</th>\n",
       "      <td>0.788253</td>\n",
       "      <td>-1.244399</td>\n",
       "      <td>-0.188524</td>\n",
       "      <td>-0.390493</td>\n",
       "      <td>0.034182</td>\n",
       "      <td>-0.008670</td>\n",
       "      <td>6.930082</td>\n",
       "      <td>-0.117366</td>\n",
       "      <td>-0.122466</td>\n",
       "      <td>-0.080539</td>\n",
       "      <td>0.463022</td>\n",
       "      <td>2.754184</td>\n",
       "    </tr>\n",
       "    <tr>\n",
       "      <th>24</th>\n",
       "      <td>0.786608</td>\n",
       "      <td>-1.254925</td>\n",
       "      <td>-0.189059</td>\n",
       "      <td>-0.393010</td>\n",
       "      <td>0.033742</td>\n",
       "      <td>-0.007007</td>\n",
       "      <td>7.883535</td>\n",
       "      <td>-0.114709</td>\n",
       "      <td>-0.109065</td>\n",
       "      <td>-0.077234</td>\n",
       "      <td>0.460061</td>\n",
       "      <td>2.769984</td>\n",
       "    </tr>\n",
       "  </tbody>\n",
       "</table>\n",
       "</div>"
      ],
      "text/plain": [
       "    portfolio_index  SPTR Index  M2WOU Index  M2EF Index  SPGSCITR Index  \\\n",
       "0          1.000000    0.000000     0.000000    0.000000        0.000000   \n",
       "1          0.664478   -0.088039    -0.119982   -0.029831        0.012842   \n",
       "12         0.798935   -1.229522    -0.168811   -0.384835        0.029210   \n",
       "18         0.788253   -1.244399    -0.188524   -0.390493        0.034182   \n",
       "24         0.786608   -1.254925    -0.189059   -0.393010        0.033742   \n",
       "\n",
       "    XAU Curncy  KBPMMMCA Index  LBUSTRUU Index  KBPMABIN Index  IBOXHY Index  \\\n",
       "0     0.000000        0.000000        0.000000        0.000000      0.000000   \n",
       "1     0.027061        1.506049       -0.031485       -0.081053      0.112345   \n",
       "12   -0.006511        6.578812       -0.105317       -0.102252     -0.057661   \n",
       "18   -0.008670        6.930082       -0.117366       -0.122466     -0.080539   \n",
       "24   -0.007007        7.883535       -0.114709       -0.109065     -0.077234   \n",
       "\n",
       "    EMUSTRUU Index  M2WD Index  \n",
       "0         0.000000    0.000000  \n",
       "1        -0.022511    1.090269  \n",
       "12        0.423146    2.700342  \n",
       "18        0.463022    2.754184  \n",
       "24        0.460061    2.769984  "
      ]
     },
     "execution_count": 25,
     "metadata": {},
     "output_type": "execute_result"
    }
   ],
   "source": [
    "pd.DataFrame(ir.cum_effects[[0,1,12,18,24],0, :], index=[0,1,12,18,24], columns = asset_log.columns)"
   ]
  },
  {
   "cell_type": "markdown",
   "id": "785c85c0",
   "metadata": {},
   "source": [
    "## VECM에서 분산분해되도록 함수 만들기"
   ]
  },
  {
   "cell_type": "code",
   "execution_count": null,
   "id": "b1f96063",
   "metadata": {
    "scrolled": true
   },
   "outputs": [],
   "source": [
    "def mse(model, steps):\n",
    "        r\"\"\"\n",
    "        model = vecm_res\n",
    "        \"\"\"\n",
    "        ma_coefs = model.ma_rep(steps)\n",
    "\n",
    "        k = len(model.sigma_u)\n",
    "        forc_covs = np.zeros((steps, k, k))\n",
    "\n",
    "        prior = np.zeros((k, k))\n",
    "        for h in range(steps):\n",
    "            # Sigma(h) = Sigma(h-1) + Phi Sig_u Phi'\n",
    "            phi = ma_coefs[h]\n",
    "            var = phi @ model.sigma_u @ phi.T\n",
    "            forc_covs[h] = prior = prior + var\n",
    "\n",
    "        return forc_covs"
   ]
  },
  {
   "cell_type": "code",
   "execution_count": null,
   "id": "fdc5809b",
   "metadata": {
    "scrolled": true
   },
   "outputs": [],
   "source": [
    "def fevd(model, P=None, periods=None):  #model = vecm_res\n",
    "        from statsmodels.tsa.vector_ar import output\n",
    "        from statsmodels.tsa.vector_ar.output import VARSummary\n",
    "        from statsmodels.compat.python import lrange\n",
    "        from io import StringIO\n",
    "        \n",
    "        self_model = model\n",
    "        self_neqs = model.neqs\n",
    "        self_names = model.model.endog_names\n",
    "\n",
    "        temp_irf = model.irf(periods=periods)\n",
    "        self_orth_irfs = temp_irf.orth_irfs\n",
    "\n",
    "        # cumulative impulse responses\n",
    "        irfs = (self_orth_irfs[:periods] ** 2).cumsum(axis=0)\n",
    "\n",
    "        rng = lrange(self_neqs)\n",
    "        self_mse = mse(self_model, periods)[:, rng, rng]\n",
    "\n",
    "        # lag x equation x component\n",
    "        fevd = np.empty_like(irfs)\n",
    "\n",
    "        for i in range(periods):\n",
    "            fevd[i] = (irfs[i].T / self_mse[i]).T\n",
    "\n",
    "        # switch to equation x lag x component\n",
    "        self_decomp = fevd.swapaxes(0, 1)\n",
    "        \n",
    "        buf = StringIO()\n",
    "        rng = lrange(periods)\n",
    "        for i in range(self_neqs):\n",
    "            ppm = output.pprint_matrix(self_decomp[i], rng, self_names)\n",
    "            buf.write(\"FEVD for %s\\n\" % self_names[i])\n",
    "            buf.write(ppm + \"\\n\")\n",
    "            \n",
    "            globals()['fevd_{}'.format(self_names[i][:-6])] = pd.DataFrame(self_decomp[i], index=rng, columns=self_names)"
   ]
  },
  {
   "cell_type": "code",
   "execution_count": null,
   "id": "978cfb99",
   "metadata": {
    "scrolled": true
   },
   "outputs": [],
   "source": [
    "fevd(vecm_res, periods=24)\n",
    "graph = fevd_portfolio.iloc[-1,1:]/np.sum(fevd_portfolio.iloc[-1,1:])*100"
   ]
  },
  {
   "cell_type": "code",
   "execution_count": null,
   "id": "af3f9f57",
   "metadata": {},
   "outputs": [],
   "source": [
    "fevd(vecm_res, periods=24)"
   ]
  },
  {
   "cell_type": "code",
   "execution_count": null,
   "id": "01d21926",
   "metadata": {},
   "outputs": [],
   "source": [
    "plt.rcdefaults()"
   ]
  },
  {
   "cell_type": "code",
   "execution_count": null,
   "id": "fd0003a0",
   "metadata": {},
   "outputs": [],
   "source": [
    "graph"
   ]
  },
  {
   "cell_type": "code",
   "execution_count": null,
   "id": "4753bef7",
   "metadata": {},
   "outputs": [],
   "source": [
    "fig = make_subplots()\n",
    "fig.add_trace(go.Bar(y = graph, x=[x[:-6] for x in graph.index]))"
   ]
  },
  {
   "cell_type": "code",
   "execution_count": null,
   "id": "933a2ccf",
   "metadata": {
    "scrolled": false
   },
   "outputs": [],
   "source": [
    "fevd_summary = fevd_portfolio.iloc[[2,6,12,18,23],:]\n",
    "fevd_summary.index = [2,6,12,18,24]\n",
    "fevd_summary*100\n",
    "# 특정 펀드에 가장 영향을 많이 미치는 애들 : SPTR Index(=S&P500) XAU Curncy LBUSTRUU Index EMUSTRUU Index : dollar unhedged상품이 많고 금도 있음\n",
    "### -> 사실상 달러에 가장 영향 많이 받는다고 해석하도 무방\n",
    "# 특정 펀드에 가장 영향을 많이 미치는 애들 : SPTR Index(=S&P500)  M2WOU Index(=MSCI WORLD ex USA)\n",
    "### -> DM의 주식시장이 압도적으로 많이 영향 끼침"
   ]
  },
  {
   "cell_type": "code",
   "execution_count": null,
   "id": "0783c7c6",
   "metadata": {},
   "outputs": [],
   "source": [
    "fevd_summary.index[0]"
   ]
  },
  {
   "cell_type": "code",
   "execution_count": null,
   "id": "10fa6725",
   "metadata": {},
   "outputs": [],
   "source": [
    "np.where(asset_log.columns=='SPTR Index')[0][0]"
   ]
  }
 ],
 "metadata": {
  "kernelspec": {
   "display_name": "intern",
   "language": "python",
   "name": "intern"
  },
  "language_info": {
   "codemirror_mode": {
    "name": "ipython",
    "version": 3
   },
   "file_extension": ".py",
   "mimetype": "text/x-python",
   "name": "python",
   "nbconvert_exporter": "python",
   "pygments_lexer": "ipython3",
   "version": "3.10.6"
  }
 },
 "nbformat": 4,
 "nbformat_minor": 5
}
